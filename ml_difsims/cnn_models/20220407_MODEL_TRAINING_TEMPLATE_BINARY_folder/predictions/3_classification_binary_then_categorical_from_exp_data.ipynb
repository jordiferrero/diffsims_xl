{
 "cells": [
  {
   "cell_type": "markdown",
   "source": [
    "# Predicting phases for experimental dataset\n",
    "# For the binary-then-categorical classification"
   ],
   "metadata": {
    "collapsed": false,
    "pycharm": {
     "name": "#%% md\n"
    }
   }
  },
  {
   "cell_type": "code",
   "execution_count": 6,
   "metadata": {},
   "outputs": [
    {
     "name": "stdout",
     "output_type": "stream",
     "text": [
      "Num GPUs Available:  0\n"
     ]
    }
   ],
   "source": [
    "# Import packages\n",
    "%matplotlib qt\n",
    "import tensorflow as tf\n",
    "import numpy as np\n",
    "import os, glob\n",
    "import gc\n",
    "import tqdm\n",
    "import hyperspy.api as hs\n",
    "from tempfile import TemporaryFile\n",
    "import matplotlib.pyplot as plt\n",
    "from mpl_toolkits.axes_grid1 import make_axes_locatable\n",
    "\n",
    "print(\"Num GPUs Available: \", len(tf.config.list_physical_devices('GPU')))"
   ]
  },
  {
   "cell_type": "markdown",
   "metadata": {
    "pycharm": {
     "name": "#%% md\n"
    }
   },
   "source": [
    "## Import examples of experimental data to process\n",
    "If only one file to predict, make it a list `data` of a single path."
   ]
  },
  {
   "cell_type": "code",
   "execution_count": 20,
   "outputs": [],
   "source": [
    "root = r'C:\\Users\\Sauron\\PycharmProjects\\ml_pyxem\\mini_2'\n",
    "folder = r'experimental_data\\npz_files'\n",
    "\n",
    "file_extension = '*K.npz' # Select the q cropped file (rebinned)\n",
    "#file_extension = '*PX.npz' # Select the px cropped file (no rebin)\n",
    "phases = ['p4mbm_scaled_mixed_halide','gratia_2h','pbi2_2h']\n",
    "n_phases = len(phases)\n",
    "# Set the confidence threshold for setting perovskite phase confidently (between 0-100%)- Should not be lower than 0.5\n",
    "confidence_threshold = 0.65\n",
    "\n",
    "path = os.path.join(root,folder,file_extension)\n",
    "paths = glob.glob(path)\n",
    "paths.sort()\n",
    "paths\n",
    "\n",
   ],
   "metadata": {
    "collapsed": false,
    "pycharm": {
     "name": "#%%\n"
    }
   }
  },
  {
   "cell_type": "markdown",
   "source": [
    "## Load the models to predict from\n",
    "Will search for the 2 models required in the same folder or one folder up."
   ],
   "metadata": {
    "collapsed": false,
    "pycharm": {
     "name": "#%% md\n"
    }
   }
  },
  {
   "cell_type": "code",
   "execution_count": 21,
   "metadata": {
    "scrolled": true
   },
   "outputs": [
    {
     "name": "stdout",
     "output_type": "stream",
     "text": [
      "['..\\\\20220407_binary_then_multiclass_2nclasses_1epochs_64batchsize__train_33750n_0p9648ac__test_11250n_0p9626ac_part1.h5', '..\\\\20220407_binary_then_multiclass_2nclasses_1epochs_64batchsize__train_33750n_0p9661ac__test_11250n_0p9654ac_part2.h5']\n"
     ]
    }
   ],
   "source": [
    "model_file_extension = '*.h5'\n",
    "\n",
    "# Select which model to use\n",
    "models_path = glob.glob(model_file_extension, recursive=True)\n",
    "if models_path == []:\n",
    "    p = os.path.join('..', model_file_extension)\n",
    "    models_path = glob.glob(p, recursive=True)\n",
    "\n",
    "print(models_path)\n",
    "# Check there are 2 models saved\n",
    "assert len(models_path) == 2"
   ]
  },
  {
   "cell_type": "code",
   "execution_count": 22,
   "outputs": [
    {
     "name": "stdout",
     "output_type": "stream",
     "text": [
      "Model: \"sequential\"\n",
      "_________________________________________________________________\n",
      " Layer (type)                Output Shape              Param #   \n",
      "=================================================================\n",
      " conv1d (Conv1D)             (None, 142, 64)           448       \n",
      "                                                                 \n",
      " max_pooling1d (MaxPooling1D  (None, 71, 64)           0         \n",
      " )                                                               \n",
      "                                                                 \n",
      " conv1d_1 (Conv1D)           (None, 66, 64)            24640     \n",
      "                                                                 \n",
      " max_pooling1d_1 (MaxPooling  (None, 33, 64)           0         \n",
      " 1D)                                                             \n",
      "                                                                 \n",
      " dropout (Dropout)           (None, 33, 64)            0         \n",
      "                                                                 \n",
      " conv1d_2 (Conv1D)           (None, 28, 64)            24640     \n",
      "                                                                 \n",
      " max_pooling1d_2 (MaxPooling  (None, 14, 64)           0         \n",
      " 1D)                                                             \n",
      "                                                                 \n",
      " flatten (Flatten)           (None, 896)               0         \n",
      "                                                                 \n",
      " dense (Dense)               (None, 128)               114816    \n",
      "                                                                 \n",
      " dense_1 (Dense)             (None, 1)                 129       \n",
      "                                                                 \n",
      "=================================================================\n",
      "Total params: 164,673\n",
      "Trainable params: 164,673\n",
      "Non-trainable params: 0\n",
      "_________________________________________________________________\n",
      "Model: \"sequential_3\"\n",
      "_________________________________________________________________\n",
      " Layer (type)                Output Shape              Param #   \n",
      "=================================================================\n",
      " conv1d_9 (Conv1D)           (None, 142, 64)           448       \n",
      "                                                                 \n",
      " max_pooling1d_9 (MaxPooling  (None, 71, 64)           0         \n",
      " 1D)                                                             \n",
      "                                                                 \n",
      " conv1d_10 (Conv1D)          (None, 66, 64)            24640     \n",
      "                                                                 \n",
      " max_pooling1d_10 (MaxPoolin  (None, 33, 64)           0         \n",
      " g1D)                                                            \n",
      "                                                                 \n",
      " dropout_3 (Dropout)         (None, 33, 64)            0         \n",
      "                                                                 \n",
      " conv1d_11 (Conv1D)          (None, 28, 64)            24640     \n",
      "                                                                 \n",
      " max_pooling1d_11 (MaxPoolin  (None, 14, 64)           0         \n",
      " g1D)                                                            \n",
      "                                                                 \n",
      " flatten_3 (Flatten)         (None, 896)               0         \n",
      "                                                                 \n",
      " dense_6 (Dense)             (None, 128)               114816    \n",
      "                                                                 \n",
      " dense_7 (Dense)             (None, 1)                 129       \n",
      "                                                                 \n",
      "=================================================================\n",
      "Total params: 164,673\n",
      "Trainable params: 164,673\n",
      "Non-trainable params: 0\n",
      "_________________________________________________________________\n"
     ]
    },
    {
     "data": {
      "text/plain": "(None, None)"
     },
     "execution_count": 22,
     "metadata": {},
     "output_type": "execute_result"
    }
   ],
   "source": [
    "# Load both the binary and the categorical model\n",
    "m1_path = [p for p in models_path if 'part1' in p][0]\n",
    "model_1 = tf.keras.models.load_model(m1_path)\n",
    "m2_path = [p for p in models_path if 'part2' in p][0]\n",
    "model_2 = tf.keras.models.load_model(m2_path)\n",
    "\n",
    "model_1.summary(), model_2.summary()"
   ],
   "metadata": {
    "collapsed": false,
    "pycharm": {
     "name": "#%%\n"
    }
   }
  },
  {
   "cell_type": "code",
   "execution_count": 23,
   "metadata": {},
   "outputs": [
    {
     "name": "stderr",
     "output_type": "stream",
     "text": [
      "100%|██████████| 1/1 [00:06<00:00,  6.23s/it]\n"
     ]
    },
    {
     "name": "stdout",
     "output_type": "stream",
     "text": [
      "float32\n",
      "['p4mbm_scaled_mixed_halide', 'other']\n",
      "float32\n",
      "['gratia_2h', 'pbi2_2h']\n",
      "float32\n",
      "['p4mbm_scaled_mixed_halide', 'gratia_2h', 'pbi2_2h']\n"
     ]
    }
   ],
   "source": [
    "def reshape_to_hyperspy(numpy_pred_array_flat, numpy_original_2d_array, phases, signal_n_dim = 1):\n",
    "    shape = (numpy_original_2d_array.shape[0], numpy_original_2d_array.shape[1], signal_n_dim)\n",
    "    a = np.reshape(numpy_pred_array_flat, shape)\n",
    "    a = np.moveaxis(a, -1, 0)\n",
    "    s = hs.signals.Signal2D(a)\n",
    "\n",
    "    s.metadata.General.set_item(\"Phases\", phases)\n",
    "    s.metadata.General.set_item(\"Model 1 trained\", model1_basename)\n",
    "    s.metadata.General.set_item(\"Model 2 trained\", model2_basename)\n",
    "    return s\n",
    "\n",
    "def plot_categorical_map(hyperspy_2d_categorical_map):\n",
    "    f, ax = plt.subplots(figsize=(7,5))\n",
    "    dat = hyperspy_2d_categorical_map.T.data\n",
    "    im = ax.imshow(dat, cmap='viridis')\n",
    "    print(dat.dtype)\n",
    "    divider = make_axes_locatable(ax)\n",
    "    cax = divider.append_axes(\"right\", size=\"5%\", pad=0.05)\n",
    "    phases_names = s.metadata.General.Phases\n",
    "    print(phases_names)\n",
    "    cbar = plt.colorbar(im, cax=cax, ticks=np.arange(len(phases_names)))\n",
    "    cbar.set_ticklabels(phases_names)\n",
    "    f.suptitle('Classification (double CNN)')\n",
    "    f.tight_layout()\n",
    "    return\n",
    "\n",
    "######### Run the predicting\n",
    "\n",
    "# Load model\n",
    "model1_basename = os.path.basename(m1_path).split('.')[0]\n",
    "model2_basename = os.path.basename(m2_path).split('.')[0]\n",
    "model_dir = os.path.dirname(m1_path)\n",
    "\n",
    "for i, fname in enumerate(tqdm.tqdm(paths)):\n",
    "    # Load file and flatten\n",
    "    exp_name = os.path.basename(fname).split('.')[0]\n",
    "    exp_npzfile = np.load(fname)\n",
    "    exp_data = exp_npzfile['exp1d']\n",
    "    shape = (exp_data.shape[0] * exp_data.shape[1], exp_data.shape[2], 1)\n",
    "    exp_data_reshape = np.reshape(exp_data, shape)\n",
    "\n",
    "    ######## Binary prediction model 1\n",
    "    exp_preds_1 = model_1.predict(exp_data_reshape)\n",
    "    # Reshape, save and plot results\n",
    "    s = reshape_to_hyperspy(exp_preds_1, exp_data, phases=[phases[0], 'other'])\n",
    "    file_name = f'probability_preditions_model_1_{exp_name}.hspy'\n",
    "    s.save(file_name, overwrite=True)\n",
    "    plot_categorical_map(s)\n",
    "    plt.savefig(file_name.replace('hspy', 'png'))\n",
    "    plt.close()\n",
    "\n",
    "    # Crop out results above certain confidence value --> store in temp dictionary\n",
    "    # 0.0 is 100% perovskite confidence, 1.0 is 100% other phase\n",
    "    bin_val_threshold = 1 - confidence_threshold\n",
    "    below_threshold_bool = exp_preds_1 <= bin_val_threshold\n",
    "\n",
    "    ######## Prediction model 2\n",
    "    if n_phases - 1 == 2:\n",
    "        # It is a binary prediction again\n",
    "        exp_preds_2 = model_2.predict(exp_data_reshape)\n",
    "        # Mask results that were pvk first\n",
    "        exp_preds_2[below_threshold_bool] = np.nan\n",
    "        # Reshape, save and plot results\n",
    "        s = reshape_to_hyperspy(exp_preds_2, exp_data, phases=phases[1:])\n",
    "        file_name = f'probability_preditions_model_2_{exp_name}.hspy'\n",
    "        s.save(file_name, overwrite=True)\n",
    "        plot_categorical_map(s)\n",
    "        plt.savefig(file_name.replace('hspy', 'png'))\n",
    "        plt.close()\n",
    "\n",
    "        # Plot results all three phases (add the pvk phase as -1, then move all values +1 so it matches phases and i)\n",
    "        # Filter out to nan values if probability of second binary is smaller than threshold or higher than below_threshold_bool\n",
    "        unconfident_bool_low = exp_preds_2 <= 1 - confidence_threshold\n",
    "        unconfident_bool_high =  exp_preds_2 >= confidence_threshold\n",
    "        exp_preds_2[unconfident_bool_low] = np.nan\n",
    "        exp_preds_2[unconfident_bool_high] = np.nan\n",
    "        exp_pred_cat = np.around(exp_preds_2, 0)\n",
    "        exp_pred_cat[below_threshold_bool] = -1\n",
    "        exp_pred_cat += 1\n",
    "        # Reshape and save\n",
    "        s = reshape_to_hyperspy(exp_pred_cat, exp_data, phases=phases)\n",
    "        file_name = f'categorical_preditions_{exp_name}.hspy'\n",
    "        s.save(file_name, overwrite=True)\n",
    "        plot_categorical_map(s)\n",
    "        plt.savefig(file_name.replace('hspy', 'png'))\n",
    "        #plt.close()"
   ]
  },
  {
   "cell_type": "code",
   "execution_count": 23,
   "outputs": [],
   "source": [],
   "metadata": {
    "collapsed": false,
    "pycharm": {
     "name": "#%%\n"
    }
   }
  },
  {
   "cell_type": "code",
   "execution_count": null,
   "outputs": [],
   "source": [],
   "metadata": {
    "collapsed": false,
    "pycharm": {
     "name": "#%%\n"
    }
   }
  }
 ],
 "metadata": {
  "kernelspec": {
   "display_name": "Python 3",
   "language": "python",
   "name": "python3"
  },
  "language_info": {
   "codemirror_mode": {
    "name": "ipython",
    "version": 3
   },
   "file_extension": ".py",
   "mimetype": "text/x-python",
   "name": "python",
   "nbconvert_exporter": "python",
   "pygments_lexer": "ipython3",
   "version": "3.7.9"
  }
 },
 "nbformat": 4,
 "nbformat_minor": 4
}