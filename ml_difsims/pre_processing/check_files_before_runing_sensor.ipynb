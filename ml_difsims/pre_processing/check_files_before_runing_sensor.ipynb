{
 "cells": [
  {
   "cell_type": "markdown",
   "source": [
    "# Move files to right folder"
   ],
   "metadata": {
    "collapsed": false,
    "pycharm": {
     "name": "#%% md\n"
    }
   }
  },
  {
   "cell_type": "code",
   "execution_count": 10,
   "outputs": [
    {
     "ename": "AttributeError",
     "evalue": "'Signal1D' object has no attribute 'export_as_dictionary'",
     "output_type": "error",
     "traceback": [
      "\u001B[1;31m---------------------------------------------------------------------------\u001B[0m",
      "\u001B[1;31mAttributeError\u001B[0m                            Traceback (most recent call last)",
      "Input \u001B[1;32mIn [10]\u001B[0m, in \u001B[0;36m<module>\u001B[1;34m\u001B[0m\n\u001B[0;32m      1\u001B[0m \u001B[38;5;28;01mimport\u001B[39;00m \u001B[38;5;21;01mhyperspy\u001B[39;00m\u001B[38;5;21;01m.\u001B[39;00m\u001B[38;5;21;01mapi\u001B[39;00m \u001B[38;5;28;01mas\u001B[39;00m \u001B[38;5;21;01mhs\u001B[39;00m\n\u001B[0;32m      3\u001B[0m s \u001B[38;5;241m=\u001B[39m hs\u001B[38;5;241m.\u001B[39msignals\u001B[38;5;241m.\u001B[39mSignal1D([\u001B[38;5;241m1\u001B[39m])\n\u001B[1;32m----> 4\u001B[0m \u001B[43ms\u001B[49m\u001B[38;5;241;43m.\u001B[39;49m\u001B[43mexport_as_dictionary\u001B[49m()\n",
      "\u001B[1;31mAttributeError\u001B[0m: 'Signal1D' object has no attribute 'export_as_dictionary'"
     ]
    }
   ],
   "source": [
    "import hyperspy.api as hs\n",
    "\n",
    "s = hs.signals.Signal1D([1])\n",
    "s.export_as_dictionary()"
   ],
   "metadata": {
    "collapsed": false,
    "pycharm": {
     "name": "#%%\n"
    }
   }
  },
  {
   "cell_type": "code",
   "execution_count": 3,
   "outputs": [],
   "source": [
    "# THIS FILE CUTS AND PASTES SOME OF THE FILES TO A NEW FOLDER\n",
    "# (to separate small from big files)\n",
    "import os, glob, shutil\n",
    "import tqdm\n",
    "\n",
    "DATA_ROOT = r\"D:\\Data\\jf631\\simulations_diffsims_ml\\experimental\"\n",
    "data = []\n",
    "\n",
    "# Name of files\n",
    "data_wildcard = '**/2*_data.hdf5'\n",
    "md_wildcard = '**/2*.hdf'"
   ],
   "metadata": {
    "collapsed": false,
    "pycharm": {
     "name": "#%%\n"
    }
   }
  },
  {
   "cell_type": "code",
   "execution_count": 2,
   "outputs": [
    {
     "data": {
      "text/plain": "'{\"exp_data_root\": \"D:\\\\\\\\Data\\\\\\\\jf631\\\\\\\\simulations_diffsims_ml\\\\\\\\experimental\", \"file_wildcard\": \"**/2*_data.hdf5\", \"processed_exp_data_root\": \"D:\\\\\\\\Data\\\\\\\\jf631\\\\\\\\simulations_diffsims_ml\\\\\\\\experimental_processed\", \"save_full_hspy_dp\": false, \"save_full_hspy_rebin_dp\": true, \"save_full_hspy_radial\": true, \"save_crop_npz_radial\": true, \"recip_cal\": 0.005154, \"nav_axis_cal_dict\": {\"80000\": 9.58, \"100000\": 7.76, \"150000\": 5.13, \"200000\": 3.87, \"250000\": 3.09, \"300000\": 2.57, \"600000\": 1.29}, \"affine_matrix\": [[0.98051804, -0.01322819, 0.0], [-0.01322819, 0.9910181, 0.0], [0.0, 0.0, 1.0]], \"rotation_angle\": 73.13, \"rotation_correction\": false, \"mask_path\": \"with_exp_datafiles\", \"threshold_px_intensity\": 0, \"sqrt_signal\": false, \"rebin_nav\": 1, \"rebin_dp\": 1, \"radial_integration_1d\": true, \"radial_integration_2d\": true, \"beam_energy\": 200.0, \"crop_in_px\": true, \"cropping_start_px\": 13, \"cropping_stop_px\": 160, \"q_range_from_px_cropped_simulation\": [0.10777668889613681, 1.318191810345058]}'"
     },
     "execution_count": 2,
     "metadata": {},
     "output_type": "execute_result"
    }
   ],
   "source": [
    "import json\n",
    "\n",
    "config_dict = {\n",
    "    # Raw data files path (saved within folders of folders:\n",
    "    # exp_data_root (exp_name)\n",
    "    #   -> sample_type_name\n",
    "    #       -> single scan number\n",
    "    #           -> all raw files\n",
    "\n",
    "    #'exp_data_root': 'D:/Data/jf631/simulations_diffsims_ml/experimental',\n",
    "    'exp_data_root': \"D:\\Data\\jf631\\simulations_diffsims_ml\\experimental\",\n",
    "    'file_wildcard': '**/2*_data.hdf5',\n",
    "\n",
    "    # Save processed data (saved within folders of folders):\n",
    "    # processed_exp_data_root\n",
    "    #   -> processing step (npz, radial, centered_corrected_hspy)\n",
    "    #      -> sample_type_name\n",
    "    #           -> all processed files with their unique ID\n",
    "    'processed_exp_data_root': \"D:\\Data\\jf631\\simulations_diffsims_ml\\experimental_processed\",\n",
    "\n",
    "    # Additional files to save\n",
    "    'save_full_hspy_dp': False,\n",
    "    'save_full_hspy_rebin_dp': True,\n",
    "    'save_full_hspy_radial': True,\n",
    "    'save_crop_npz_radial': True,\n",
    "\n",
    "    # Calibration files\n",
    "    'recip_cal': 0.005154,\n",
    "    'nav_axis_cal_dict' : {\n",
    "                        '80000' : 9.58,\n",
    "                        '100000' : 7.76,\n",
    "                        '150000' : 5.13,\n",
    "                        '200000' : 3.87,\n",
    "                        '250000': 3.09,\n",
    "                        '300000' : 2.57,\n",
    "                        '600000' : 1.29,\n",
    "                    },\n",
    "\n",
    "    # Affine transform\n",
    "    'affine_matrix': [[ 0.98051804, -0.01322819,  0.        ],\n",
    "                      [-0.01322819,  0.9910181 ,  0.        ],\n",
    "                      [ 0.        ,  0.        ,  1.        ]],\n",
    "\n",
    "    'rotation_angle': 73.13, #deg\n",
    "    'rotation_correction': False,\n",
    "\n",
    "    # Load a mask to cover the dead pixels and the joints between detectors\n",
    "    # Can be a path or a str:\"with_exp_datafiles\" (will search for it in the exp data folders.\n",
    "    'mask_path':  \"with_exp_datafiles\",\n",
    "\n",
    "    # Parameters\n",
    "    # Threshold pixel intensity. It can be 0 or an integer.\n",
    "    'threshold_px_intensity': 0,\n",
    "    'sqrt_signal': False,\n",
    "\n",
    "    # Rebin any of the axes?\n",
    "    'rebin_nav': 1,\n",
    "    'rebin_dp': 1,\n",
    "\n",
    "    # Select which radial integrations to save\n",
    "    'radial_integration_1d': True,\n",
    "    'radial_integration_2d': True,\n",
    "    'beam_energy': 200.,\n",
    "\n",
    "    # Post processing parameters\n",
    "    'crop_in_px': True,\n",
    "    'cropping_start_px': 13,\n",
    "    'cropping_stop_px': 160,\n",
    "    # This is to correct for the mismatch in simulation/experimental radial integration\n",
    "    'q_range_from_px_cropped_simulation': [0.10777668889613681, 1.318191810345058],\n",
    "\n",
    "}\n",
    "\n",
    "json.dumps(config_dict)"
   ],
   "metadata": {
    "collapsed": false,
    "pycharm": {
     "name": "#%%\n"
    }
   }
  },
  {
   "cell_type": "code",
   "execution_count": 8,
   "outputs": [
    {
     "name": "stdout",
     "output_type": "stream",
     "text": [
      "0\n",
      "0\n",
      "0\n"
     ]
    }
   ],
   "source": [
    "files_dat = glob.glob(os.path.join(DATA_ROOT, data_wildcard), recursive=True)\n",
    "files_md = glob.glob(os.path.join(DATA_ROOT, md_wildcard), recursive=True)\n",
    "\n",
    "print(len(files_dat)), print(len(files_md))\n",
    "\n",
    "files = files_dat + files_md\n",
    "print(len(files))"
   ],
   "metadata": {
    "collapsed": false,
    "pycharm": {
     "name": "#%%\n"
    }
   }
  },
  {
   "cell_type": "code",
   "execution_count": 30,
   "outputs": [
    {
     "name": "stdout",
     "output_type": "stream",
     "text": [
      "F:\\PhD (and Midi)\\Data\\SED\\affan_halide_series\\br_00\\20211117_180519\\20211117_180519_data.hdf5\n",
      "Moved 20211117_180519_data.hdf5 well!\n",
      "F:\\PhD (and Midi)\\Data\\SED\\affan_halide_series\\br_00\\20211117_174242\\20211117_174242_data.hdf5\n",
      "Moved 20211117_174242_data.hdf5 well!\n",
      "F:\\PhD (and Midi)\\Data\\SED\\affan_halide_series\\br_00\\20211117_174534\\20211117_174534_data.hdf5\n",
      "Moved 20211117_174534_data.hdf5 well!\n",
      "F:\\PhD (and Midi)\\Data\\SED\\affan_halide_series\\br_00\\20211117_174803\\20211117_174803_data.hdf5\n",
      "Moved 20211117_174803_data.hdf5 well!\n",
      "F:\\PhD (and Midi)\\Data\\SED\\affan_halide_series\\br_00\\20211117_175031\\20211117_175031_data.hdf5\n",
      "Moved 20211117_175031_data.hdf5 well!\n",
      "F:\\PhD (and Midi)\\Data\\SED\\affan_halide_series\\br_00\\20211117_175319\\20211117_175319_data.hdf5\n",
      "Moved 20211117_175319_data.hdf5 well!\n",
      "F:\\PhD (and Midi)\\Data\\SED\\affan_halide_series\\br_00\\20211117_175607\\20211117_175607_data.hdf5\n",
      "Moved 20211117_175607_data.hdf5 well!\n",
      "F:\\PhD (and Midi)\\Data\\SED\\affan_halide_series\\br_00\\20211117_175836\\20211117_175836_data.hdf5\n",
      "Moved 20211117_175836_data.hdf5 well!\n",
      "F:\\PhD (and Midi)\\Data\\SED\\affan_halide_series\\br_00\\20211117_180102\\20211117_180102_data.hdf5\n",
      "Moved 20211117_180102_data.hdf5 well!\n",
      "F:\\PhD (and Midi)\\Data\\SED\\affan_halide_series\\br_06\\20211117_183334\\20211117_183334_data.hdf5\n",
      "Moved 20211117_183334_data.hdf5 well!\n",
      "F:\\PhD (and Midi)\\Data\\SED\\affan_halide_series\\br_06\\20211117_183602\\20211117_183602_data.hdf5\n",
      "Moved 20211117_183602_data.hdf5 well!\n",
      "F:\\PhD (and Midi)\\Data\\SED\\affan_halide_series\\br_06\\20211117_183826\\20211117_183826_data.hdf5\n",
      "Moved 20211117_183826_data.hdf5 well!\n",
      "F:\\PhD (and Midi)\\Data\\SED\\affan_halide_series\\br_06\\20211117_184052\\20211117_184052_data.hdf5\n",
      "Moved 20211117_184052_data.hdf5 well!\n",
      "F:\\PhD (and Midi)\\Data\\SED\\affan_halide_series\\br_06\\20211117_182016\\20211117_182016_data.hdf5\n",
      "Moved 20211117_182016_data.hdf5 well!\n",
      "F:\\PhD (and Midi)\\Data\\SED\\affan_halide_series\\br_06\\20211117_182249\\20211117_182249_data.hdf5\n",
      "Moved 20211117_182249_data.hdf5 well!\n",
      "F:\\PhD (and Midi)\\Data\\SED\\affan_halide_series\\br_06\\20211117_182521\\20211117_182521_data.hdf5\n",
      "Moved 20211117_182521_data.hdf5 well!\n",
      "F:\\PhD (and Midi)\\Data\\SED\\affan_halide_series\\br_06\\20211117_182814\\20211117_182814_data.hdf5\n",
      "Moved 20211117_182814_data.hdf5 well!\n",
      "F:\\PhD (and Midi)\\Data\\SED\\affan_halide_series\\br_06\\20211117_183104\\20211117_183104_data.hdf5\n",
      "Moved 20211117_183104_data.hdf5 well!\n",
      "F:\\PhD (and Midi)\\Data\\SED\\affan_halide_series\\br_12\\20211117_193333\\20211117_193333_data.hdf5\n",
      "Moved 20211117_193333_data.hdf5 well!\n",
      "F:\\PhD (and Midi)\\Data\\SED\\affan_halide_series\\br_12\\20211117_193606\\20211117_193606_data.hdf5\n",
      "Moved 20211117_193606_data.hdf5 well!\n",
      "F:\\PhD (and Midi)\\Data\\SED\\affan_halide_series\\br_12\\20211117_193835\\20211117_193835_data.hdf5\n",
      "Moved 20211117_193835_data.hdf5 well!\n",
      "F:\\PhD (and Midi)\\Data\\SED\\affan_halide_series\\br_12\\20211117_194107\\20211117_194107_data.hdf5\n",
      "Moved 20211117_194107_data.hdf5 well!\n",
      "F:\\PhD (and Midi)\\Data\\SED\\affan_halide_series\\br_12\\20211117_191908\\20211117_191908_data.hdf5\n",
      "Moved 20211117_191908_data.hdf5 well!\n",
      "F:\\PhD (and Midi)\\Data\\SED\\affan_halide_series\\br_12\\20211117_192134\\20211117_192134_data.hdf5\n",
      "Moved 20211117_192134_data.hdf5 well!\n",
      "F:\\PhD (and Midi)\\Data\\SED\\affan_halide_series\\br_12\\20211117_192412\\20211117_192412_data.hdf5\n",
      "Moved 20211117_192412_data.hdf5 well!\n",
      "F:\\PhD (and Midi)\\Data\\SED\\affan_halide_series\\br_12\\20211117_192755\\20211117_192755_data.hdf5\n",
      "Moved 20211117_192755_data.hdf5 well!\n",
      "F:\\PhD (and Midi)\\Data\\SED\\affan_halide_series\\br_12\\20211117_193100\\20211117_193100_data.hdf5\n",
      "Moved 20211117_193100_data.hdf5 well!\n",
      "F:\\PhD (and Midi)\\Data\\SED\\affan_halide_series\\br_17\\20211117_200053\\20211117_200053_data.hdf5\n",
      "Moved 20211117_200053_data.hdf5 well!\n",
      "F:\\PhD (and Midi)\\Data\\SED\\affan_halide_series\\br_17\\20211117_200412\\20211117_200412_data.hdf5\n",
      "Moved 20211117_200412_data.hdf5 well!\n",
      "F:\\PhD (and Midi)\\Data\\SED\\affan_halide_series\\br_17\\20211117_200646\\20211117_200646_data.hdf5\n",
      "Moved 20211117_200646_data.hdf5 well!\n",
      "F:\\PhD (and Midi)\\Data\\SED\\affan_halide_series\\br_17\\20211117_200914\\20211117_200914_data.hdf5\n",
      "Moved 20211117_200914_data.hdf5 well!\n",
      "F:\\PhD (and Midi)\\Data\\SED\\affan_halide_series\\br_17\\20211117_201152\\20211117_201152_data.hdf5\n",
      "Moved 20211117_201152_data.hdf5 well!\n",
      "F:\\PhD (and Midi)\\Data\\SED\\affan_halide_series\\br_17\\20211117_195555\\20211117_195555_data.hdf5\n",
      "Moved 20211117_195555_data.hdf5 well!\n",
      "F:\\PhD (and Midi)\\Data\\SED\\affan_halide_series\\br_17\\20211117_195820\\20211117_195820_data.hdf5\n",
      "Moved 20211117_195820_data.hdf5 well!\n",
      "F:\\PhD (and Midi)\\Data\\SED\\affan_halide_series\\br_17\\20211117_195330\\20211117_195330_data.hdf5\n",
      "Moved 20211117_195330_data.hdf5 well!\n",
      "F:\\PhD (and Midi)\\Data\\SED\\affan_halide_series\\br_00\\20211117_180519\\20211117_180519.hdf\n",
      "Moved 20211117_180519.hdf well!\n",
      "F:\\PhD (and Midi)\\Data\\SED\\affan_halide_series\\br_00\\20211117_174242\\20211117_174242.hdf\n",
      "Moved 20211117_174242.hdf well!\n",
      "F:\\PhD (and Midi)\\Data\\SED\\affan_halide_series\\br_00\\20211117_174534\\20211117_174534.hdf\n",
      "Moved 20211117_174534.hdf well!\n",
      "F:\\PhD (and Midi)\\Data\\SED\\affan_halide_series\\br_00\\20211117_174803\\20211117_174803.hdf\n",
      "Moved 20211117_174803.hdf well!\n",
      "F:\\PhD (and Midi)\\Data\\SED\\affan_halide_series\\br_00\\20211117_175031\\20211117_175031.hdf\n",
      "Moved 20211117_175031.hdf well!\n",
      "F:\\PhD (and Midi)\\Data\\SED\\affan_halide_series\\br_00\\20211117_175319\\20211117_175319.hdf\n",
      "Moved 20211117_175319.hdf well!\n",
      "F:\\PhD (and Midi)\\Data\\SED\\affan_halide_series\\br_00\\20211117_175607\\20211117_175607.hdf\n",
      "Moved 20211117_175607.hdf well!\n",
      "F:\\PhD (and Midi)\\Data\\SED\\affan_halide_series\\br_00\\20211117_175836\\20211117_175836.hdf\n",
      "Moved 20211117_175836.hdf well!\n",
      "F:\\PhD (and Midi)\\Data\\SED\\affan_halide_series\\br_00\\20211117_180102\\20211117_180102.hdf\n",
      "Moved 20211117_180102.hdf well!\n",
      "F:\\PhD (and Midi)\\Data\\SED\\affan_halide_series\\br_06\\20211117_183334\\20211117_183334.hdf\n",
      "Moved 20211117_183334.hdf well!\n",
      "F:\\PhD (and Midi)\\Data\\SED\\affan_halide_series\\br_06\\20211117_183602\\20211117_183602.hdf\n",
      "Moved 20211117_183602.hdf well!\n",
      "F:\\PhD (and Midi)\\Data\\SED\\affan_halide_series\\br_06\\20211117_183826\\20211117_183826.hdf\n",
      "Moved 20211117_183826.hdf well!\n",
      "F:\\PhD (and Midi)\\Data\\SED\\affan_halide_series\\br_06\\20211117_184052\\20211117_184052.hdf\n",
      "Moved 20211117_184052.hdf well!\n",
      "F:\\PhD (and Midi)\\Data\\SED\\affan_halide_series\\br_06\\20211117_182016\\20211117_182016.hdf\n",
      "Moved 20211117_182016.hdf well!\n",
      "F:\\PhD (and Midi)\\Data\\SED\\affan_halide_series\\br_06\\20211117_182249\\20211117_182249.hdf\n",
      "Moved 20211117_182249.hdf well!\n",
      "F:\\PhD (and Midi)\\Data\\SED\\affan_halide_series\\br_06\\20211117_182521\\20211117_182521.hdf\n",
      "Moved 20211117_182521.hdf well!\n",
      "F:\\PhD (and Midi)\\Data\\SED\\affan_halide_series\\br_06\\20211117_182814\\20211117_182814.hdf\n",
      "Moved 20211117_182814.hdf well!\n",
      "F:\\PhD (and Midi)\\Data\\SED\\affan_halide_series\\br_06\\20211117_183104\\20211117_183104.hdf\n",
      "Moved 20211117_183104.hdf well!\n",
      "F:\\PhD (and Midi)\\Data\\SED\\affan_halide_series\\br_12\\20211117_193333\\20211117_193333.hdf\n",
      "Moved 20211117_193333.hdf well!\n",
      "F:\\PhD (and Midi)\\Data\\SED\\affan_halide_series\\br_12\\20211117_193606\\20211117_193606.hdf\n",
      "Moved 20211117_193606.hdf well!\n",
      "F:\\PhD (and Midi)\\Data\\SED\\affan_halide_series\\br_12\\20211117_193835\\20211117_193835.hdf\n",
      "Moved 20211117_193835.hdf well!\n",
      "F:\\PhD (and Midi)\\Data\\SED\\affan_halide_series\\br_12\\20211117_194107\\20211117_194107.hdf\n",
      "Moved 20211117_194107.hdf well!\n",
      "F:\\PhD (and Midi)\\Data\\SED\\affan_halide_series\\br_12\\20211117_191908\\20211117_191908.hdf\n",
      "Moved 20211117_191908.hdf well!\n",
      "F:\\PhD (and Midi)\\Data\\SED\\affan_halide_series\\br_12\\20211117_192134\\20211117_192134.hdf\n",
      "Moved 20211117_192134.hdf well!\n",
      "F:\\PhD (and Midi)\\Data\\SED\\affan_halide_series\\br_12\\20211117_192412\\20211117_192412.hdf\n",
      "Moved 20211117_192412.hdf well!\n",
      "F:\\PhD (and Midi)\\Data\\SED\\affan_halide_series\\br_12\\20211117_192755\\20211117_192755.hdf\n",
      "Moved 20211117_192755.hdf well!\n",
      "F:\\PhD (and Midi)\\Data\\SED\\affan_halide_series\\br_12\\20211117_193100\\20211117_193100.hdf\n",
      "Moved 20211117_193100.hdf well!\n",
      "F:\\PhD (and Midi)\\Data\\SED\\affan_halide_series\\br_17\\20211117_200053\\20211117_200053.hdf\n",
      "Moved 20211117_200053.hdf well!\n",
      "F:\\PhD (and Midi)\\Data\\SED\\affan_halide_series\\br_17\\20211117_200412\\20211117_200412.hdf\n",
      "Moved 20211117_200412.hdf well!\n",
      "F:\\PhD (and Midi)\\Data\\SED\\affan_halide_series\\br_17\\20211117_200646\\20211117_200646.hdf\n",
      "Moved 20211117_200646.hdf well!\n",
      "F:\\PhD (and Midi)\\Data\\SED\\affan_halide_series\\br_17\\20211117_200914\\20211117_200914.hdf\n",
      "Moved 20211117_200914.hdf well!\n",
      "F:\\PhD (and Midi)\\Data\\SED\\affan_halide_series\\br_17\\20211117_201152\\20211117_201152.hdf\n",
      "Moved 20211117_201152.hdf well!\n",
      "F:\\PhD (and Midi)\\Data\\SED\\affan_halide_series\\br_17\\20211117_195555\\20211117_195555.hdf\n",
      "Moved 20211117_195555.hdf well!\n",
      "F:\\PhD (and Midi)\\Data\\SED\\affan_halide_series\\br_17\\20211117_195820\\20211117_195820.hdf\n",
      "Moved 20211117_195820.hdf well!\n",
      "F:\\PhD (and Midi)\\Data\\SED\\affan_halide_series\\br_17\\20211117_195330\\20211117_195330.hdf\n",
      "Moved 20211117_195330.hdf well!\n"
     ]
    }
   ],
   "source": [
    "for f in  tqdm.tqdm_notebook(files[:]):\n",
    "    print(f)\n",
    "    f_dir = os.path.dirname(f)\n",
    "    f_name = os.path.basename(f)\n",
    "\n",
    "    f_dir_new = f_dir.replace(\"affan_halide_series\", \"affan_halide_series_data_md\")\n",
    "    f_name_new = f_name\n",
    "    f_new = os.path.join(f_dir_new, f_name_new)\n",
    "\n",
    "    if not os.path.exists(f_dir_new):\n",
    "        os.makedirs(f_dir_new)\n",
    "\n",
    "    shutil.copy2(f, f_new)\n",
    "    print(f\"Moved {f_name} well!\")"
   ],
   "metadata": {
    "collapsed": false,
    "pycharm": {
     "name": "#%%\n"
    }
   }
  },
  {
   "cell_type": "markdown",
   "source": [
    "# Check the mask file and edit it"
   ],
   "metadata": {
    "collapsed": false,
    "pycharm": {
     "name": "#%% md\n"
    }
   }
  },
  {
   "cell_type": "code",
   "execution_count": 22,
   "outputs": [
    {
     "data": {
      "text/plain": "<matplotlib.image.AxesImage at 0x17920d25b10>"
     },
     "execution_count": 22,
     "metadata": {},
     "output_type": "execute_result"
    }
   ],
   "source": [
    "%matplotlib qt\n",
    "import numpy as np\n",
    "import matplotlib.pyplot as plt\n",
    "import h5py\n",
    "import dask.array as da\n",
    "import os, glob\n",
    "\n",
    "mask_path = r\"F:\\PhD (and Midi)\\Data\\SED\\affan_halide_series_data_md\\mask_nov2021.npy\"\n",
    "data_file_path = r\"F:\\PhD (and Midi)\\Data\\SED\\affan_halide_series_data_md\\br_00\\20211117_174242\\20211117_174242_data.hdf5\"\n",
    "\n",
    "# Load mask and plot\n",
    "mask = np.load(mask_path)\n",
    "mask = mask.astype(bool)\n",
    "plt.imshow(mask)"
   ],
   "metadata": {
    "collapsed": false,
    "pycharm": {
     "name": "#%%\n"
    }
   }
  },
  {
   "cell_type": "code",
   "execution_count": 3,
   "outputs": [],
   "source": [
    "# Load the mean diffraction pattern and plot\n",
    "with h5py.File(data_file_path, 'r') as f:\n",
    "    f_dat = da.array(f['Experiments/__unnamed__/data'])\n",
    "    dp = f_dat.mean(axis=[0,1])\n",
    "    dp = dp.compute()"
   ],
   "metadata": {
    "collapsed": false,
    "pycharm": {
     "name": "#%%\n"
    }
   }
  },
  {
   "cell_type": "code",
   "execution_count": 4,
   "outputs": [
    {
     "data": {
      "text/plain": "<matplotlib.image.AxesImage at 0x179259f3520>"
     },
     "execution_count": 4,
     "metadata": {},
     "output_type": "execute_result"
    }
   ],
   "source": [
    "plt.imshow(dp, vmax=10)"
   ],
   "metadata": {
    "collapsed": false,
    "pycharm": {
     "name": "#%%\n"
    }
   }
  },
  {
   "cell_type": "code",
   "execution_count": 23,
   "outputs": [
    {
     "data": {
      "text/plain": "<matplotlib.image.AxesImage at 0x17920d54be0>"
     },
     "execution_count": 23,
     "metadata": {},
     "output_type": "execute_result"
    }
   ],
   "source": [
    "plt.imshow(dp * mask, vmax=1)"
   ],
   "metadata": {
    "collapsed": false,
    "pycharm": {
     "name": "#%%\n"
    }
   }
  },
  {
   "cell_type": "code",
   "execution_count": 20,
   "outputs": [
    {
     "data": {
      "text/plain": "<matplotlib.image.AxesImage at 0x1792b2d2380>"
     },
     "execution_count": 20,
     "metadata": {},
     "output_type": "execute_result"
    }
   ],
   "source": [
    "# Edit mask\n",
    "mask[260, 362] = False\n",
    "\n",
    "# Check if mask is OK again\n",
    "plt.figure()\n",
    "plt.imshow(dp * mask, vmax=1)"
   ],
   "metadata": {
    "collapsed": false,
    "pycharm": {
     "name": "#%%\n"
    }
   }
  },
  {
   "cell_type": "code",
   "execution_count": 21,
   "outputs": [],
   "source": [
    "# Save new mask\n",
    "path = r\"F:\\PhD (and Midi)\\Data\\SED\\affan_halide_series_data_md\\mask_nov2021.npy\"\n",
    "\n",
    "np.save(path, mask)"
   ],
   "metadata": {
    "collapsed": false,
    "pycharm": {
     "name": "#%%\n"
    }
   }
  },
  {
   "cell_type": "code",
   "execution_count": null,
   "outputs": [],
   "source": [],
   "metadata": {
    "collapsed": false,
    "pycharm": {
     "name": "#%%\n"
    }
   }
  }
 ],
 "metadata": {
  "kernelspec": {
   "display_name": "Python 3",
   "language": "python",
   "name": "python3"
  },
  "language_info": {
   "codemirror_mode": {
    "name": "ipython",
    "version": 2
   },
   "file_extension": ".py",
   "mimetype": "text/x-python",
   "name": "python",
   "nbconvert_exporter": "python",
   "pygments_lexer": "ipython2",
   "version": "2.7.6"
  }
 },
 "nbformat": 4,
 "nbformat_minor": 0
}