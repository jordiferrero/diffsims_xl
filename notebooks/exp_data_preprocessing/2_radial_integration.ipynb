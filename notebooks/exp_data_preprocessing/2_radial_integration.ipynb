{
 "cells": [
  {
   "cell_type": "markdown",
   "source": [
    "## Integrate radially first\n",
    "\n",
    "Important: Hyperspy file needs to be calibrated and distortion corrected and beam centered"
   ],
   "metadata": {
    "collapsed": false,
    "pycharm": {
     "name": "#%% md\n"
    }
   }
  },
  {
   "cell_type": "code",
   "execution_count": 1,
   "outputs": [],
   "source": [
    "import warnings\n",
    "\n",
    "from pyFAI.azimuthalIntegrator import AzimuthalIntegrator\n",
    "%matplotlib qt\n",
    "import pyxem as pxm\n",
    "import hyperspy.api as hs\n",
    "import os, glob, tqdm\n",
    "import gc\n",
    "import numpy as np\n",
    "from diffsims.utils.sim_utils import get_electron_wavelength"
   ],
   "metadata": {
    "collapsed": false,
    "pycharm": {
     "name": "#%%\n"
    }
   }
  },
  {
   "cell_type": "code",
   "execution_count": null,
   "outputs": [],
   "source": [
    "root = r'G:\\My Drive\\PhD\\projects\\external_measurements\\ml_difsims'\n",
    "folder = 'data/experimental'\n",
    "file_extension = '*.hspy'\n",
    "\n",
    "path = os.path.join(root, folder, file_extension)\n",
    "paths = glob.glob(path)\n",
    "paths = [p for p in paths if 'radial' not in p]\n",
    "paths.sort()\n",
    "paths"
   ],
   "metadata": {
    "collapsed": false,
    "pycharm": {
     "name": "#%%\n"
    }
   }
  },
  {
   "cell_type": "code",
   "execution_count": 3,
   "outputs": [
    {
     "name": "stderr",
     "output_type": "stream",
     "text": [
      "  0%|          | 0/1 [00:00<?, ?it/s]"
     ]
    },
    {
     "name": "stdout",
     "output_type": "stream",
     "text": [
      "G:\\My Drive\\PhD\\projects\\external_measurements\\ml_difsims\\data/experimental\\20220126_142402_rebin_nav_2.hspy\n"
     ]
    },
    {
     "name": "stderr",
     "output_type": "stream",
     "text": [
      "ERROR:hyperspy.io:If this file format is supported, please report this error to the HyperSpy developers.\n",
      "  0%|          | 0/1 [00:16<?, ?it/s]\n"
     ]
    },
    {
     "ename": "KeyboardInterrupt",
     "evalue": "",
     "output_type": "error",
     "traceback": [
      "\u001B[1;31m---------------------------------------------------------------------------\u001B[0m",
      "\u001B[1;31mKeyboardInterrupt\u001B[0m                         Traceback (most recent call last)",
      "Input \u001B[1;32mIn [3]\u001B[0m, in \u001B[0;36m<cell line: 7>\u001B[1;34m()\u001B[0m\n\u001B[0;32m      7\u001B[0m \u001B[38;5;28;01mfor\u001B[39;00m p \u001B[38;5;129;01min\u001B[39;00m tqdm\u001B[38;5;241m.\u001B[39mtqdm(paths[\u001B[38;5;241m1\u001B[39m:\u001B[38;5;241m2\u001B[39m]):\n\u001B[0;32m      8\u001B[0m     \u001B[38;5;28mprint\u001B[39m(p)\n\u001B[1;32m----> 9\u001B[0m     dp \u001B[38;5;241m=\u001B[39m \u001B[43mhs\u001B[49m\u001B[38;5;241;43m.\u001B[39;49m\u001B[43mload\u001B[49m\u001B[43m(\u001B[49m\u001B[43mp\u001B[49m\u001B[43m,\u001B[49m\u001B[43m \u001B[49m\u001B[43msignal_type\u001B[49m\u001B[38;5;241;43m=\u001B[39;49m\u001B[38;5;124;43m'\u001B[39;49m\u001B[38;5;124;43melectron_diffraction\u001B[39;49m\u001B[38;5;124;43m'\u001B[39;49m\u001B[43m)\u001B[49m\n\u001B[0;32m     11\u001B[0m     calibration \u001B[38;5;241m=\u001B[39m dp\u001B[38;5;241m.\u001B[39maxes_manager\u001B[38;5;241m.\u001B[39msignal_axes[\u001B[38;5;241m0\u001B[39m]\u001B[38;5;241m.\u001B[39mscale\n\u001B[0;32m     12\u001B[0m     detector_size \u001B[38;5;241m=\u001B[39m dp\u001B[38;5;241m.\u001B[39maxes_manager\u001B[38;5;241m.\u001B[39msignal_axes[\u001B[38;5;241m0\u001B[39m]\u001B[38;5;241m.\u001B[39msize\n",
      "File \u001B[1;32m~\\miniconda3\\envs\\pyxem_new\\lib\\site-packages\\hyperspy\\io.py:454\u001B[0m, in \u001B[0;36mload\u001B[1;34m(filenames, signal_type, stack, stack_axis, new_axis_name, lazy, convert_units, escape_square_brackets, stack_metadata, load_original_metadata, show_progressbar, **kwds)\u001B[0m\n\u001B[0;32m    451\u001B[0m         objects\u001B[38;5;241m.\u001B[39mappend(signal)\n\u001B[0;32m    452\u001B[0m \u001B[38;5;28;01melse\u001B[39;00m:\n\u001B[0;32m    453\u001B[0m     \u001B[38;5;66;03m# No stack, so simply we load all signals in all files separately\u001B[39;00m\n\u001B[1;32m--> 454\u001B[0m     objects \u001B[38;5;241m=\u001B[39m [load_single_file(filename, lazy\u001B[38;5;241m=\u001B[39mlazy, \u001B[38;5;241m*\u001B[39m\u001B[38;5;241m*\u001B[39mkwds)\n\u001B[0;32m    455\u001B[0m                \u001B[38;5;28;01mfor\u001B[39;00m filename \u001B[38;5;129;01min\u001B[39;00m filenames]\n\u001B[0;32m    457\u001B[0m \u001B[38;5;28;01mif\u001B[39;00m \u001B[38;5;28mlen\u001B[39m(objects) \u001B[38;5;241m==\u001B[39m \u001B[38;5;241m1\u001B[39m:\n\u001B[0;32m    458\u001B[0m     objects \u001B[38;5;241m=\u001B[39m objects[\u001B[38;5;241m0\u001B[39m]\n",
      "File \u001B[1;32m~\\miniconda3\\envs\\pyxem_new\\lib\\site-packages\\hyperspy\\io.py:454\u001B[0m, in \u001B[0;36m<listcomp>\u001B[1;34m(.0)\u001B[0m\n\u001B[0;32m    451\u001B[0m         objects\u001B[38;5;241m.\u001B[39mappend(signal)\n\u001B[0;32m    452\u001B[0m \u001B[38;5;28;01melse\u001B[39;00m:\n\u001B[0;32m    453\u001B[0m     \u001B[38;5;66;03m# No stack, so simply we load all signals in all files separately\u001B[39;00m\n\u001B[1;32m--> 454\u001B[0m     objects \u001B[38;5;241m=\u001B[39m [load_single_file(filename, lazy\u001B[38;5;241m=\u001B[39mlazy, \u001B[38;5;241m*\u001B[39m\u001B[38;5;241m*\u001B[39mkwds)\n\u001B[0;32m    455\u001B[0m                \u001B[38;5;28;01mfor\u001B[39;00m filename \u001B[38;5;129;01min\u001B[39;00m filenames]\n\u001B[0;32m    457\u001B[0m \u001B[38;5;28;01mif\u001B[39;00m \u001B[38;5;28mlen\u001B[39m(objects) \u001B[38;5;241m==\u001B[39m \u001B[38;5;241m1\u001B[39m:\n\u001B[0;32m    458\u001B[0m     objects \u001B[38;5;241m=\u001B[39m objects[\u001B[38;5;241m0\u001B[39m]\n",
      "File \u001B[1;32m~\\miniconda3\\envs\\pyxem_new\\lib\\site-packages\\hyperspy\\io.py:513\u001B[0m, in \u001B[0;36mload_single_file\u001B[1;34m(filename, **kwds)\u001B[0m\n\u001B[0;32m    506\u001B[0m     \u001B[38;5;28;01mraise\u001B[39;00m \u001B[38;5;167;01mValueError\u001B[39;00m(\n\u001B[0;32m    507\u001B[0m         \u001B[38;5;124m\"\u001B[39m\u001B[38;5;124m`reader` should be one of None, str, \u001B[39m\u001B[38;5;124m\"\u001B[39m\n\u001B[0;32m    508\u001B[0m         \u001B[38;5;124m\"\u001B[39m\u001B[38;5;124mor a custom file reader object\u001B[39m\u001B[38;5;124m\"\u001B[39m\n\u001B[0;32m    509\u001B[0m     )\n\u001B[0;32m    511\u001B[0m \u001B[38;5;28;01mtry\u001B[39;00m:\n\u001B[0;32m    512\u001B[0m     \u001B[38;5;66;03m# Try and load the file\u001B[39;00m\n\u001B[1;32m--> 513\u001B[0m     \u001B[38;5;28;01mreturn\u001B[39;00m load_with_reader(filename\u001B[38;5;241m=\u001B[39mfilename, reader\u001B[38;5;241m=\u001B[39mreader, \u001B[38;5;241m*\u001B[39m\u001B[38;5;241m*\u001B[39mkwds)\n\u001B[0;32m    515\u001B[0m \u001B[38;5;28;01mexcept\u001B[39;00m \u001B[38;5;167;01mBaseException\u001B[39;00m:\n\u001B[0;32m    516\u001B[0m     _logger\u001B[38;5;241m.\u001B[39merror(\n\u001B[0;32m    517\u001B[0m         \u001B[38;5;124m\"\u001B[39m\u001B[38;5;124mIf this file format is supported, please \u001B[39m\u001B[38;5;124m\"\u001B[39m\n\u001B[0;32m    518\u001B[0m         \u001B[38;5;124m\"\u001B[39m\u001B[38;5;124mreport this error to the HyperSpy developers.\u001B[39m\u001B[38;5;124m\"\u001B[39m\n\u001B[0;32m    519\u001B[0m     )\n",
      "File \u001B[1;32m~\\miniconda3\\envs\\pyxem_new\\lib\\site-packages\\hyperspy\\io.py:533\u001B[0m, in \u001B[0;36mload_with_reader\u001B[1;34m(filename, reader, signal_type, convert_units, load_original_metadata, **kwds)\u001B[0m\n\u001B[0;32m    531\u001B[0m \u001B[38;5;124;03m\"\"\"Load a supported file with a given reader.\"\"\"\u001B[39;00m\n\u001B[0;32m    532\u001B[0m lazy \u001B[38;5;241m=\u001B[39m kwds\u001B[38;5;241m.\u001B[39mget(\u001B[38;5;124m'\u001B[39m\u001B[38;5;124mlazy\u001B[39m\u001B[38;5;124m'\u001B[39m, \u001B[38;5;28;01mFalse\u001B[39;00m)\n\u001B[1;32m--> 533\u001B[0m file_data_list \u001B[38;5;241m=\u001B[39m reader\u001B[38;5;241m.\u001B[39mfile_reader(filename, \u001B[38;5;241m*\u001B[39m\u001B[38;5;241m*\u001B[39mkwds)\n\u001B[0;32m    534\u001B[0m signal_list \u001B[38;5;241m=\u001B[39m []\n\u001B[0;32m    536\u001B[0m \u001B[38;5;28;01mfor\u001B[39;00m signal_dict \u001B[38;5;129;01min\u001B[39;00m file_data_list:\n",
      "File \u001B[1;32m~\\miniconda3\\envs\\pyxem_new\\lib\\site-packages\\hyperspy\\io_plugins\\hspy.py:175\u001B[0m, in \u001B[0;36mfile_reader\u001B[1;34m(filename, lazy, **kwds)\u001B[0m\n\u001B[0;32m    172\u001B[0m f \u001B[38;5;241m=\u001B[39m h5py\u001B[38;5;241m.\u001B[39mFile(filename, mode\u001B[38;5;241m=\u001B[39mmode, \u001B[38;5;241m*\u001B[39m\u001B[38;5;241m*\u001B[39mkwds)\n\u001B[0;32m    174\u001B[0m reader \u001B[38;5;241m=\u001B[39m HyperspyReader(f)\n\u001B[1;32m--> 175\u001B[0m exp_dict_list \u001B[38;5;241m=\u001B[39m \u001B[43mreader\u001B[49m\u001B[38;5;241;43m.\u001B[39;49m\u001B[43mread\u001B[49m\u001B[43m(\u001B[49m\u001B[43mlazy\u001B[49m\u001B[38;5;241;43m=\u001B[39;49m\u001B[43mlazy\u001B[49m\u001B[43m)\u001B[49m\n\u001B[0;32m    176\u001B[0m \u001B[38;5;28;01mif\u001B[39;00m \u001B[38;5;129;01mnot\u001B[39;00m lazy:\n\u001B[0;32m    177\u001B[0m     f\u001B[38;5;241m.\u001B[39mclose()\n",
      "File \u001B[1;32m~\\miniconda3\\envs\\pyxem_new\\lib\\site-packages\\hyperspy\\io_plugins\\_hierarchical.py:173\u001B[0m, in \u001B[0;36mHierarchicalReader.read\u001B[1;34m(self, lazy)\u001B[0m\n\u001B[0;32m    170\u001B[0m \u001B[38;5;28;01mfor\u001B[39;00m experiment \u001B[38;5;129;01min\u001B[39;00m experiments:\n\u001B[0;32m    172\u001B[0m     exg \u001B[38;5;241m=\u001B[39m \u001B[38;5;28mself\u001B[39m\u001B[38;5;241m.\u001B[39mfile[\u001B[38;5;124m'\u001B[39m\u001B[38;5;124mExperiments\u001B[39m\u001B[38;5;124m'\u001B[39m][experiment]\n\u001B[1;32m--> 173\u001B[0m     exp \u001B[38;5;241m=\u001B[39m \u001B[38;5;28;43mself\u001B[39;49m\u001B[38;5;241;43m.\u001B[39;49m\u001B[43mgroup2signaldict\u001B[49m\u001B[43m(\u001B[49m\u001B[43mexg\u001B[49m\u001B[43m,\u001B[49m\u001B[43m \u001B[49m\u001B[43mlazy\u001B[49m\u001B[43m)\u001B[49m\n\u001B[0;32m    174\u001B[0m     \u001B[38;5;66;03m# assign correct models, if found:\u001B[39;00m\n\u001B[0;32m    175\u001B[0m     _tmp \u001B[38;5;241m=\u001B[39m {}\n",
      "File \u001B[1;32m~\\miniconda3\\envs\\pyxem_new\\lib\\site-packages\\hyperspy\\io_plugins\\_hierarchical.py:249\u001B[0m, in \u001B[0;36mHierarchicalReader.group2signaldict\u001B[1;34m(self, group, lazy)\u001B[0m\n\u001B[0;32m    247\u001B[0m     exp[\u001B[38;5;124m'\u001B[39m\u001B[38;5;124mattributes\u001B[39m\u001B[38;5;124m'\u001B[39m][\u001B[38;5;124m'\u001B[39m\u001B[38;5;124m_lazy\u001B[39m\u001B[38;5;124m'\u001B[39m] \u001B[38;5;241m=\u001B[39m \u001B[38;5;28;01mTrue\u001B[39;00m\n\u001B[0;32m    248\u001B[0m \u001B[38;5;28;01melse\u001B[39;00m:\n\u001B[1;32m--> 249\u001B[0m     data \u001B[38;5;241m=\u001B[39m \u001B[43mnp\u001B[49m\u001B[38;5;241;43m.\u001B[39;49m\u001B[43masanyarray\u001B[49m\u001B[43m(\u001B[49m\u001B[43mdata\u001B[49m\u001B[43m)\u001B[49m\n\u001B[0;32m    250\u001B[0m exp[\u001B[38;5;124m'\u001B[39m\u001B[38;5;124mdata\u001B[39m\u001B[38;5;124m'\u001B[39m] \u001B[38;5;241m=\u001B[39m data\n\u001B[0;32m    251\u001B[0m axes \u001B[38;5;241m=\u001B[39m []\n",
      "File \u001B[1;32mh5py\\_objects.pyx:54\u001B[0m, in \u001B[0;36mh5py._objects.with_phil.wrapper\u001B[1;34m()\u001B[0m\n",
      "File \u001B[1;32mh5py\\_objects.pyx:55\u001B[0m, in \u001B[0;36mh5py._objects.with_phil.wrapper\u001B[1;34m()\u001B[0m\n",
      "File \u001B[1;32m~\\miniconda3\\envs\\pyxem_new\\lib\\site-packages\\h5py\\_hl\\dataset.py:1046\u001B[0m, in \u001B[0;36mDataset.__array__\u001B[1;34m(self, dtype)\u001B[0m\n\u001B[0;32m   1043\u001B[0m \u001B[38;5;28;01mif\u001B[39;00m numpy\u001B[38;5;241m.\u001B[39mproduct(\u001B[38;5;28mself\u001B[39m\u001B[38;5;241m.\u001B[39mshape, dtype\u001B[38;5;241m=\u001B[39mnumpy\u001B[38;5;241m.\u001B[39mulonglong) \u001B[38;5;241m==\u001B[39m \u001B[38;5;241m0\u001B[39m:\n\u001B[0;32m   1044\u001B[0m     \u001B[38;5;28;01mreturn\u001B[39;00m arr\n\u001B[1;32m-> 1046\u001B[0m \u001B[38;5;28;43mself\u001B[39;49m\u001B[38;5;241;43m.\u001B[39;49m\u001B[43mread_direct\u001B[49m\u001B[43m(\u001B[49m\u001B[43marr\u001B[49m\u001B[43m)\u001B[49m\n\u001B[0;32m   1047\u001B[0m \u001B[38;5;28;01mreturn\u001B[39;00m arr\n",
      "File \u001B[1;32m~\\miniconda3\\envs\\pyxem_new\\lib\\site-packages\\h5py\\_hl\\dataset.py:1007\u001B[0m, in \u001B[0;36mDataset.read_direct\u001B[1;34m(self, dest, source_sel, dest_sel)\u001B[0m\n\u001B[0;32m   1004\u001B[0m     dest_sel \u001B[38;5;241m=\u001B[39m sel\u001B[38;5;241m.\u001B[39mselect(dest\u001B[38;5;241m.\u001B[39mshape, dest_sel)\n\u001B[0;32m   1006\u001B[0m \u001B[38;5;28;01mfor\u001B[39;00m mspace \u001B[38;5;129;01min\u001B[39;00m dest_sel\u001B[38;5;241m.\u001B[39mbroadcast(source_sel\u001B[38;5;241m.\u001B[39marray_shape):\n\u001B[1;32m-> 1007\u001B[0m     \u001B[38;5;28;43mself\u001B[39;49m\u001B[38;5;241;43m.\u001B[39;49m\u001B[43mid\u001B[49m\u001B[38;5;241;43m.\u001B[39;49m\u001B[43mread\u001B[49m\u001B[43m(\u001B[49m\u001B[43mmspace\u001B[49m\u001B[43m,\u001B[49m\u001B[43m \u001B[49m\u001B[43mfspace\u001B[49m\u001B[43m,\u001B[49m\u001B[43m \u001B[49m\u001B[43mdest\u001B[49m\u001B[43m,\u001B[49m\u001B[43m \u001B[49m\u001B[43mdxpl\u001B[49m\u001B[38;5;241;43m=\u001B[39;49m\u001B[38;5;28;43mself\u001B[39;49m\u001B[38;5;241;43m.\u001B[39;49m\u001B[43m_dxpl\u001B[49m\u001B[43m)\u001B[49m\n",
      "\u001B[1;31mKeyboardInterrupt\u001B[0m: "
     ]
    }
   ],
   "source": [
    "from pyxem.detectors import Medipix515x515Detector\n",
    "\n",
    "# Simulation microscope values (for azimuthal integration)\n",
    "beam_energy = 200.0  #keV\n",
    "detector_pix_size = 55e-6  #m\n",
    "\n",
    "for p in tqdm.tqdm(paths[1:2]):\n",
    "    print(p)\n",
    "    dp = hs.load(p, signal_type='electron_diffraction')\n",
    "\n",
    "    calibration = dp.axes_manager.signal_axes[0].scale\n",
    "    detector_size = dp.axes_manager.signal_axes[0].size\n",
    "    radial_steps = int(np.ceil((int(detector_size / 2) - 1) / 2) * 2)\n",
    "\n",
    "    # # Old way (pyxem way):\n",
    "    #dp.set_diffraction_calibration(calibration)\n",
    "    dp.metadata.Signal.ai = None\n",
    "    dp.unit = \"k_A^-1\"\n",
    "    dp.set_experimental_parameters(beam_energy=beam_energy)\n",
    "    dp.set_ai(center=([detector_size / 2, detector_size / 2]))\n",
    "\n",
    "    # New way (pyFAI)\n",
    "    # detector = Medipix515x515Detector()\n",
    "    # wavelength = get_electron_wavelength(beam_energy) * 1e-10\n",
    "    # camera_length = detector_pix_size / (wavelength * calibration * 1e10)\n",
    "    # center = ([detector_size / 2, detector_size / 2])\n",
    "    # unit = \"k_A^-1\"\n",
    "    # dp.unit = unit\n",
    "    # ai = AzimuthalIntegrator(dist=camera_length, detector=detector, wavelength=wavelength)\n",
    "    # ai.setFit2D(directDist=camera_length * 1000, centerX=center[1], centerY=center[0])\n",
    "    # dp.metadata.set_item(\"Signal.ai\", ai)\n",
    "\n",
    "    radial = dp.get_azimuthal_integral1d(npt=radial_steps)\n",
    "    radial2d = dp.get_azimuthal_integral2d(npt=radial_steps)\n",
    "\n",
    "    print(radial)\n",
    "    name = \"{}_radial.hspy\".format(os.path.basename(p).split('.')[0])\n",
    "    radial.save(os.path.join(os.path.dirname(p), name), overwrite=True)\n",
    "    name = \"{}_radial2d.hspy\".format(os.path.basename(p).split('.')[0])\n",
    "    radial2d.save(os.path.join(os.path.dirname(p), name), overwrite=True)\n",
    "    print(f\"Finished with {name}\")\n",
    "    gc.collect()\n"
   ],
   "metadata": {
    "collapsed": false,
    "pycharm": {
     "name": "#%%\n"
    }
   }
  },
  {
   "cell_type": "code",
   "execution_count": null,
   "outputs": [],
   "source": [],
   "metadata": {
    "collapsed": false,
    "pycharm": {
     "name": "#%%\n"
    }
   }
  },
  {
   "cell_type": "markdown",
   "source": [
    "## Crop (and rebin) to match simulated range\n",
    "\n",
    "The simulated range has the following format. Make sure the processed exp data has the same:\n",
    "- Pixel size: 147 px\n",
    "- Range in q (no $2\\pi/d$ but just $1/d$): (0.10777668889613681, 1.318191810345058) $\\AA^{-1}$"
   ],
   "metadata": {
    "collapsed": false,
    "pycharm": {
     "name": "#%% md\n"
    }
   }
  },
  {
   "cell_type": "code",
   "execution_count": 4,
   "outputs": [],
   "source": [
    "# DO NOT CHANGE!!!\n",
    "crop_range_q = (0.10777668889613681, 1.318191810345058) # A-1\n",
    "crop_size = 147 #px"
   ],
   "metadata": {
    "collapsed": false,
    "pycharm": {
     "name": "#%%\n"
    }
   }
  },
  {
   "cell_type": "code",
   "execution_count": 5,
   "outputs": [],
   "source": [
    "%matplotlib qt\n",
    "import hyperspy.api as hs\n",
    "import os, glob\n",
    "import numpy as np\n",
    "from scipy import interpolate\n",
    "import warnings\n",
    "import matplotlib.pyplot as plt"
   ],
   "metadata": {
    "collapsed": false,
    "pycharm": {
     "name": "#%%\n"
    }
   }
  },
  {
   "cell_type": "code",
   "execution_count": 14,
   "outputs": [],
   "source": [
    "def interpolate_1d(signal_data, q_array, crop_range_q, crop_size):\n",
    "    # Do interpolation\n",
    "    x = q_array\n",
    "    y = signal_data\n",
    "    f = interpolate.interp1d(x, y, fill_value='extrapolate')\n",
    "\n",
    "    # Generate new data\n",
    "    x_new = np.linspace(crop_range_q[0], crop_range_q[1], crop_size)\n",
    "    y_interpol = f(x_new)\n",
    "    return y_interpol\n",
    "\n",
    "def interpolate_2d(signal_data, q_array, crop_range_q, crop_size):\n",
    "    signal_data = signal_data.T\n",
    "\n",
    "    y_interpol_2d = \\\n",
    "        np.vstack([interpolate_1d(row, q_array, crop_range_q, crop_size)\n",
    "                   for row in signal_data])\n",
    "    return y_interpol_2d.T"
   ],
   "metadata": {
    "collapsed": false,
    "pycharm": {
     "name": "#%%\n"
    }
   }
  },
  {
   "cell_type": "code",
   "execution_count": 8,
   "outputs": [
    {
     "data": {
      "text/plain": "['G:\\\\My Drive\\\\PhD\\\\projects\\\\external_measurements\\\\ml_difsims\\\\data/experimental\\\\20200209_163154_centre_rebin_correct_rb_fullscan_radial.hspy',\n 'G:\\\\My Drive\\\\PhD\\\\projects\\\\external_measurements\\\\ml_difsims\\\\data/experimental\\\\20220126_142402_rebin_nav_2_radial.hspy',\n 'G:\\\\My Drive\\\\PhD\\\\projects\\\\external_measurements\\\\ml_difsims\\\\data/experimental\\\\roi_3_rebin_radial.hspy',\n 'G:\\\\My Drive\\\\PhD\\\\projects\\\\external_measurements\\\\ml_difsims\\\\data/experimental\\\\roi_4_rebin_radial.hspy']"
     },
     "execution_count": 8,
     "metadata": {},
     "output_type": "execute_result"
    }
   ],
   "source": [
    "root = r'G:\\My Drive\\PhD\\projects\\external_measurements\\ml_difsims'\n",
    "folder = 'data/experimental'\n",
    "file_extension = '*.hspy'\n",
    "\n",
    "path = os.path.join(root, folder, file_extension)\n",
    "paths = glob.glob(path)\n",
    "paths = [p for p in paths if 'radial.' in p and 'crop' not in p]\n",
    "paths.sort()\n",
    "paths"
   ],
   "metadata": {
    "collapsed": false,
    "pycharm": {
     "name": "#%%\n"
    }
   }
  },
  {
   "cell_type": "code",
   "execution_count": 8,
   "outputs": [
    {
     "name": "stderr",
     "output_type": "stream",
     "text": [
      "WARNING:hyperspy.signal:The function you applied does not take into account the difference of units and of scales in-between axes.\n"
     ]
    },
    {
     "name": "stdout",
     "output_type": "stream",
     "text": [
      "<ElectronDiffraction2D, title: , dimensions: (127, 127|147, 160)>\n"
     ]
    },
    {
     "ename": "ValueError",
     "evalue": "x and y must have same first dimension, but have shapes (147,) and (160, 147)",
     "output_type": "error",
     "traceback": [
      "\u001B[1;31m---------------------------------------------------------------------------\u001B[0m",
      "\u001B[1;31mValueError\u001B[0m                                Traceback (most recent call last)",
      "Input \u001B[1;32mIn [8]\u001B[0m, in \u001B[0;36m<cell line: 14>\u001B[1;34m()\u001B[0m\n\u001B[0;32m     35\u001B[0m     np\u001B[38;5;241m.\u001B[39msavez(os\u001B[38;5;241m.\u001B[39mpath\u001B[38;5;241m.\u001B[39mjoin(os\u001B[38;5;241m.\u001B[39mpath\u001B[38;5;241m.\u001B[39mdirname(path), \u001B[38;5;124m'\u001B[39m\u001B[38;5;124mnpz_files\u001B[39m\u001B[38;5;124m'\u001B[39m, name), y\u001B[38;5;241m=\u001B[39mdp_crop\u001B[38;5;241m.\u001B[39mdata, x\u001B[38;5;241m=\u001B[39mq_new)\n\u001B[0;32m     37\u001B[0m     \u001B[38;5;66;03m# Plot results\u001B[39;00m\n\u001B[1;32m---> 38\u001B[0m     \u001B[43mplt\u001B[49m\u001B[38;5;241;43m.\u001B[39;49m\u001B[43mplot\u001B[49m\u001B[43m(\u001B[49m\u001B[43mq_new\u001B[49m\u001B[43m,\u001B[49m\u001B[43m \u001B[49m\u001B[43mdp_crop\u001B[49m\u001B[38;5;241;43m.\u001B[39;49m\u001B[43mmean\u001B[49m\u001B[43m(\u001B[49m\u001B[43m)\u001B[49m\u001B[38;5;241;43m.\u001B[39;49m\u001B[43mdata\u001B[49m\u001B[43m,\u001B[49m\u001B[43m \u001B[49m\u001B[43mlabel\u001B[49m\u001B[38;5;241;43m=\u001B[39;49m\u001B[43mname\u001B[49m\u001B[43m)\u001B[49m\n\u001B[0;32m     40\u001B[0m plt\u001B[38;5;241m.\u001B[39mlegend()\n\u001B[0;32m     41\u001B[0m plt\u001B[38;5;241m.\u001B[39mtight_layout()\n",
      "File \u001B[1;32m~\\miniconda3\\envs\\pyxem_new\\lib\\site-packages\\matplotlib\\pyplot.py:2757\u001B[0m, in \u001B[0;36mplot\u001B[1;34m(scalex, scaley, data, *args, **kwargs)\u001B[0m\n\u001B[0;32m   2755\u001B[0m \u001B[38;5;129m@_copy_docstring_and_deprecators\u001B[39m(Axes\u001B[38;5;241m.\u001B[39mplot)\n\u001B[0;32m   2756\u001B[0m \u001B[38;5;28;01mdef\u001B[39;00m \u001B[38;5;21mplot\u001B[39m(\u001B[38;5;241m*\u001B[39margs, scalex\u001B[38;5;241m=\u001B[39m\u001B[38;5;28;01mTrue\u001B[39;00m, scaley\u001B[38;5;241m=\u001B[39m\u001B[38;5;28;01mTrue\u001B[39;00m, data\u001B[38;5;241m=\u001B[39m\u001B[38;5;28;01mNone\u001B[39;00m, \u001B[38;5;241m*\u001B[39m\u001B[38;5;241m*\u001B[39mkwargs):\n\u001B[1;32m-> 2757\u001B[0m     \u001B[38;5;28;01mreturn\u001B[39;00m gca()\u001B[38;5;241m.\u001B[39mplot(\n\u001B[0;32m   2758\u001B[0m         \u001B[38;5;241m*\u001B[39margs, scalex\u001B[38;5;241m=\u001B[39mscalex, scaley\u001B[38;5;241m=\u001B[39mscaley,\n\u001B[0;32m   2759\u001B[0m         \u001B[38;5;241m*\u001B[39m\u001B[38;5;241m*\u001B[39m({\u001B[38;5;124m\"\u001B[39m\u001B[38;5;124mdata\u001B[39m\u001B[38;5;124m\"\u001B[39m: data} \u001B[38;5;28;01mif\u001B[39;00m data \u001B[38;5;129;01mis\u001B[39;00m \u001B[38;5;129;01mnot\u001B[39;00m \u001B[38;5;28;01mNone\u001B[39;00m \u001B[38;5;28;01melse\u001B[39;00m {}), \u001B[38;5;241m*\u001B[39m\u001B[38;5;241m*\u001B[39mkwargs)\n",
      "File \u001B[1;32m~\\miniconda3\\envs\\pyxem_new\\lib\\site-packages\\matplotlib\\axes\\_axes.py:1632\u001B[0m, in \u001B[0;36mAxes.plot\u001B[1;34m(self, scalex, scaley, data, *args, **kwargs)\u001B[0m\n\u001B[0;32m   1390\u001B[0m \u001B[38;5;124;03m\"\"\"\u001B[39;00m\n\u001B[0;32m   1391\u001B[0m \u001B[38;5;124;03mPlot y versus x as lines and/or markers.\u001B[39;00m\n\u001B[0;32m   1392\u001B[0m \n\u001B[1;32m   (...)\u001B[0m\n\u001B[0;32m   1629\u001B[0m \u001B[38;5;124;03m(``'green'``) or hex strings (``'#008000'``).\u001B[39;00m\n\u001B[0;32m   1630\u001B[0m \u001B[38;5;124;03m\"\"\"\u001B[39;00m\n\u001B[0;32m   1631\u001B[0m kwargs \u001B[38;5;241m=\u001B[39m cbook\u001B[38;5;241m.\u001B[39mnormalize_kwargs(kwargs, mlines\u001B[38;5;241m.\u001B[39mLine2D)\n\u001B[1;32m-> 1632\u001B[0m lines \u001B[38;5;241m=\u001B[39m [\u001B[38;5;241m*\u001B[39m\u001B[38;5;28mself\u001B[39m\u001B[38;5;241m.\u001B[39m_get_lines(\u001B[38;5;241m*\u001B[39margs, data\u001B[38;5;241m=\u001B[39mdata, \u001B[38;5;241m*\u001B[39m\u001B[38;5;241m*\u001B[39mkwargs)]\n\u001B[0;32m   1633\u001B[0m \u001B[38;5;28;01mfor\u001B[39;00m line \u001B[38;5;129;01min\u001B[39;00m lines:\n\u001B[0;32m   1634\u001B[0m     \u001B[38;5;28mself\u001B[39m\u001B[38;5;241m.\u001B[39madd_line(line)\n",
      "File \u001B[1;32m~\\miniconda3\\envs\\pyxem_new\\lib\\site-packages\\matplotlib\\axes\\_base.py:312\u001B[0m, in \u001B[0;36m_process_plot_var_args.__call__\u001B[1;34m(self, data, *args, **kwargs)\u001B[0m\n\u001B[0;32m    310\u001B[0m     this \u001B[38;5;241m+\u001B[39m\u001B[38;5;241m=\u001B[39m args[\u001B[38;5;241m0\u001B[39m],\n\u001B[0;32m    311\u001B[0m     args \u001B[38;5;241m=\u001B[39m args[\u001B[38;5;241m1\u001B[39m:]\n\u001B[1;32m--> 312\u001B[0m \u001B[38;5;28;01myield from\u001B[39;00m \u001B[38;5;28;43mself\u001B[39;49m\u001B[38;5;241;43m.\u001B[39;49m\u001B[43m_plot_args\u001B[49m\u001B[43m(\u001B[49m\u001B[43mthis\u001B[49m\u001B[43m,\u001B[49m\u001B[43m \u001B[49m\u001B[43mkwargs\u001B[49m\u001B[43m)\u001B[49m\n",
      "File \u001B[1;32m~\\miniconda3\\envs\\pyxem_new\\lib\\site-packages\\matplotlib\\axes\\_base.py:498\u001B[0m, in \u001B[0;36m_process_plot_var_args._plot_args\u001B[1;34m(self, tup, kwargs, return_kwargs)\u001B[0m\n\u001B[0;32m    495\u001B[0m     \u001B[38;5;28mself\u001B[39m\u001B[38;5;241m.\u001B[39maxes\u001B[38;5;241m.\u001B[39myaxis\u001B[38;5;241m.\u001B[39mupdate_units(y)\n\u001B[0;32m    497\u001B[0m \u001B[38;5;28;01mif\u001B[39;00m x\u001B[38;5;241m.\u001B[39mshape[\u001B[38;5;241m0\u001B[39m] \u001B[38;5;241m!=\u001B[39m y\u001B[38;5;241m.\u001B[39mshape[\u001B[38;5;241m0\u001B[39m]:\n\u001B[1;32m--> 498\u001B[0m     \u001B[38;5;28;01mraise\u001B[39;00m \u001B[38;5;167;01mValueError\u001B[39;00m(\u001B[38;5;124mf\u001B[39m\u001B[38;5;124m\"\u001B[39m\u001B[38;5;124mx and y must have same first dimension, but \u001B[39m\u001B[38;5;124m\"\u001B[39m\n\u001B[0;32m    499\u001B[0m                      \u001B[38;5;124mf\u001B[39m\u001B[38;5;124m\"\u001B[39m\u001B[38;5;124mhave shapes \u001B[39m\u001B[38;5;132;01m{\u001B[39;00mx\u001B[38;5;241m.\u001B[39mshape\u001B[38;5;132;01m}\u001B[39;00m\u001B[38;5;124m and \u001B[39m\u001B[38;5;132;01m{\u001B[39;00my\u001B[38;5;241m.\u001B[39mshape\u001B[38;5;132;01m}\u001B[39;00m\u001B[38;5;124m\"\u001B[39m)\n\u001B[0;32m    500\u001B[0m \u001B[38;5;28;01mif\u001B[39;00m x\u001B[38;5;241m.\u001B[39mndim \u001B[38;5;241m>\u001B[39m \u001B[38;5;241m2\u001B[39m \u001B[38;5;129;01mor\u001B[39;00m y\u001B[38;5;241m.\u001B[39mndim \u001B[38;5;241m>\u001B[39m \u001B[38;5;241m2\u001B[39m:\n\u001B[0;32m    501\u001B[0m     \u001B[38;5;28;01mraise\u001B[39;00m \u001B[38;5;167;01mValueError\u001B[39;00m(\u001B[38;5;124mf\u001B[39m\u001B[38;5;124m\"\u001B[39m\u001B[38;5;124mx and y can be no greater than 2D, but have \u001B[39m\u001B[38;5;124m\"\u001B[39m\n\u001B[0;32m    502\u001B[0m                      \u001B[38;5;124mf\u001B[39m\u001B[38;5;124m\"\u001B[39m\u001B[38;5;124mshapes \u001B[39m\u001B[38;5;132;01m{\u001B[39;00mx\u001B[38;5;241m.\u001B[39mshape\u001B[38;5;132;01m}\u001B[39;00m\u001B[38;5;124m and \u001B[39m\u001B[38;5;132;01m{\u001B[39;00my\u001B[38;5;241m.\u001B[39mshape\u001B[38;5;132;01m}\u001B[39;00m\u001B[38;5;124m\"\u001B[39m)\n",
      "\u001B[1;31mValueError\u001B[0m: x and y must have same first dimension, but have shapes (147,) and (160, 147)"
     ]
    }
   ],
   "source": [
    "for path in paths:\n",
    "    dp = hs.load(path, signal_type='electron_diffraction')\n",
    "    q_exp = dp.axes_manager.signal_axes[0].axis\n",
    "    if q_exp.min() > crop_range_q[0] or q_exp.max() < crop_range_q[1]:\n",
    "        warnings.warn(\"The range at which signal was acquired is not large enough. Extrapolation will be used using scipy.interpolate.interp1d\")\n",
    "\n",
    "    q_array = dp.axes_manager.signal_axes[0].axis\n",
    "    q_new = np.linspace(crop_range_q[0], crop_range_q[1], crop_size)\n",
    "    dp_crop = dp.map(interpolate_1d, q_array = q_array, crop_range_q = crop_range_q, crop_size = crop_size,\n",
    "                     show_progressbar=True, parallel=True, inplace=False)\n",
    "\n",
    "    # Correct for axes calibration\n",
    "    sig_ax = dp_crop.axes_manager.signal_axes[0]\n",
    "    sig_ax.offset = crop_range_q[0]\n",
    "    sig_ax.scale = (crop_range_q[1] - crop_range_q[0])/ crop_size\n",
    "    print(dp_crop)\n",
    "\n",
    "    # Save files\n",
    "    name = \"{}_crop.hspy\".format(os.path.basename(path).split('.')[0])\n",
    "    dp_crop.save(os.path.join(os.path.dirname(path), name), overwrite=True)\n",
    "    name = \"{}_crop.npz\".format(os.path.basename(path).split('.')[0])\n",
    "    np.savez(os.path.join(os.path.dirname(path), 'npz_files', name), y=dp_crop.data, x=q_new)\n",
    "\n",
    "    # Plot results\n",
    "    plt.plot(q_new, dp_crop.mean().data, label=name)\n",
    "\n",
    "plt.legend()\n",
    "plt.tight_layout()"
   ],
   "metadata": {
    "collapsed": false,
    "pycharm": {
     "name": "#%%\n"
    }
   }
  },
  {
   "cell_type": "code",
   "execution_count": 36,
   "outputs": [
    {
     "name": "stdout",
     "output_type": "stream",
     "text": [
      "(160,)\n",
      "(360, 160)\n"
     ]
    },
    {
     "name": "stderr",
     "output_type": "stream",
     "text": [
      "C:\\Users\\jf631\\AppData\\Local\\Temp\\ipykernel_13868\\3885628504.py:16: UserWarning: The range at which signal was acquired is not large enough. Extrapolation will be used using scipy.interpolate.interp1d\n",
      "  warnings.warn(\n"
     ]
    }
   ],
   "source": [
    "\n",
    "\n",
    "# Get the experimental q range\n"
   ],
   "metadata": {
    "collapsed": false,
    "pycharm": {
     "name": "#%%\n"
    }
   }
  },
  {
   "cell_type": "markdown",
   "source": [
    "# Interpolate 2D"
   ],
   "metadata": {
    "collapsed": false,
    "pycharm": {
     "name": "#%% md\n"
    }
   }
  },
  {
   "cell_type": "code",
   "execution_count": 11,
   "outputs": [
    {
     "data": {
      "text/plain": "['G:\\\\My Drive\\\\PhD\\\\projects\\\\external_measurements\\\\ml_difsims\\\\data/experimental\\\\20220126_142402_rebin_nav_2_radial2d.hspy']"
     },
     "execution_count": 11,
     "metadata": {},
     "output_type": "execute_result"
    }
   ],
   "source": [
    "root = r'G:\\My Drive\\PhD\\projects\\external_measurements\\ml_difsims'\n",
    "folder = 'data/experimental'\n",
    "file_extension = '*.hspy'\n",
    "\n",
    "path = os.path.join(root, folder, file_extension)\n",
    "paths = glob.glob(path)\n",
    "paths_2d = [p for p in paths if 'radial2d.' in p and 'crop' not in p]\n",
    "paths_2d.sort()\n",
    "paths_2d"
   ],
   "metadata": {
    "collapsed": false,
    "pycharm": {
     "name": "#%%\n"
    }
   }
  },
  {
   "cell_type": "code",
   "execution_count": 15,
   "outputs": [
    {
     "name": "stderr",
     "output_type": "stream",
     "text": [
      "C:\\Users\\jf631\\AppData\\Local\\Temp\\ipykernel_11040\\499320023.py:6: UserWarning: The range at which signal was acquired is not large enough. Extrapolation will be used using scipy.interpolate.interp1d\n",
      "  warnings.warn(\n",
      "WARNING:hyperspy.signal:The function you applied does not take into account the difference of units and of scales in-between axes.\n",
      "C:\\Users\\jf631\\AppData\\Local\\Temp\\ipykernel_11040\\499320023.py:36: UserWarning: Tight layout not applied. The bottom and top margins cannot be made large enough to accommodate all axes decorations.\n",
      "  plt.tight_layout()\n"
     ]
    }
   ],
   "source": [
    "for path in paths_2d:\n",
    "    dp = hs.load(path, signal_type='electron_diffraction')\n",
    "\n",
    "    q_exp = dp.axes_manager.signal_axes[1].axis\n",
    "    if q_exp.min() > crop_range_q[0] or q_exp.max() < crop_range_q[1]:\n",
    "        warnings.warn(\n",
    "            \"The range at which signal was acquired is not large enough. Extrapolation will be used using scipy.interpolate.interp1d\")\n",
    "    q_new = np.linspace(crop_range_q[0], crop_range_q[1], crop_size)\n",
    "\n",
    "    dp_crop = dp.map(interpolate_2d, q_array = q_exp, crop_range_q = crop_range_q, crop_size = crop_size,\n",
    "                     show_progressbar=True, parallel=True, inplace=False)\n",
    "\n",
    "    # Correct for axes calibration\n",
    "    sig_ax = dp_crop.axes_manager.signal_axes[1]\n",
    "    sig_ax.offset = crop_range_q[0]\n",
    "    sig_ax.scale = (crop_range_q[1] - crop_range_q[0]) / crop_size\n",
    "\n",
    "    # Normalise data cropped for the npz\n",
    "    dpmax = dp_crop.data.max((-2, -1), keepdims=True)\n",
    "    dpmin = dp_crop.data.min((-2, -1), keepdims=True)\n",
    "    dp_crop_dat = (dp_crop.data - dpmin) / (dpmax - dpmin)\n",
    "    # Correct any nan value\n",
    "    nan_mask = np.isnan(dp_crop_dat)\n",
    "    dp_crop_dat[nan_mask] = 0\n",
    "\n",
    "    # Save files\n",
    "    name = \"{}_crop2d.hspy\".format(os.path.basename(path).split('.')[0])\n",
    "    dp_crop.save(os.path.join(os.path.dirname(path), name), overwrite=True)\n",
    "    name = \"{}_crop2d.npz\".format(os.path.basename(path).split('.')[0])\n",
    "    np.savez(os.path.join(os.path.dirname(path), 'npz_files', name), y=dp_crop_dat, x=q_new)\n",
    "\n",
    "    # Plot results\n",
    "    plt.plot(q_new, dp_crop.mean().data, label=name)\n",
    "\n",
    "plt.legend()\n",
    "plt.tight_layout()"
   ],
   "metadata": {
    "collapsed": false,
    "pycharm": {
     "name": "#%%\n"
    }
   }
  },
  {
   "cell_type": "code",
   "execution_count": 29,
   "outputs": [
    {
     "data": {
      "text/plain": "<matplotlib.image.AxesImage at 0x2b6eea24c70>"
     },
     "execution_count": 29,
     "metadata": {},
     "output_type": "execute_result"
    }
   ],
   "source": [
    "plt.imshow(dp_crop_dat[50,50,:,:])"
   ],
   "metadata": {
    "collapsed": false,
    "pycharm": {
     "name": "#%%\n"
    }
   }
  },
  {
   "cell_type": "code",
   "execution_count": null,
   "outputs": [],
   "source": [],
   "metadata": {
    "collapsed": false,
    "pycharm": {
     "name": "#%%\n"
    }
   }
  }
 ],
 "metadata": {
  "kernelspec": {
   "display_name": "Python 3",
   "language": "python",
   "name": "python3"
  },
  "language_info": {
   "codemirror_mode": {
    "name": "ipython",
    "version": 2
   },
   "file_extension": ".py",
   "mimetype": "text/x-python",
   "name": "python",
   "nbconvert_exporter": "python",
   "pygments_lexer": "ipython2",
   "version": "2.7.6"
  }
 },
 "nbformat": 4,
 "nbformat_minor": 0
}