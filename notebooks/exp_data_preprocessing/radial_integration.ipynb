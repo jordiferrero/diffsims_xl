{
 "cells": [
  {
   "cell_type": "markdown",
   "source": [
    "## Integrate radially first\n",
    "\n",
    "Important: Hyperspy file needs to be calibrated and distortion corrected and beam centered"
   ],
   "metadata": {
    "collapsed": false,
    "pycharm": {
     "name": "#%% md\n"
    }
   }
  },
  {
   "cell_type": "code",
   "execution_count": 96,
   "outputs": [],
   "source": [
    "import warnings\n",
    "\n",
    "from pyFAI.azimuthalIntegrator import AzimuthalIntegrator\n",
    "%matplotlib qt\n",
    "import pyxem as pxm\n",
    "import hyperspy.api as hs\n",
    "import os, glob, tqdm\n",
    "import gc\n",
    "import numpy as np\n",
    "from diffsims.utils.sim_utils import get_electron_wavelength"
   ],
   "metadata": {
    "collapsed": false,
    "pycharm": {
     "name": "#%%\n"
    }
   }
  },
  {
   "cell_type": "code",
   "execution_count": 176,
   "outputs": [
    {
     "data": {
      "text/plain": "['G:\\\\My Drive\\\\PhD\\\\projects\\\\external_measurements\\\\ml_difsims\\\\data/experimental\\\\20200209_163154_centre_rebin_correct_rb_fullscan.hspy',\n 'G:\\\\My Drive\\\\PhD\\\\projects\\\\external_measurements\\\\ml_difsims\\\\data/experimental\\\\20220126_142402_rebin_nav_2.hspy',\n 'G:\\\\My Drive\\\\PhD\\\\projects\\\\external_measurements\\\\ml_difsims\\\\data/experimental\\\\roi_3_rebin.hspy',\n 'G:\\\\My Drive\\\\PhD\\\\projects\\\\external_measurements\\\\ml_difsims\\\\data/experimental\\\\roi_4_rebin.hspy']"
     },
     "execution_count": 176,
     "metadata": {},
     "output_type": "execute_result"
    }
   ],
   "source": [
    "root = r'G:\\My Drive\\PhD\\projects\\external_measurements\\ml_difsims'\n",
    "folder = 'data/experimental'\n",
    "file_extension = '*.hspy'\n",
    "\n",
    "path = os.path.join(root, folder, file_extension)\n",
    "paths = glob.glob(path)\n",
    "paths = [p for p in paths if 'radial' not in p]\n",
    "paths.sort()\n",
    "paths"
   ],
   "metadata": {
    "collapsed": false,
    "pycharm": {
     "name": "#%%\n"
    }
   }
  },
  {
   "cell_type": "code",
   "execution_count": 177,
   "outputs": [
    {
     "name": "stderr",
     "output_type": "stream",
     "text": [
      "  0%|          | 0/1 [00:00<?, ?it/s]"
     ]
    },
    {
     "name": "stdout",
     "output_type": "stream",
     "text": [
      "G:\\My Drive\\PhD\\projects\\external_measurements\\ml_difsims\\data/experimental\\20200209_163154_centre_rebin_correct_rb_fullscan.hspy\n"
     ]
    },
    {
     "name": "stderr",
     "output_type": "stream",
     "text": [
      "WARNING:pyFAI.geometry:No fast path for space: k\n"
     ]
    },
    {
     "name": "stdout",
     "output_type": "stream",
     "text": [
      "<ElectronDiffraction1D, title: , dimensions: (127, 127|256)>\n"
     ]
    },
    {
     "name": "stderr",
     "output_type": "stream",
     "text": [
      "ERROR:hyperspy.io_plugins._hierarchical:The writer could not write the following information in the file: ai : Detector Detector\t Spline= None\t PixelSize= 1.455e-04, 1.455e-04 m\r\n",
      "Wavelength= 2.507934e-12m\r\n",
      "SampleDetDist= 1.000000e+00m\tPONI= 3.745600e-02, 3.745600e-02m\trot1=0.000000  rot2= 0.000000  rot3= 0.000000 rad\r\n",
      "DirectBeamDist= 1000.000mm\tCenter: x=257.500, y=257.500 pix\tTilt=0.000 deg  tiltPlanRotation= 0.000 deg\n",
      "Traceback (most recent call last):\n",
      "  File \"C:\\Users\\jf631\\miniconda3\\envs\\pyxem_new\\lib\\site-packages\\hyperspy\\io_plugins\\_hierarchical.py\", line 774, in dict2group\n",
      "    group.attrs[key] = value\n",
      "  File \"h5py\\_objects.pyx\", line 54, in h5py._objects.with_phil.wrapper\n",
      "  File \"h5py\\_objects.pyx\", line 55, in h5py._objects.with_phil.wrapper\n",
      "  File \"C:\\Users\\jf631\\miniconda3\\envs\\pyxem_new\\lib\\site-packages\\h5py\\_hl\\attrs.py\", line 103, in __setitem__\n",
      "    self.create(name, data=value)\n",
      "  File \"C:\\Users\\jf631\\miniconda3\\envs\\pyxem_new\\lib\\site-packages\\h5py\\_hl\\attrs.py\", line 180, in create\n",
      "    htype = h5t.py_create(original_dtype, logical=True)\n",
      "  File \"h5py\\h5t.pyx\", line 1663, in h5py.h5t.py_create\n",
      "  File \"h5py\\h5t.pyx\", line 1687, in h5py.h5t.py_create\n",
      "  File \"h5py\\h5t.pyx\", line 1747, in h5py.h5t.py_create\n",
      "TypeError: Object dtype dtype('O') has no native HDF5 equivalent\n",
      "100%|██████████| 1/1 [09:53<00:00, 593.77s/it]"
     ]
    },
    {
     "name": "stdout",
     "output_type": "stream",
     "text": [
      "Finished with 20200209_163154_centre_rebin_correct_rb_fullscan_radial.hspy\n"
     ]
    },
    {
     "name": "stderr",
     "output_type": "stream",
     "text": [
      "\n"
     ]
    }
   ],
   "source": [
    "from pyxem.detectors import Medipix515x515Detector\n",
    "\n",
    "# Simulation microscope values (for azimuthal integration)\n",
    "beam_energy = 200.0  #keV\n",
    "detector_pix_size = 55e-6  #m\n",
    "\n",
    "for p in tqdm.tqdm(paths[:1]):\n",
    "    print(p)\n",
    "    dp = hs.load(p, signal_type='electron_diffraction')\n",
    "\n",
    "    calibration = dp.axes_manager.signal_axes[0].scale\n",
    "    detector_size = dp.axes_manager.signal_axes[0].size\n",
    "    radial_steps = int(np.ceil((int(detector_size / 2) - 1) / 2) * 2)\n",
    "\n",
    "    # # Old way (pyxem way):\n",
    "    #dp.set_diffraction_calibration(calibration)\n",
    "    dp.metadata.Signal.ai = None\n",
    "    dp.unit = \"k_A^-1\"\n",
    "    dp.set_experimental_parameters(beam_energy=beam_energy)\n",
    "    dp.set_ai(center=([detector_size / 2, detector_size / 2]))\n",
    "\n",
    "    # New way (pyFAI)\n",
    "    # detector = Medipix515x515Detector()\n",
    "    # wavelength = get_electron_wavelength(beam_energy) * 1e-10\n",
    "    # camera_length = detector_pix_size / (wavelength * calibration * 1e10)\n",
    "    # center = ([detector_size / 2, detector_size / 2])\n",
    "    # unit = \"k_A^-1\"\n",
    "    # dp.unit = unit\n",
    "    # ai = AzimuthalIntegrator(dist=camera_length, detector=detector, wavelength=wavelength)\n",
    "    # ai.setFit2D(directDist=camera_length * 1000, centerX=center[1], centerY=center[0])\n",
    "    # dp.metadata.set_item(\"Signal.ai\", ai)\n",
    "\n",
    "    radial = dp.get_azimuthal_integral1d(npt=radial_steps)\n",
    "    print(radial)\n",
    "    name = \"{}_radial.hspy\".format(os.path.basename(p).split('.')[0])\n",
    "    radial.save(os.path.join(os.path.dirname(p), name), overwrite=True)\n",
    "    print(f\"Finished with {name}\")\n",
    "    gc.collect()\n"
   ],
   "metadata": {
    "collapsed": false,
    "pycharm": {
     "name": "#%%\n"
    }
   }
  },
  {
   "cell_type": "code",
   "execution_count": 177,
   "outputs": [],
   "source": [],
   "metadata": {
    "collapsed": false,
    "pycharm": {
     "name": "#%%\n"
    }
   }
  },
  {
   "cell_type": "markdown",
   "source": [
    "## Crop (and rebin) to match simulated range\n",
    "\n",
    "The simulated range has the following format. Make sure the processed exp data has the same:\n",
    "- Pixel size: 147 px\n",
    "- Range in q (no $2\\pi/d$ but just $1/d$): (0.10777668889613681, 1.318191810345058) $\\AA^{-1}$"
   ],
   "metadata": {
    "collapsed": false,
    "pycharm": {
     "name": "#%% md\n"
    }
   }
  },
  {
   "cell_type": "code",
   "execution_count": 178,
   "outputs": [],
   "source": [
    "# DO NOT CHANGE!!!\n",
    "crop_range_q = (0.10777668889613681, 1.318191810345058) # A-1\n",
    "crop_size = 147 #px"
   ],
   "metadata": {
    "collapsed": false,
    "pycharm": {
     "name": "#%%\n"
    }
   }
  },
  {
   "cell_type": "code",
   "execution_count": 179,
   "outputs": [],
   "source": [
    "%matplotlib qt\n",
    "import hyperspy.api as hs\n",
    "import os, glob\n",
    "import numpy as np\n",
    "from scipy import interpolate\n",
    "import warnings\n",
    "import matplotlib.pyplot as plt"
   ],
   "metadata": {
    "collapsed": false,
    "pycharm": {
     "name": "#%%\n"
    }
   }
  },
  {
   "cell_type": "code",
   "execution_count": 183,
   "outputs": [
    {
     "data": {
      "text/plain": "['G:\\\\My Drive\\\\PhD\\\\projects\\\\external_measurements\\\\ml_difsims\\\\data/experimental\\\\20200209_163154_centre_rebin_correct_rb_fullscan_radial.hspy',\n 'G:\\\\My Drive\\\\PhD\\\\projects\\\\external_measurements\\\\ml_difsims\\\\data/experimental\\\\20220126_142402_rebin_nav_2_radial.hspy',\n 'G:\\\\My Drive\\\\PhD\\\\projects\\\\external_measurements\\\\ml_difsims\\\\data/experimental\\\\roi_3_rebin_radial.hspy',\n 'G:\\\\My Drive\\\\PhD\\\\projects\\\\external_measurements\\\\ml_difsims\\\\data/experimental\\\\roi_4_rebin_radial.hspy']"
     },
     "execution_count": 183,
     "metadata": {},
     "output_type": "execute_result"
    }
   ],
   "source": [
    "root = r'G:\\My Drive\\PhD\\projects\\external_measurements\\ml_difsims'\n",
    "folder = 'data/experimental'\n",
    "file_extension = '*.hspy'\n",
    "\n",
    "path = os.path.join(root, folder, file_extension)\n",
    "paths = glob.glob(path)\n",
    "paths = [p for p in paths if 'radial' in p and 'crop' not in p]\n",
    "paths.sort()\n",
    "paths"
   ],
   "metadata": {
    "collapsed": false,
    "pycharm": {
     "name": "#%%\n"
    }
   }
  },
  {
   "cell_type": "code",
   "execution_count": 183,
   "outputs": [],
   "source": [],
   "metadata": {
    "collapsed": false,
    "pycharm": {
     "name": "#%%\n"
    }
   }
  },
  {
   "cell_type": "code",
   "execution_count": 184,
   "outputs": [
    {
     "name": "stdout",
     "output_type": "stream",
     "text": [
      "<ElectronDiffraction1D, title: , dimensions: (127, 127|147)>\n"
     ]
    },
    {
     "name": "stderr",
     "output_type": "stream",
     "text": [
      "C:\\Users\\jf631\\AppData\\Local\\Temp\\ipykernel_12844\\3665366421.py:18: UserWarning: The range at which signal was acquired is not large enough. Extrapolation will be used using scipy.interpolate.interp1d\n",
      "  warnings.warn(\"The range at which signal was acquired is not large enough. Extrapolation will be used using scipy.interpolate.interp1d\")\n"
     ]
    },
    {
     "name": "stdout",
     "output_type": "stream",
     "text": [
      "<ElectronDiffraction1D, title: , dimensions: (127, 127|147)>\n",
      "<ElectronDiffraction1D, title: , dimensions: (25, 20|147)>\n",
      "<ElectronDiffraction1D, title: , dimensions: (26, 28|147)>\n"
     ]
    }
   ],
   "source": [
    "def interpolate_1d(signal_data, q_array, crop_range_q, crop_size):\n",
    "    # Do interpolation\n",
    "    x = q_array\n",
    "    y = signal_data\n",
    "    f = interpolate.interp1d(x, y, fill_value='extrapolate')\n",
    "\n",
    "    # Generate new data\n",
    "    x_new = np.linspace(crop_range_q[0], crop_range_q[1], crop_size)\n",
    "    y_interpol = f(x_new)\n",
    "    return y_interpol\n",
    "\n",
    "\n",
    "\n",
    "for path in paths:\n",
    "    dp = hs.load(path, signal_type='electron_diffraction')\n",
    "    q_exp = dp.axes_manager.signal_axes[0].axis\n",
    "    if q_exp.min() > crop_range_q[0] or q_exp.max() < crop_range_q[1]:\n",
    "        warnings.warn(\"The range at which signal was acquired is not large enough. Extrapolation will be used using scipy.interpolate.interp1d\")\n",
    "\n",
    "    q_array = dp.axes_manager.signal_axes[0].axis\n",
    "    q_new = np.linspace(crop_range_q[0], crop_range_q[1], crop_size)\n",
    "    dp_crop = dp.map(interpolate_1d, q_array = q_array, crop_range_q = crop_range_q, crop_size = crop_size,\n",
    "                     show_progressbar=True, parallel=True, inplace=False)\n",
    "\n",
    "    # Correct for axes calibration\n",
    "    sig_ax = dp_crop.axes_manager.signal_axes[0]\n",
    "    sig_ax.offset = crop_range_q[0]\n",
    "    sig_ax.scale = (crop_range_q[1] - crop_range_q[0])/ crop_size\n",
    "    print(dp_crop)\n",
    "\n",
    "    # Save files\n",
    "    name = \"{}_crop.hspy\".format(os.path.basename(path).split('.')[0])\n",
    "    dp_crop.save(os.path.join(os.path.dirname(path), name), overwrite=True)\n",
    "    name = \"{}_crop.npz\".format(os.path.basename(path).split('.')[0])\n",
    "    np.savez(os.path.join(os.path.dirname(path), 'npz_files', name), y=dp_crop.data, x=q_new)\n",
    "\n",
    "    # Plot results\n",
    "    plt.plot(q_new, dp_crop.mean().data, label=name)\n",
    "\n",
    "plt.legend()\n",
    "plt.tight_layout()"
   ],
   "metadata": {
    "collapsed": false,
    "pycharm": {
     "name": "#%%\n"
    }
   }
  },
  {
   "cell_type": "code",
   "execution_count": 182,
   "outputs": [
    {
     "data": {
      "text/plain": "'roi_4_rebin_radial_crop.npz'"
     },
     "execution_count": 182,
     "metadata": {},
     "output_type": "execute_result"
    }
   ],
   "source": [
    "dp_crop.mean().plot()\n",
    "name"
   ],
   "metadata": {
    "collapsed": false,
    "pycharm": {
     "name": "#%%\n"
    }
   }
  },
  {
   "cell_type": "code",
   "execution_count": null,
   "outputs": [],
   "source": [
    "dp.axes_manager, dp_crop.axes_manager"
   ],
   "metadata": {
    "collapsed": false,
    "pycharm": {
     "name": "#%%\n"
    }
   }
  },
  {
   "cell_type": "code",
   "execution_count": null,
   "outputs": [],
   "source": [],
   "metadata": {
    "collapsed": false,
    "pycharm": {
     "name": "#%%\n"
    }
   }
  }
 ],
 "metadata": {
  "kernelspec": {
   "display_name": "Python 3",
   "language": "python",
   "name": "python3"
  },
  "language_info": {
   "codemirror_mode": {
    "name": "ipython",
    "version": 2
   },
   "file_extension": ".py",
   "mimetype": "text/x-python",
   "name": "python",
   "nbconvert_exporter": "python",
   "pygments_lexer": "ipython2",
   "version": "2.7.6"
  }
 },
 "nbformat": 4,
 "nbformat_minor": 0
}