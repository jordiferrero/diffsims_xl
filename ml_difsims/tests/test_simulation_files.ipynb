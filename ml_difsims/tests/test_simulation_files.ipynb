{
 "cells": [
  {
   "cell_type": "markdown",
   "metadata": {
    "collapsed": true,
    "pycharm": {
     "name": "#%% md\n"
    }
   },
   "source": [
    "# Test if simulation ran successfully"
   ]
  },
  {
   "cell_type": "code",
   "execution_count": 36,
   "outputs": [],
   "source": [
    "%matplotlib qt\n",
    "import numpy as np\n",
    "import h5py\n",
    "import os, glob\n",
    "import matplotlib.pyplot as plt\n",
    "import hyperspy.api as hs"
   ],
   "metadata": {
    "collapsed": false,
    "pycharm": {
     "name": "#%%\n"
    }
   }
  },
  {
   "cell_type": "code",
   "execution_count": 31,
   "outputs": [
    {
     "data": {
      "text/plain": "['C:/Users/Sauron/Documents/GitHub/strankslab/ml_difsims\\\\data/simulations\\\\sim-0646a46f-1422-4422-a9f2-523231e431af.hdf5',\n 'C:/Users/Sauron/Documents/GitHub/strankslab/ml_difsims\\\\data/simulations\\\\sim-1ffc439f-81f8-4b02-b4ef-3e7d810296f8.hdf5',\n 'C:/Users/Sauron/Documents/GitHub/strankslab/ml_difsims\\\\data/simulations\\\\sim-9ae9b31a-4c69-467e-8819-1958fceae2b4.hdf5',\n 'C:/Users/Sauron/Documents/GitHub/strankslab/ml_difsims\\\\data/simulations\\\\sim-c4f40349-912c-4f09-b4a4-b7ec2425e196.hdf5',\n 'C:/Users/Sauron/Documents/GitHub/strankslab/ml_difsims\\\\data/simulations\\\\sim-dd33c301-7401-4f65-8edd-67f050027194.hdf5']"
     },
     "execution_count": 31,
     "metadata": {},
     "output_type": "execute_result"
    }
   ],
   "source": [
    "root_path = r'C:/Users/Sauron/Documents/GitHub/strankslab/ml_difsims'\n",
    "save_relpath = 'data/simulations'\n",
    "file_type = \"*.hdf5\"\n",
    "\n",
    "path = os.path.join(root_path, save_relpath, file_type)\n",
    "files = glob.glob(path)\n",
    "files.sort()\n",
    "files"
   ],
   "metadata": {
    "collapsed": false,
    "pycharm": {
     "name": "#%%\n"
    }
   }
  },
  {
   "cell_type": "code",
   "execution_count": 48,
   "outputs": [
    {
     "name": "stdout",
     "output_type": "stream",
     "text": [
      "(300000, 147)\n"
     ]
    }
   ],
   "source": [
    "i = 2\n",
    "with h5py.File(files[i], 'r') as f:\n",
    "    dat = f['1d']['x_px']\n",
    "    labels = f['1d']['y_px']\n",
    "    dat = np.array(dat)\n",
    "    labels = np.array(labels)\n",
    "    print(dat.shape)\n",
    "    q_x = np.array(f['1d']['x_all_q_axis'])"
   ],
   "metadata": {
    "collapsed": false,
    "pycharm": {
     "name": "#%%\n"
    }
   }
  },
  {
   "cell_type": "code",
   "execution_count": 41,
   "outputs": [],
   "source": [
    "s = hs.signals.Signal1D(dat[:100])\n",
    "s.plot()"
   ],
   "metadata": {
    "collapsed": false,
    "pycharm": {
     "name": "#%%\n"
    }
   }
  },
  {
   "cell_type": "code",
   "execution_count": 47,
   "outputs": [
    {
     "data": {
      "text/plain": "[<matplotlib.lines.Line2D at 0x1d31cc59c40>]"
     },
     "execution_count": 47,
     "metadata": {},
     "output_type": "execute_result"
    }
   ],
   "source": [
    "plt.plot(labels)"
   ],
   "metadata": {
    "collapsed": false,
    "pycharm": {
     "name": "#%%\n"
    }
   }
  },
  {
   "cell_type": "code",
   "execution_count": 50,
   "outputs": [
    {
     "data": {
      "text/plain": "(256,)"
     },
     "execution_count": 50,
     "metadata": {},
     "output_type": "execute_result"
    }
   ],
   "source": [
    "q_x.shape"
   ],
   "metadata": {
    "collapsed": false,
    "pycharm": {
     "name": "#%%\n"
    }
   }
  },
  {
   "cell_type": "code",
   "execution_count": null,
   "outputs": [],
   "source": [],
   "metadata": {
    "collapsed": false,
    "pycharm": {
     "name": "#%%\n"
    }
   }
  }
 ],
 "metadata": {
  "kernelspec": {
   "display_name": "Python 3",
   "language": "python",
   "name": "python3"
  },
  "language_info": {
   "codemirror_mode": {
    "name": "ipython",
    "version": 2
   },
   "file_extension": ".py",
   "mimetype": "text/x-python",
   "name": "python",
   "nbconvert_exporter": "python",
   "pygments_lexer": "ipython2",
   "version": "2.7.6"
  }
 },
 "nbformat": 4,
 "nbformat_minor": 0
}