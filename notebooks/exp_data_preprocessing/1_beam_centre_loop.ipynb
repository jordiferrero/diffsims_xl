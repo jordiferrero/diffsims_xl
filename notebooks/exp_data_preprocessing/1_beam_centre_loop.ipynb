{
 "cells": [
  {
   "cell_type": "markdown",
   "metadata": {
    "pycharm": {
     "name": "#%% md\n"
    }
   },
   "source": [
    "# Mask, center, correct, calibrate and threshold 2D raw data"
   ]
  },
  {
   "cell_type": "code",
   "execution_count": 1,
   "metadata": {
    "pycharm": {
     "name": "#%%\n"
    }
   },
   "outputs": [],
   "source": [
    "%matplotlib qt\n",
    "import hyperspy.api as hs\n",
    "import pyxem as pxm\n",
    "import os, glob, gc\n",
    "import numpy as np\n",
    "import h5py\n",
    "import matplotlib.pyplot as plt\n",
    "from project_vars import *\n",
    "from mg26825_4.mg26825_4_vars import *\n",
    "import tqdm"
   ]
  },
  {
   "cell_type": "code",
   "execution_count": 9,
   "metadata": {
    "pycharm": {
     "name": "#%%\n"
    }
   },
   "outputs": [
    {
     "name": "stdout",
     "output_type": "stream",
     "text": [
      "{'80000': 9.58, '100000': 7.76, '150000': 5.13, '200000': 3.87, '250000': 3.09, '300000': 2.57, '600000': 1.29}\n"
     ]
    }
   ],
   "source": [
    "DATA_ROOT = r\"D:\\Data\\jf631\\sed\\mg26852-4\"\n",
    "data = []\n",
    "# Local folders paths\n",
    "data_folder = r\"full_data_metadata\"\n",
    "mask_folder = r\"mask\"\n",
    "\n",
    "# Name of files\n",
    "data_wildcard = '**/*_data.hdf'\n",
    "metadata_wildcard = '*_metadata.hdf'\n",
    "apply_mask = True\n",
    "mask_fname = r'mask_feb_2022_edited.npy'\n",
    "\n",
    "threshold_ones = False\n",
    "rotate_dp = False\n",
    "\n",
    "crop_nav = True\n",
    "crop_sig = True\n",
    "\n",
    "affine_matrix = affine_matrix\n",
    "rotation_angle = rotation_angle\n",
    "\n",
    "nav_cal_dict = nav_cal_dict\n",
    "recip_cal = recip_cal\n",
    "\n",
    "print(nav_cal_dict)"
   ]
  },
  {
   "cell_type": "code",
   "execution_count": 11,
   "outputs": [
    {
     "name": "stdout",
     "output_type": "stream",
     "text": [
      "316\n"
     ]
    },
    {
     "data": {
      "text/plain": "(['D:\\\\Data\\\\jf631\\\\sed\\\\mg26852-4\\\\full_data_metadata\\\\anneal\\\\20220127_132705\\\\20220127_132705_data_data.hdf',\n  'D:\\\\Data\\\\jf631\\\\sed\\\\mg26852-4\\\\full_data_metadata\\\\anneal\\\\20220127_132955\\\\20220127_132955_data_data.hdf'],\n 316)"
     },
     "execution_count": 11,
     "metadata": {},
     "output_type": "execute_result"
    }
   ],
   "source": [
    "data = glob.glob(os.path.join(DATA_ROOT, data_folder, data_wildcard), recursive=True)\n",
    "data.sort()\n",
    "\n",
    "print(len(data))\n",
    "data[:2], len(data)"
   ],
   "metadata": {
    "collapsed": false,
    "pycharm": {
     "name": "#%%\n"
    }
   }
  },
  {
   "cell_type": "code",
   "execution_count": 12,
   "outputs": [
    {
     "data": {
      "text/plain": "['D:\\\\Data\\\\jf631\\\\sed\\\\mg26852-4\\\\full_data_metadata\\\\au_xgrating_cal\\\\20220126_142402\\\\20220126_142402_data_data.hdf',\n 'D:\\\\Data\\\\jf631\\\\sed\\\\mg26852-4\\\\full_data_metadata\\\\au_xgrating_cal\\\\20220126_143235\\\\20220126_143235_data_data.hdf',\n 'D:\\\\Data\\\\jf631\\\\sed\\\\mg26852-4\\\\full_data_metadata\\\\au_xgrating_cal\\\\20220126_143954\\\\20220126_143954_data_data.hdf',\n 'D:\\\\Data\\\\jf631\\\\sed\\\\mg26852-4\\\\full_data_metadata\\\\au_xgrating_cal\\\\20220126_144455\\\\20220126_144455_data_data.hdf',\n 'D:\\\\Data\\\\jf631\\\\sed\\\\mg26852-4\\\\full_data_metadata\\\\au_xgrating_cal\\\\20220126_144803\\\\20220126_144803_data_data.hdf',\n 'D:\\\\Data\\\\jf631\\\\sed\\\\mg26852-4\\\\full_data_metadata\\\\au_xgrating_cal\\\\20220126_145038\\\\20220126_145038_data_data.hdf',\n 'D:\\\\Data\\\\jf631\\\\sed\\\\mg26852-4\\\\full_data_metadata\\\\au_xgrating_cal\\\\20220126_145259\\\\20220126_145259_data_data.hdf',\n 'D:\\\\Data\\\\jf631\\\\sed\\\\mg26852-4\\\\full_data_metadata\\\\moo3_cal\\\\20220128_093243\\\\20220128_093243_data_data.hdf',\n 'D:\\\\Data\\\\jf631\\\\sed\\\\mg26852-4\\\\full_data_metadata\\\\moo3_cal\\\\20220128_093556\\\\20220128_093556_data_data.hdf',\n 'D:\\\\Data\\\\jf631\\\\sed\\\\mg26852-4\\\\full_data_metadata\\\\moo3_cal\\\\20220128_095942\\\\20220128_095942_data_data.hdf']"
     },
     "execution_count": 12,
     "metadata": {},
     "output_type": "execute_result"
    }
   ],
   "source": [
    "# Filter only Au and Mo\n",
    "data = [d for d in data if 'cal' in d]\n",
    "data"
   ],
   "metadata": {
    "collapsed": false,
    "pycharm": {
     "name": "#%%\n"
    }
   }
  },
  {
   "cell_type": "code",
   "execution_count": 13,
   "outputs": [
    {
     "data": {
      "text/plain": "<matplotlib.image.AxesImage at 0x1f9e3272a60>"
     },
     "execution_count": 13,
     "metadata": {},
     "output_type": "execute_result"
    }
   ],
   "source": [
    "# Load a mask to cover the dead pixels and the joints between detectors\n",
    "mask = np.load(os.path.join(DATA_ROOT, mask_folder, mask_fname))\n",
    "plt.imshow(mask)"
   ],
   "metadata": {
    "collapsed": false,
    "pycharm": {
     "name": "#%%\n"
    }
   }
  },
  {
   "cell_type": "code",
   "execution_count": 14,
   "metadata": {
    "pycharm": {
     "name": "#%%\n"
    }
   },
   "outputs": [
    {
     "name": "stderr",
     "output_type": "stream",
     "text": [
      "C:\\Users\\Sauron\\AppData\\Local\\Temp\\ipykernel_44724\\1810937860.py:8: TqdmDeprecationWarning: This function will be removed in tqdm==5.0.0\n",
      "Please use `tqdm.notebook.tqdm` instead of `tqdm.tqdm_notebook`\n",
      "  for i, fname in tqdm.tqdm_notebook(enumerate(data[:])):\n"
     ]
    },
    {
     "data": {
      "text/plain": "0it [00:00, ?it/s]",
      "application/vnd.jupyter.widget-view+json": {
       "version_major": 2,
       "version_minor": 0,
       "model_id": "489c4afe22ba49a0a11146320816f69b"
      }
     },
     "metadata": {},
     "output_type": "display_data"
    },
    {
     "name": "stdout",
     "output_type": "stream",
     "text": [
      "[########################################] | 100% Completed |  0.3s\n",
      "[########################################] | 100% Completed |  1min  7.0s\n",
      "File 0 20220126_142402 finished.\n",
      "[########################################] | 100% Completed |  0.3s\n",
      "[########################################] | 100% Completed |  1min  6.4s\n",
      "File 1 20220126_143235 finished.\n",
      "[########################################] | 100% Completed |  0.5s\n",
      "[########################################] | 100% Completed |  1min  6.0s\n",
      "File 2 20220126_143954 finished.\n",
      "[########################################] | 100% Completed |  0.4s\n",
      "[########################################] | 100% Completed |  1min  6.5s\n",
      "File 3 20220126_144455 finished.\n",
      "[########################################] | 100% Completed |  0.3s\n",
      "[########################################] | 100% Completed |  1min  6.5s\n",
      "File 4 20220126_144803 finished.\n",
      "[########################################] | 100% Completed |  0.3s\n",
      "[########################################] | 100% Completed |  1min  9.0s\n",
      "File 5 20220126_145038 finished.\n",
      "[########################################] | 100% Completed |  0.3s\n",
      "[########################################] | 100% Completed |  1min  9.5s\n",
      "File 6 20220126_145259 finished.\n",
      "[########################################] | 100% Completed |  0.4s\n",
      "[########################################] | 100% Completed |  1min  9.4s\n",
      "File 7 20220128_093243 finished.\n",
      "[########################################] | 100% Completed |  0.3s\n",
      "[########################################] | 100% Completed |  1min 10.0s\n",
      "File 8 20220128_093556 finished.\n",
      "[########################################] | 100% Completed |  0.4s\n",
      "[########################################] | 100% Completed |  1min 10.5s\n",
      "File 9 20220128_095942 finished.\n"
     ]
    },
    {
     "data": {
      "text/plain": "  0%|          | 0/64516 [00:00<?, ?it/s]",
      "application/vnd.jupyter.widget-view+json": {
       "version_major": 2,
       "version_minor": 0,
       "model_id": "a630bb83c2254b07bd120ca36f8122eb"
      }
     },
     "metadata": {},
     "output_type": "display_data"
    },
    {
     "data": {
      "text/plain": "  0%|          | 0/64516 [00:00<?, ?it/s]",
      "application/vnd.jupyter.widget-view+json": {
       "version_major": 2,
       "version_minor": 0,
       "model_id": "886b541a3d3d42dda28d1ba48c45f208"
      }
     },
     "metadata": {},
     "output_type": "display_data"
    },
    {
     "data": {
      "text/plain": "  0%|          | 0/64516 [00:00<?, ?it/s]",
      "application/vnd.jupyter.widget-view+json": {
       "version_major": 2,
       "version_minor": 0,
       "model_id": "36a67857107e490199359cd0b735d4e8"
      }
     },
     "metadata": {},
     "output_type": "display_data"
    },
    {
     "data": {
      "text/plain": "  0%|          | 0/64516 [00:00<?, ?it/s]",
      "application/vnd.jupyter.widget-view+json": {
       "version_major": 2,
       "version_minor": 0,
       "model_id": "ec7274810dd5469d868684cf2a5af449"
      }
     },
     "metadata": {},
     "output_type": "display_data"
    },
    {
     "data": {
      "text/plain": "  0%|          | 0/64516 [00:00<?, ?it/s]",
      "application/vnd.jupyter.widget-view+json": {
       "version_major": 2,
       "version_minor": 0,
       "model_id": "79df1b5e222d4fefa82498e780605bae"
      }
     },
     "metadata": {},
     "output_type": "display_data"
    },
    {
     "data": {
      "text/plain": "  0%|          | 0/64516 [00:00<?, ?it/s]",
      "application/vnd.jupyter.widget-view+json": {
       "version_major": 2,
       "version_minor": 0,
       "model_id": "b0aed1204f05494599d1a68dcf79f70e"
      }
     },
     "metadata": {},
     "output_type": "display_data"
    },
    {
     "data": {
      "text/plain": "  0%|          | 0/64516 [00:00<?, ?it/s]",
      "application/vnd.jupyter.widget-view+json": {
       "version_major": 2,
       "version_minor": 0,
       "model_id": "e8713d438f6e4c4bbfba11c44593ec56"
      }
     },
     "metadata": {},
     "output_type": "display_data"
    },
    {
     "data": {
      "text/plain": "  0%|          | 0/64516 [00:00<?, ?it/s]",
      "application/vnd.jupyter.widget-view+json": {
       "version_major": 2,
       "version_minor": 0,
       "model_id": "ae83b08c056844fc85907794331ada73"
      }
     },
     "metadata": {},
     "output_type": "display_data"
    },
    {
     "data": {
      "text/plain": "  0%|          | 0/64516 [00:00<?, ?it/s]",
      "application/vnd.jupyter.widget-view+json": {
       "version_major": 2,
       "version_minor": 0,
       "model_id": "34fac2f065e041f4b1ab59a5bddd2397"
      }
     },
     "metadata": {},
     "output_type": "display_data"
    },
    {
     "data": {
      "text/plain": "  0%|          | 0/64516 [00:00<?, ?it/s]",
      "application/vnd.jupyter.widget-view+json": {
       "version_major": 2,
       "version_minor": 0,
       "model_id": "caec0235dd6544ca863cfaa3b23df96a"
      }
     },
     "metadata": {},
     "output_type": "display_data"
    },
    {
     "data": {
      "text/plain": "  0%|          | 0/64516 [00:00<?, ?it/s]",
      "application/vnd.jupyter.widget-view+json": {
       "version_major": 2,
       "version_minor": 0,
       "model_id": "5e339ba13bde418bb538121131f76834"
      }
     },
     "metadata": {},
     "output_type": "display_data"
    },
    {
     "data": {
      "text/plain": "  0%|          | 0/64516 [00:00<?, ?it/s]",
      "application/vnd.jupyter.widget-view+json": {
       "version_major": 2,
       "version_minor": 0,
       "model_id": "8e8ebb98965f4865a590b00b3a208a5e"
      }
     },
     "metadata": {},
     "output_type": "display_data"
    },
    {
     "data": {
      "text/plain": "  0%|          | 0/64516 [00:00<?, ?it/s]",
      "application/vnd.jupyter.widget-view+json": {
       "version_major": 2,
       "version_minor": 0,
       "model_id": "60f8dc680a884837a21c7420a2bff5cd"
      }
     },
     "metadata": {},
     "output_type": "display_data"
    },
    {
     "data": {
      "text/plain": "  0%|          | 0/64516 [00:00<?, ?it/s]",
      "application/vnd.jupyter.widget-view+json": {
       "version_major": 2,
       "version_minor": 0,
       "model_id": "40210a8c2ec74a5abc68f4720e16d790"
      }
     },
     "metadata": {},
     "output_type": "display_data"
    },
    {
     "data": {
      "text/plain": "  0%|          | 0/64516 [00:00<?, ?it/s]",
      "application/vnd.jupyter.widget-view+json": {
       "version_major": 2,
       "version_minor": 0,
       "model_id": "98a6268764534313b925f2cc83460fe3"
      }
     },
     "metadata": {},
     "output_type": "display_data"
    },
    {
     "data": {
      "text/plain": "  0%|          | 0/64516 [00:00<?, ?it/s]",
      "application/vnd.jupyter.widget-view+json": {
       "version_major": 2,
       "version_minor": 0,
       "model_id": "05638c0f9a9544699a21167f03b1fb50"
      }
     },
     "metadata": {},
     "output_type": "display_data"
    },
    {
     "data": {
      "text/plain": "  0%|          | 0/64516 [00:00<?, ?it/s]",
      "application/vnd.jupyter.widget-view+json": {
       "version_major": 2,
       "version_minor": 0,
       "model_id": "e4fec4439cbb49cc89ede6e069716e07"
      }
     },
     "metadata": {},
     "output_type": "display_data"
    },
    {
     "data": {
      "text/plain": "  0%|          | 0/64516 [00:00<?, ?it/s]",
      "application/vnd.jupyter.widget-view+json": {
       "version_major": 2,
       "version_minor": 0,
       "model_id": "0ec1a4e3c3cf482b963ef71b553f922e"
      }
     },
     "metadata": {},
     "output_type": "display_data"
    },
    {
     "data": {
      "text/plain": "  0%|          | 0/64516 [00:00<?, ?it/s]",
      "application/vnd.jupyter.widget-view+json": {
       "version_major": 2,
       "version_minor": 0,
       "model_id": "7c7d76bcc4a445df98f1675fd31a7130"
      }
     },
     "metadata": {},
     "output_type": "display_data"
    },
    {
     "data": {
      "text/plain": "  0%|          | 0/64516 [00:00<?, ?it/s]",
      "application/vnd.jupyter.widget-view+json": {
       "version_major": 2,
       "version_minor": 0,
       "model_id": "b321b6615ca1416f836a1a3e38436260"
      }
     },
     "metadata": {},
     "output_type": "display_data"
    }
   ],
   "source": [
    "def get_magnification_from_file(metadata_fname):\n",
    "    md = h5py.File(metadata_fname, 'r')\n",
    "    mag = np.array(md['metadata/magnification'])\n",
    "    return mag\n",
    "\n",
    "\n",
    "\n",
    "for i, fname in tqdm.tqdm_notebook(enumerate(data[:])):\n",
    "    dp_dir = os.path.dirname(fname)\n",
    "    dp_name = os.path.basename(fname).split('.')[0]\n",
    "    dp_name = dp_name.replace('_data_data', '')\n",
    "\n",
    "    # Check if file already processed\n",
    "    name_temp = f'{dp_name}_rebin_sig_2.hspy'\n",
    "    path_to_check = os.path.join(dp_dir, name_temp)\n",
    "    if os.path.exists(path_to_check):\n",
    "        print(f\"{dp_name} already processed!\")\n",
    "        continue\n",
    "\n",
    "    # Load file\n",
    "    f = h5py.File(fname, 'r')['Experiments/__unnamed__/data']\n",
    "    dp = pxm.signals.electron_diffraction2d.ElectronDiffraction2D(np.array(f))\n",
    "\n",
    "\n",
    "    # Apply mask\n",
    "    if apply_mask:\n",
    "        dp *= mask\n",
    "\n",
    "    # Crop dp into divisible shape\n",
    "    if crop_nav:\n",
    "        dp = dp.inav[1:,1:]\n",
    "    if crop_sig:\n",
    "        dp = dp.isig[134:-61,144:-51]\n",
    "\n",
    "    # Reset the offset\n",
    "    dp.axes_manager.navigation_axes[0].offset = 0\n",
    "    dp.axes_manager.navigation_axes[1].offset = 0\n",
    "    dp.axes_manager.signal_axes[0].offset = 0\n",
    "    dp.axes_manager.signal_axes[1].offset = 0\n",
    "\n",
    "    # Get mean diffraction pattern to centre from there\n",
    "    mean_dp = dp.mean()\n",
    "    mean_dp = pxm.signals.electron_diffraction2d.ElectronDiffraction2D(mean_dp)\n",
    "    centre = mean_dp.get_direct_beam_position(method = 'cross_correlate', radius_start = 1, radius_finish = 10)\n",
    "    shifts = [[centre.data[0], centre.data[1]]]\n",
    "\n",
    "    # Create shifts array and align and centre\n",
    "    n_shifts = shifts * dp.axes_manager.navigation_shape[0] * dp.axes_manager.navigation_shape[1]\n",
    "    n_shifts=np.array(n_shifts)\n",
    "    new_shape = (dp.axes_manager.navigation_shape[1], dp.axes_manager.navigation_shape[0], 2)\n",
    "    n_shifts = n_shifts.reshape(new_shape)\n",
    "    dp.align2D(shifts = -n_shifts, crop = False)\n",
    "    dp.center_direct_beam(method='interpolate', sigma=5, upsample_factor=4, kind='linear', half_square_width=10)\n",
    "\n",
    "    # Calibrate\n",
    "    # md_fname = glob.glob(os.path.join(dp_dir, metadata_wildcard))[0]\n",
    "    # mag = get_magnification_from_file(md_fname)\n",
    "    #nav_cal = nav_cal_dict[str(mag)]\n",
    "    #dp.set_scan_calibration(nav_cal)\n",
    "    dp.set_diffraction_calibration(recip_cal)\n",
    "\n",
    "    # Save cropped\n",
    "    name_temp = f'{dp_name}_cropped.hspy'\n",
    "    dp.save(os.path.join(dp_dir, name_temp), overwrite=True)\n",
    "\n",
    "    # Apply affine transforms (affine + rot)\n",
    "    transform_mat = affine_matrix\n",
    "    dp.apply_affine_transformation(transform_mat, keep_dtype=True)\n",
    "\n",
    "    # Rotate\n",
    "    if rotate_dp:\n",
    "        continue\n",
    "        # TODO: Add scipy.rotate with the dp.map function\n",
    "\n",
    "    dp.set_diffraction_calibration(recip_cal)\n",
    "    # Save\n",
    "    name_temp = f'{dp_name}_processed.hspy'\n",
    "    dp.save(os.path.join(dp_dir, name_temp), overwrite=True)\n",
    "\n",
    "    # Save sum_dp\n",
    "    sum_dp = dp.sum()\n",
    "    name_temp = f'{dp_name}_sum_dp.hspy'\n",
    "    sum_dp.save(os.path.join(dp_dir, name_temp), overwrite=True)\n",
    "    sum_dp.change_dtype('float32')\n",
    "    name_temp = f'{dp_name}_sum_dp.tiff'\n",
    "    sum_dp.save(os.path.join(dp_dir, name_temp), overwrite=True)\n",
    "\n",
    "    # Save rebinned data\n",
    "    dp_nav_rebin = dp.rebin(scale=[2,2,1,1])\n",
    "    name_temp = f'{dp_name}_rebin_nav_2.hspy'\n",
    "    dp_nav_rebin.save(os.path.join(dp_dir, name_temp), overwrite=True)\n",
    "\n",
    "    dp_sig_rebin = dp.rebin(scale=[1,1,2,2])\n",
    "    name_temp = f'{dp_name}_rebin_sig_2.hspy'\n",
    "    dp_sig_rebin.save(os.path.join(dp_dir, name_temp), overwrite=True)\n",
    "\n",
    "    if threshold_ones:\n",
    "        # Threshold the pixels with counts 1\n",
    "        dp2 = dp.deecopy()\n",
    "        dp2.data[dp2.data==1] = 0\n",
    "        name_temp = f'{dp_name}_processed_threshold.hspy'\n",
    "        dp2.save(os.path.join(dp_dir, name_temp), overwrite=True)\n",
    "        del dp2\n",
    "\n",
    "    # Clean up memory\n",
    "    del dp\n",
    "    gc.collect()\n",
    "    print(f\"File {i} {dp_name} finished.\")"
   ]
  },
  {
   "cell_type": "code",
   "execution_count": 31,
   "outputs": [
    {
     "name": "stdout",
     "output_type": "stream",
     "text": [
      "<ElectronDiffraction2D, title: , dimensions: (254, 254|320, 320)>\n"
     ]
    }
   ],
   "source": [
    "name_temp = f'{dp_name}_processed.hspy'\n",
    "dp = hs.load(os.path.join(dp_dir, name_temp),)\n",
    "print(dp)\n"
   ],
   "metadata": {
    "collapsed": false,
    "pycharm": {
     "name": "#%%\n"
    }
   }
  },
  {
   "cell_type": "code",
   "execution_count": null,
   "outputs": [],
   "source": [],
   "metadata": {
    "collapsed": false,
    "pycharm": {
     "name": "#%%\n"
    }
   }
  }
 ],
 "metadata": {
  "kernelspec": {
   "display_name": "Python 3",
   "language": "python",
   "name": "python3"
  },
  "language_info": {
   "codemirror_mode": {
    "name": "ipython",
    "version": 3
   },
   "file_extension": ".py",
   "mimetype": "text/x-python",
   "name": "python",
   "nbconvert_exporter": "python",
   "pygments_lexer": "ipython3",
   "version": "3.7.9"
  }
 },
 "nbformat": 4,
 "nbformat_minor": 4
}