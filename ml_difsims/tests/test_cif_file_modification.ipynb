{
 "cells": [
  {
   "cell_type": "code",
   "execution_count": 49,
   "metadata": {
    "collapsed": true,
    "pycharm": {
     "name": "#%%\n"
    }
   },
   "outputs": [],
   "source": [
    "import os, glob\n",
    "import diffpy.structure"
   ]
  },
  {
   "cell_type": "code",
   "execution_count": 86,
   "outputs": [
    {
     "name": "stdout",
     "output_type": "stream",
     "text": [
      "Pb-Pb 6.300321420372139 Pb-I 3.15079067933749\n",
      "Lattice(a=8.91, b=8.91, c=6.3, alpha=90, beta=90, gamma=90)\n"
     ]
    },
    {
     "data": {
      "text/plain": "array([[0.     , 0.     , 0.     ],\n       [4.455  , 4.455  , 0.     ],\n       [0.     , 0.     , 3.15   ],\n       [4.455  , 4.455  , 3.15   ],\n       [2.18295, 2.27205, 0.     ],\n       [6.72705, 6.63795, 0.     ],\n       [6.63795, 2.18295, 0.     ],\n       [2.27205, 6.72705, 0.     ],\n       [0.     , 4.455  , 3.15   ],\n       [4.455  , 0.     , 3.15   ]])"
     },
     "execution_count": 86,
     "metadata": {},
     "output_type": "execute_result"
    }
   ],
   "source": [
    "cif_path = r\"G:\\My Drive\\PhD\\projects\\external_measurements\\ml_difsims\\models\\crystal_phases\\p4mbm_scaled_mixed_halide.cif\"\n",
    "cif = diffpy.structure.loadStructure(cif_path)\n",
    "lattice = cif.lattice\n",
    "print('Pb-Pb', cif.distance(0,1), 'Pb-I', cif.distance(0,4))\n",
    "print(lattice)\n",
    "cif.xyz_cartn"
   ],
   "metadata": {
    "collapsed": false,
    "pycharm": {
     "name": "#%%\n"
    }
   }
  },
  {
   "cell_type": "code",
   "execution_count": 91,
   "outputs": [
    {
     "name": "stdout",
     "output_type": "stream",
     "text": [
      "Pb-Pb 6.300321420372139 Pb-I 3.15079067933749\n",
      "Lattice(a=8.91, b=8.91, c=6.3, alpha=90, beta=90, gamma=90)\n"
     ]
    },
    {
     "data": {
      "text/plain": "array([[0.     , 0.     , 0.     ],\n       [4.455  , 4.455  , 0.     ],\n       [0.     , 0.     , 3.15   ],\n       [4.455  , 4.455  , 3.15   ],\n       [2.18295, 2.27205, 0.     ],\n       [6.72705, 6.63795, 0.     ],\n       [6.63795, 2.18295, 0.     ],\n       [2.27205, 6.72705, 0.     ],\n       [0.     , 4.455  , 3.15   ],\n       [4.455  , 0.     , 3.15   ]])"
     },
     "execution_count": 91,
     "metadata": {},
     "output_type": "execute_result"
    }
   ],
   "source": [
    "scaling_factor = 1\n",
    "\n",
    "def scale_lattice(cif_file, scaling_factor):\n",
    "    import copy\n",
    "    cif = copy.deepcopy(cif_file)\n",
    "    cif.lattice.a *= scaling_factor\n",
    "    cif.lattice.b *= scaling_factor\n",
    "    cif.lattice.c *= scaling_factor\n",
    "    return cif\n",
    "\n",
    "cif_s = scale_lattice(cif)\n",
    "print('Pb-Pb', cif_s.distance(0,1), 'Pb-I', cif_s.distance(0,4))\n",
    "print(cif_s.lattice)\n",
    "cif_s.xyz_cartn"
   ],
   "metadata": {
    "collapsed": false,
    "pycharm": {
     "name": "#%%\n"
    }
   }
  },
  {
   "cell_type": "code",
   "execution_count": 92,
   "outputs": [
    {
     "ename": "KeyError",
     "evalue": "'p'",
     "output_type": "error",
     "traceback": [
      "\u001B[1;31m---------------------------------------------------------------------------\u001B[0m",
      "\u001B[1;31mKeyError\u001B[0m                                  Traceback (most recent call last)",
      "Input \u001B[1;32mIn [92]\u001B[0m, in \u001B[0;36m<cell line: 2>\u001B[1;34m()\u001B[0m\n\u001B[0;32m      1\u001B[0m d \u001B[38;5;241m=\u001B[39m {\u001B[38;5;124m'\u001B[39m\u001B[38;5;124ms\u001B[39m\u001B[38;5;124m'\u001B[39m:\u001B[38;5;241m1\u001B[39m}\n\u001B[1;32m----> 2\u001B[0m \u001B[43md\u001B[49m\u001B[43m[\u001B[49m\u001B[38;5;124;43m'\u001B[39;49m\u001B[38;5;124;43mp\u001B[39;49m\u001B[38;5;124;43m'\u001B[39;49m\u001B[43m]\u001B[49m\n",
      "\u001B[1;31mKeyError\u001B[0m: 'p'"
     ]
    }
   ],
   "source": [
    "d = {'s':1}\n",
    "d['p']"
   ],
   "metadata": {
    "collapsed": false,
    "pycharm": {
     "name": "#%%\n"
    }
   }
  },
  {
   "cell_type": "code",
   "execution_count": 2,
   "outputs": [
    {
     "data": {
      "text/plain": "['G:/My Drive/PhD/projects/external_measurements/ml_difsims/data/experimental/test\\\\test_a\\\\test_b\\\\test_c.hspy']"
     },
     "execution_count": 2,
     "metadata": {},
     "output_type": "execute_result"
    }
   ],
   "source": [
    "import os, glob\n",
    "exp_data_root = r\"G:/My Drive/PhD/projects/external_measurements/ml_difsims/data/experimental/test\"\n",
    "file_wildcard = \"**/*.hspy\"\n",
    "\n",
    "path = os.path.join(exp_data_root, file_wildcard)\n",
    "paths = glob.glob(path, recursive=True)\n",
    "paths.sort()\n",
    "paths"
   ],
   "metadata": {
    "collapsed": false,
    "pycharm": {
     "name": "#%%\n"
    }
   }
  },
  {
   "cell_type": "code",
   "execution_count": 7,
   "outputs": [
    {
     "data": {
      "text/plain": "['G:',\n 'My Drive',\n 'PhD',\n 'projects',\n 'external_measurements',\n 'ml_difsims',\n 'data',\n 'experimental',\n 'test',\n 'test_a',\n 'test_b',\n 'test_c.hspy']"
     },
     "execution_count": 7,
     "metadata": {},
     "output_type": "execute_result"
    }
   ],
   "source": [
    "os.path.abspath(paths[0]).split('\\\\')"
   ],
   "metadata": {
    "collapsed": false,
    "pycharm": {
     "name": "#%%\n"
    }
   }
  },
  {
   "cell_type": "code",
   "execution_count": null,
   "outputs": [],
   "source": [],
   "metadata": {
    "collapsed": false,
    "pycharm": {
     "name": "#%%\n"
    }
   }
  }
 ],
 "metadata": {
  "kernelspec": {
   "display_name": "Python 3",
   "language": "python",
   "name": "python3"
  },
  "language_info": {
   "codemirror_mode": {
    "name": "ipython",
    "version": 2
   },
   "file_extension": ".py",
   "mimetype": "text/x-python",
   "name": "python",
   "nbconvert_exporter": "python",
   "pygments_lexer": "ipython2",
   "version": "2.7.6"
  }
 },
 "nbformat": 4,
 "nbformat_minor": 0
}