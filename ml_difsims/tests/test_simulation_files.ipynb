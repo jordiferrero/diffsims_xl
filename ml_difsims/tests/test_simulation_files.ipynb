{
 "cells": [
  {
   "cell_type": "markdown",
   "metadata": {
    "collapsed": true,
    "pycharm": {
     "name": "#%% md\n"
    }
   },
   "source": [
    "# Test if simulation ran successfully"
   ]
  },
  {
   "cell_type": "code",
   "execution_count": 51,
   "outputs": [],
   "source": [
    "%matplotlib qt\n",
    "import numpy as np\n",
    "import h5py\n",
    "import os, glob\n",
    "import matplotlib.pyplot as plt\n",
    "import hyperspy.api as hs\n",
    "import json\n",
    "from types import SimpleNamespace"
   ],
   "metadata": {
    "collapsed": false,
    "pycharm": {
     "name": "#%%\n"
    }
   }
  },
  {
   "cell_type": "code",
   "execution_count": 5,
   "outputs": [
    {
     "data": {
      "text/plain": "['G:\\\\My Drive\\\\PhD\\\\projects\\\\external_measurements\\\\ml_difsims\\\\data/simulations\\\\sim-0aa860c8-5335-444c-9c06-11b9ee0167c9.hdf5',\n 'G:\\\\My Drive\\\\PhD\\\\projects\\\\external_measurements\\\\ml_difsims\\\\data/simulations\\\\sim-0f86c8ac-4184-4ffd-b571-bff421245bb7.hdf5',\n 'G:\\\\My Drive\\\\PhD\\\\projects\\\\external_measurements\\\\ml_difsims\\\\data/simulations\\\\sim-1b66e23c-0c9b-491e-8810-c92ac342623a.hdf5',\n 'G:\\\\My Drive\\\\PhD\\\\projects\\\\external_measurements\\\\ml_difsims\\\\data/simulations\\\\sim-2031fe27-e8ac-4263-be3c-30f5ee952398.hdf5',\n 'G:\\\\My Drive\\\\PhD\\\\projects\\\\external_measurements\\\\ml_difsims\\\\data/simulations\\\\sim-28bbd2d5-3058-4762-b3f8-d38bd9327cd0.hdf5',\n 'G:\\\\My Drive\\\\PhD\\\\projects\\\\external_measurements\\\\ml_difsims\\\\data/simulations\\\\sim-2ae4a0c9-211d-4f17-acda-a2b8b60a3e47.hdf5',\n 'G:\\\\My Drive\\\\PhD\\\\projects\\\\external_measurements\\\\ml_difsims\\\\data/simulations\\\\sim-3023246d-af1c-4bef-b47e-27dd3fdc9752.hdf5',\n 'G:\\\\My Drive\\\\PhD\\\\projects\\\\external_measurements\\\\ml_difsims\\\\data/simulations\\\\sim-460f5b0c-2eaa-4f87-b77a-81ccb56638be.hdf5',\n 'G:\\\\My Drive\\\\PhD\\\\projects\\\\external_measurements\\\\ml_difsims\\\\data/simulations\\\\sim-5c45c3fe-4497-4eff-a6ed-2daab4aa9937.hdf5',\n 'G:\\\\My Drive\\\\PhD\\\\projects\\\\external_measurements\\\\ml_difsims\\\\data/simulations\\\\sim-69232df3-cc45-4aa8-9653-1094871ec4e0.hdf5',\n 'G:\\\\My Drive\\\\PhD\\\\projects\\\\external_measurements\\\\ml_difsims\\\\data/simulations\\\\sim-69924d7a-bce5-4011-9813-ed82628e8a18.hdf5',\n 'G:\\\\My Drive\\\\PhD\\\\projects\\\\external_measurements\\\\ml_difsims\\\\data/simulations\\\\sim-705935dc-63d1-48c0-a5ca-3b0af4cdba8b.hdf5',\n 'G:\\\\My Drive\\\\PhD\\\\projects\\\\external_measurements\\\\ml_difsims\\\\data/simulations\\\\sim-8e3febee-79f6-42cf-b760-a0756e515920.hdf5',\n 'G:\\\\My Drive\\\\PhD\\\\projects\\\\external_measurements\\\\ml_difsims\\\\data/simulations\\\\sim-8e92d6b7-fa06-4b37-94cf-639eb29876cc.hdf5',\n 'G:\\\\My Drive\\\\PhD\\\\projects\\\\external_measurements\\\\ml_difsims\\\\data/simulations\\\\sim-8fb264f6-46e0-4273-a38c-c87937f0f87f.hdf5',\n 'G:\\\\My Drive\\\\PhD\\\\projects\\\\external_measurements\\\\ml_difsims\\\\data/simulations\\\\sim-98d93913-ab77-4512-b2bd-7ab07a74e39a.hdf5',\n 'G:\\\\My Drive\\\\PhD\\\\projects\\\\external_measurements\\\\ml_difsims\\\\data/simulations\\\\sim-9bdc4fef-89b4-46e2-94ee-2e22731509e6.hdf5',\n 'G:\\\\My Drive\\\\PhD\\\\projects\\\\external_measurements\\\\ml_difsims\\\\data/simulations\\\\sim-a3362768-6708-4cd2-8d41-0274781f8c06.hdf5',\n 'G:\\\\My Drive\\\\PhD\\\\projects\\\\external_measurements\\\\ml_difsims\\\\data/simulations\\\\sim-a9e58220-06aa-40f5-852e-a93cd1c81ea1.hdf5',\n 'G:\\\\My Drive\\\\PhD\\\\projects\\\\external_measurements\\\\ml_difsims\\\\data/simulations\\\\sim-c89ec6dd-2205-458a-96be-f8b406602af8.hdf5',\n 'G:\\\\My Drive\\\\PhD\\\\projects\\\\external_measurements\\\\ml_difsims\\\\data/simulations\\\\sim-cae3b618-b54e-4351-9f95-58511ed14e31.hdf5',\n 'G:\\\\My Drive\\\\PhD\\\\projects\\\\external_measurements\\\\ml_difsims\\\\data/simulations\\\\sim-daceead3-a0cd-4d25-97ec-740ec3305549.hdf5',\n 'G:\\\\My Drive\\\\PhD\\\\projects\\\\external_measurements\\\\ml_difsims\\\\data/simulations\\\\sim-dba984e4-8f23-4943-866a-24fa1982d774.hdf5',\n 'G:\\\\My Drive\\\\PhD\\\\projects\\\\external_measurements\\\\ml_difsims\\\\data/simulations\\\\sim-e23803b2-d874-4a05-a9a3-034a5449747f.hdf5',\n 'G:\\\\My Drive\\\\PhD\\\\projects\\\\external_measurements\\\\ml_difsims\\\\data/simulations\\\\sim-fbe680e3-2578-43d2-80a8-e31449b531da.hdf5',\n 'G:\\\\My Drive\\\\PhD\\\\projects\\\\external_measurements\\\\ml_difsims\\\\data/simulations\\\\sim-fd40666a-20af-4d7c-b290-205fc6abbc49.hdf5']"
     },
     "execution_count": 5,
     "metadata": {},
     "output_type": "execute_result"
    }
   ],
   "source": [
    "root_path = r\"G:\\My Drive\\PhD\\projects\\external_measurements\\ml_difsims\"\n",
    "#root_path = r'C:/Users/Sauron/Documents/GitHub/strankslab/ml_difsims'\n",
    "save_relpath = 'data/simulations'\n",
    "file_type = \"*.hdf5\"\n",
    "\n",
    "path = os.path.join(root_path, save_relpath, file_type)\n",
    "files = glob.glob(path)\n",
    "files.sort()\n",
    "files"
   ],
   "metadata": {
    "collapsed": false,
    "pycharm": {
     "name": "#%%\n"
    }
   }
  },
  {
   "cell_type": "code",
   "execution_count": 55,
   "outputs": [
    {
     "name": "stdout",
     "output_type": "stream",
     "text": [
      "(720, 147)\n"
     ]
    }
   ],
   "source": [
    "i = 1\n",
    "with h5py.File(files[i], 'r') as f:\n",
    "    dat = f['1d']['x_px']\n",
    "    labels = f['1d']['y_px']\n",
    "    dat = np.array(dat)\n",
    "    labels = np.array(labels)\n",
    "    print(dat.shape)\n",
    "    q_x = np.array(f['1d']['x_all_q_axis'])\n",
    "    json_md = f['metadata']['metadata_json'].asstr()[()]\n",
    "    md = json.loads(json_md, object_hook=lambda d: SimpleNamespace(**d))"
   ],
   "metadata": {
    "collapsed": false,
    "pycharm": {
     "name": "#%%\n"
    }
   }
  },
  {
   "cell_type": "code",
   "execution_count": 41,
   "outputs": [],
   "source": [
    "s = hs.signals.Signal1D(dat[:100])\n",
    "s.plot()"
   ],
   "metadata": {
    "collapsed": false,
    "pycharm": {
     "name": "#%%\n"
    }
   }
  },
  {
   "cell_type": "code",
   "execution_count": 47,
   "outputs": [
    {
     "data": {
      "text/plain": "[<matplotlib.lines.Line2D at 0x1d31cc59c40>]"
     },
     "execution_count": 47,
     "metadata": {},
     "output_type": "execute_result"
    }
   ],
   "source": [
    "plt.plot(labels)"
   ],
   "metadata": {
    "collapsed": false,
    "pycharm": {
     "name": "#%%\n"
    }
   }
  },
  {
   "cell_type": "code",
   "execution_count": 70,
   "outputs": [
    {
     "data": {
      "text/plain": "((13, 160), (0.11, 1.3))"
     },
     "execution_count": 70,
     "metadata": {},
     "output_type": "execute_result"
    }
   ],
   "source": [
    "px_range = md.postprocessing_parameters.cropping_start_px, md.postprocessing_parameters.cropping_stop_px\n",
    "k_range = md.postprocessing_parameters.cropping_start_k, md.postprocessing_parameters.cropping_stop_k\n",
    "px_range, k_range"
   ],
   "metadata": {
    "collapsed": false,
    "pycharm": {
     "name": "#%%\n"
    }
   }
  },
  {
   "cell_type": "code",
   "execution_count": 68,
   "outputs": [
    {
     "name": "stdout",
     "output_type": "stream",
     "text": [
      "(256,)\n",
      "(147,)\n"
     ]
    },
    {
     "data": {
      "text/plain": "(0.10777668889613681, 1.318191810345058)"
     },
     "execution_count": 68,
     "metadata": {},
     "output_type": "execute_result"
    }
   ],
   "source": [
    "print(q_x.shape)\n",
    "qx_px = q_x[px_range[0]:px_range[1]]\n",
    "print(qx_px.shape)\n",
    "qx_px.min(), qx_px.max()"
   ],
   "metadata": {
    "collapsed": false,
    "pycharm": {
     "name": "#%%\n"
    }
   }
  },
  {
   "cell_type": "code",
   "execution_count": null,
   "outputs": [],
   "source": [],
   "metadata": {
    "collapsed": false,
    "pycharm": {
     "name": "#%%\n"
    }
   }
  }
 ],
 "metadata": {
  "kernelspec": {
   "display_name": "Python 3",
   "language": "python",
   "name": "python3"
  },
  "language_info": {
   "codemirror_mode": {
    "name": "ipython",
    "version": 2
   },
   "file_extension": ".py",
   "mimetype": "text/x-python",
   "name": "python",
   "nbconvert_exporter": "python",
   "pygments_lexer": "ipython2",
   "version": "2.7.6"
  }
 },
 "nbformat": 4,
 "nbformat_minor": 0
}