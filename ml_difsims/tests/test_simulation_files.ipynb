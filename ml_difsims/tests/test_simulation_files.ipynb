{
 "cells": [
  {
   "cell_type": "markdown",
   "metadata": {
    "collapsed": true,
    "pycharm": {
     "name": "#%% md\n"
    }
   },
   "source": [
    "# Test if simulation ran successfully"
   ]
  },
  {
   "cell_type": "code",
   "execution_count": 1,
   "outputs": [],
   "source": [
    "%matplotlib qt\n",
    "import numpy as np\n",
    "import h5py\n",
    "import os, glob\n",
    "import matplotlib.pyplot as plt\n",
    "import hyperspy.api as hs\n",
    "import json\n",
    "from types import SimpleNamespace"
   ],
   "metadata": {
    "collapsed": false,
    "pycharm": {
     "name": "#%%\n"
    }
   }
  },
  {
   "cell_type": "code",
   "execution_count": 69,
   "outputs": [
    {
     "data": {
      "text/plain": "['G:\\\\My Drive\\\\PhD\\\\projects\\\\external_measurements\\\\ml_difsims\\\\data/simulations\\\\sim-0793d26e-7ac7-4f0d-9b01-54efed2305b0.hdf5',\n 'G:\\\\My Drive\\\\PhD\\\\projects\\\\external_measurements\\\\ml_difsims\\\\data/simulations\\\\sim-84a337b4-92af-4c03-9b64-f1587549ffc7.hdf5',\n 'G:\\\\My Drive\\\\PhD\\\\projects\\\\external_measurements\\\\ml_difsims\\\\data/simulations\\\\sim-b0161c38-9318-4299-92ae-aaded4e52bfa.hdf5']"
     },
     "execution_count": 69,
     "metadata": {},
     "output_type": "execute_result"
    }
   ],
   "source": [
    "root_path = r\"G:\\My Drive\\PhD\\projects\\external_measurements\\ml_difsims\"\n",
    "#root_path = r'C:/Users/Sauron/Documents/GitHub/strankslab/ml_difsims'\n",
    "save_relpath = 'data/simulations'\n",
    "file_type = \"*.hdf5\"\n",
    "\n",
    "path = os.path.join(root_path, save_relpath, file_type)\n",
    "files = glob.glob(path)\n",
    "files.sort()\n",
    "files"
   ],
   "metadata": {
    "collapsed": false,
    "pycharm": {
     "name": "#%%\n"
    }
   }
  },
  {
   "cell_type": "code",
   "execution_count": 73,
   "outputs": [
    {
     "name": "stdout",
     "output_type": "stream",
     "text": [
      "(20, 147)\n"
     ]
    }
   ],
   "source": [
    "i = 1\n",
    "with h5py.File(files[i], 'r') as f:\n",
    "    dat = f['1d']['x_px']\n",
    "    labels = f['1d']['y_px']\n",
    "    dat = np.array(dat)\n",
    "    labels = np.array(labels)\n",
    "    print(dat.shape)\n",
    "    q_x = np.array(f['1d']['x_all_q_axis'])\n",
    "    json_md = f['metadata']['metadata_json'].asstr()[()]\n",
    "    md = json.loads(json_md, object_hook=lambda d: SimpleNamespace(**d))"
   ],
   "metadata": {
    "collapsed": false,
    "pycharm": {
     "name": "#%%\n"
    }
   }
  },
  {
   "cell_type": "code",
   "execution_count": 5,
   "outputs": [],
   "source": [
    "s = hs.signals.Signal1D(dat[:100])\n",
    "s.plot()"
   ],
   "metadata": {
    "collapsed": false,
    "pycharm": {
     "name": "#%%\n"
    }
   }
  },
  {
   "cell_type": "code",
   "execution_count": 74,
   "outputs": [
    {
     "data": {
      "text/plain": "[<matplotlib.lines.Line2D at 0x1f14eb6ae60>]"
     },
     "execution_count": 74,
     "metadata": {},
     "output_type": "execute_result"
    }
   ],
   "source": [
    "plt.plot(labels)"
   ],
   "metadata": {
    "collapsed": false,
    "pycharm": {
     "name": "#%%\n"
    }
   }
  },
  {
   "cell_type": "code",
   "execution_count": 62,
   "outputs": [
    {
     "data": {
      "text/plain": "((13, 160), (0.11, 1.3))"
     },
     "execution_count": 62,
     "metadata": {},
     "output_type": "execute_result"
    }
   ],
   "source": [
    "px_range = md.postprocessing_parameters.cropping_start_px, md.postprocessing_parameters.cropping_stop_px\n",
    "k_range = md.postprocessing_parameters.cropping_start_k, md.postprocessing_parameters.cropping_stop_k\n",
    "px_range, k_range"
   ],
   "metadata": {
    "collapsed": false,
    "pycharm": {
     "name": "#%%\n"
    }
   }
  },
  {
   "cell_type": "code",
   "execution_count": 63,
   "outputs": [
    {
     "name": "stdout",
     "output_type": "stream",
     "text": [
      "(256,)\n",
      "(147,)\n"
     ]
    },
    {
     "data": {
      "text/plain": "(0.10777668889613681, 1.318191810345058)"
     },
     "execution_count": 63,
     "metadata": {},
     "output_type": "execute_result"
    }
   ],
   "source": [
    "print(q_x.shape)\n",
    "qx_px = q_x[px_range[0]:px_range[1]]\n",
    "print(qx_px.shape)\n",
    "qx_px.min(), qx_px.max()"
   ],
   "metadata": {
    "collapsed": false,
    "pycharm": {
     "name": "#%%\n"
    }
   }
  },
  {
   "cell_type": "code",
   "execution_count": null,
   "outputs": [],
   "source": [
    "#f, ax = plt.subplots()\n",
    "ax.plot(qx_px, dat[:].T.sum(axis=1), label='All')\n",
    "ax.plot(qx_px, dat[:10].T.sum(axis=1), label='A')\n",
    "#ax.plot(qx_px, dat[10:].T.sum(axis=1), label='B')\n",
    "ax.legend()"
   ],
   "metadata": {
    "collapsed": false,
    "pycharm": {
     "name": "#%%\n"
    }
   }
  },
  {
   "cell_type": "code",
   "execution_count": null,
   "outputs": [],
   "source": [
    "ax.plot(qx_px, dat[:10].T.sum(axis=1))"
   ],
   "metadata": {
    "collapsed": false,
    "pycharm": {
     "name": "#%%\n"
    }
   }
  },
  {
   "cell_type": "code",
   "execution_count": null,
   "outputs": [],
   "source": [
    "plt.plot(qx_px. dat[10:].T.mean(axis=1))"
   ],
   "metadata": {
    "collapsed": false,
    "pycharm": {
     "name": "#%%\n"
    }
   }
  },
  {
   "cell_type": "code",
   "execution_count": null,
   "outputs": [],
   "source": [],
   "metadata": {
    "collapsed": false,
    "pycharm": {
     "name": "#%%\n"
    }
   }
  },
  {
   "cell_type": "code",
   "execution_count": 38,
   "outputs": [
    {
     "data": {
      "text/plain": "[<matplotlib.lines.Line2D at 0x1f14c334d30>]"
     },
     "execution_count": 38,
     "metadata": {},
     "output_type": "execute_result"
    }
   ],
   "source": [
    "ax.plot(qx_px, dat[:10].T.sum(axis=1))"
   ],
   "metadata": {
    "collapsed": false,
    "pycharm": {
     "name": "#%%\n"
    }
   }
  },
  {
   "cell_type": "code",
   "execution_count": 54,
   "outputs": [
    {
     "ename": "AttributeError",
     "evalue": "'numpy.ndarray' object has no attribute 'dat'",
     "output_type": "error",
     "traceback": [
      "\u001B[1;31m---------------------------------------------------------------------------\u001B[0m",
      "\u001B[1;31mAttributeError\u001B[0m                            Traceback (most recent call last)",
      "Input \u001B[1;32mIn [54]\u001B[0m, in \u001B[0;36m<cell line: 1>\u001B[1;34m()\u001B[0m\n\u001B[1;32m----> 1\u001B[0m plt\u001B[38;5;241m.\u001B[39mplot(\u001B[43mqx_px\u001B[49m\u001B[38;5;241;43m.\u001B[39;49m\u001B[43m \u001B[49m\u001B[43mdat\u001B[49m[\u001B[38;5;241m10\u001B[39m:]\u001B[38;5;241m.\u001B[39mT\u001B[38;5;241m.\u001B[39mmean(axis\u001B[38;5;241m=\u001B[39m\u001B[38;5;241m1\u001B[39m))\n",
      "\u001B[1;31mAttributeError\u001B[0m: 'numpy.ndarray' object has no attribute 'dat'"
     ]
    }
   ],
   "source": [
    "plt.plot(qx_px. dat[10:].T.mean(axis=1))"
   ],
   "metadata": {
    "collapsed": false,
    "pycharm": {
     "name": "#%%\n"
    }
   }
  },
  {
   "cell_type": "code",
   "execution_count": null,
   "outputs": [],
   "source": [],
   "metadata": {
    "collapsed": false,
    "pycharm": {
     "name": "#%%\n"
    }
   }
  }
 ],
 "metadata": {
  "kernelspec": {
   "display_name": "Python 3",
   "language": "python",
   "name": "python3"
  },
  "language_info": {
   "codemirror_mode": {
    "name": "ipython",
    "version": 2
   },
   "file_extension": ".py",
   "mimetype": "text/x-python",
   "name": "python",
   "nbconvert_exporter": "python",
   "pygments_lexer": "ipython2",
   "version": "2.7.6"
  }
 },
 "nbformat": 4,
 "nbformat_minor": 0
}