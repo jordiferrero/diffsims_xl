{
 "cells": [
  {
   "cell_type": "markdown",
   "source": [
    "# Move files to right folder"
   ],
   "metadata": {
    "collapsed": false,
    "pycharm": {
     "name": "#%% md\n"
    }
   }
  },
  {
   "cell_type": "code",
   "execution_count": 16,
   "outputs": [],
   "source": [
    "# THIS FILE CUTS AND PASTES SOME OF THE FILES TO A NEW FOLDER\n",
    "# (to separate small from big files)\n",
    "import os, glob, shutil\n",
    "import tqdm\n",
    "\n",
    "DATA_ROOT = r\"F:\\PhD (and Midi)\\Data\\SED\\affan_halide_series\"\n",
    "data = []\n",
    "\n",
    "# Name of files\n",
    "data_wildcard = '**/2*_data.hdf5'\n",
    "md_wildcard = '**/2*.hdf'"
   ],
   "metadata": {
    "collapsed": false,
    "pycharm": {
     "name": "#%%\n"
    }
   }
  },
  {
   "cell_type": "code",
   "execution_count": 29,
   "outputs": [
    {
     "name": "stdout",
     "output_type": "stream",
     "text": [
      "35\n",
      "35\n",
      "70\n"
     ]
    },
    {
     "data": {
      "text/plain": "['F:\\\\PhD (and Midi)\\\\Data\\\\SED\\\\affan_halide_series\\\\br_00\\\\20211117_180519\\\\20211117_180519_data.hdf5',\n 'F:\\\\PhD (and Midi)\\\\Data\\\\SED\\\\affan_halide_series\\\\br_00\\\\20211117_174242\\\\20211117_174242_data.hdf5',\n 'F:\\\\PhD (and Midi)\\\\Data\\\\SED\\\\affan_halide_series\\\\br_00\\\\20211117_174534\\\\20211117_174534_data.hdf5',\n 'F:\\\\PhD (and Midi)\\\\Data\\\\SED\\\\affan_halide_series\\\\br_00\\\\20211117_174803\\\\20211117_174803_data.hdf5',\n 'F:\\\\PhD (and Midi)\\\\Data\\\\SED\\\\affan_halide_series\\\\br_00\\\\20211117_175031\\\\20211117_175031_data.hdf5',\n 'F:\\\\PhD (and Midi)\\\\Data\\\\SED\\\\affan_halide_series\\\\br_00\\\\20211117_175319\\\\20211117_175319_data.hdf5',\n 'F:\\\\PhD (and Midi)\\\\Data\\\\SED\\\\affan_halide_series\\\\br_00\\\\20211117_175607\\\\20211117_175607_data.hdf5',\n 'F:\\\\PhD (and Midi)\\\\Data\\\\SED\\\\affan_halide_series\\\\br_00\\\\20211117_175836\\\\20211117_175836_data.hdf5',\n 'F:\\\\PhD (and Midi)\\\\Data\\\\SED\\\\affan_halide_series\\\\br_00\\\\20211117_180102\\\\20211117_180102_data.hdf5',\n 'F:\\\\PhD (and Midi)\\\\Data\\\\SED\\\\affan_halide_series\\\\br_06\\\\20211117_183334\\\\20211117_183334_data.hdf5',\n 'F:\\\\PhD (and Midi)\\\\Data\\\\SED\\\\affan_halide_series\\\\br_06\\\\20211117_183602\\\\20211117_183602_data.hdf5',\n 'F:\\\\PhD (and Midi)\\\\Data\\\\SED\\\\affan_halide_series\\\\br_06\\\\20211117_183826\\\\20211117_183826_data.hdf5',\n 'F:\\\\PhD (and Midi)\\\\Data\\\\SED\\\\affan_halide_series\\\\br_06\\\\20211117_184052\\\\20211117_184052_data.hdf5',\n 'F:\\\\PhD (and Midi)\\\\Data\\\\SED\\\\affan_halide_series\\\\br_06\\\\20211117_182016\\\\20211117_182016_data.hdf5',\n 'F:\\\\PhD (and Midi)\\\\Data\\\\SED\\\\affan_halide_series\\\\br_06\\\\20211117_182249\\\\20211117_182249_data.hdf5',\n 'F:\\\\PhD (and Midi)\\\\Data\\\\SED\\\\affan_halide_series\\\\br_06\\\\20211117_182521\\\\20211117_182521_data.hdf5',\n 'F:\\\\PhD (and Midi)\\\\Data\\\\SED\\\\affan_halide_series\\\\br_06\\\\20211117_182814\\\\20211117_182814_data.hdf5',\n 'F:\\\\PhD (and Midi)\\\\Data\\\\SED\\\\affan_halide_series\\\\br_06\\\\20211117_183104\\\\20211117_183104_data.hdf5',\n 'F:\\\\PhD (and Midi)\\\\Data\\\\SED\\\\affan_halide_series\\\\br_12\\\\20211117_193333\\\\20211117_193333_data.hdf5',\n 'F:\\\\PhD (and Midi)\\\\Data\\\\SED\\\\affan_halide_series\\\\br_12\\\\20211117_193606\\\\20211117_193606_data.hdf5',\n 'F:\\\\PhD (and Midi)\\\\Data\\\\SED\\\\affan_halide_series\\\\br_12\\\\20211117_193835\\\\20211117_193835_data.hdf5',\n 'F:\\\\PhD (and Midi)\\\\Data\\\\SED\\\\affan_halide_series\\\\br_12\\\\20211117_194107\\\\20211117_194107_data.hdf5',\n 'F:\\\\PhD (and Midi)\\\\Data\\\\SED\\\\affan_halide_series\\\\br_12\\\\20211117_191908\\\\20211117_191908_data.hdf5',\n 'F:\\\\PhD (and Midi)\\\\Data\\\\SED\\\\affan_halide_series\\\\br_12\\\\20211117_192134\\\\20211117_192134_data.hdf5',\n 'F:\\\\PhD (and Midi)\\\\Data\\\\SED\\\\affan_halide_series\\\\br_12\\\\20211117_192412\\\\20211117_192412_data.hdf5',\n 'F:\\\\PhD (and Midi)\\\\Data\\\\SED\\\\affan_halide_series\\\\br_12\\\\20211117_192755\\\\20211117_192755_data.hdf5',\n 'F:\\\\PhD (and Midi)\\\\Data\\\\SED\\\\affan_halide_series\\\\br_12\\\\20211117_193100\\\\20211117_193100_data.hdf5',\n 'F:\\\\PhD (and Midi)\\\\Data\\\\SED\\\\affan_halide_series\\\\br_17\\\\20211117_200053\\\\20211117_200053_data.hdf5',\n 'F:\\\\PhD (and Midi)\\\\Data\\\\SED\\\\affan_halide_series\\\\br_17\\\\20211117_200412\\\\20211117_200412_data.hdf5',\n 'F:\\\\PhD (and Midi)\\\\Data\\\\SED\\\\affan_halide_series\\\\br_17\\\\20211117_200646\\\\20211117_200646_data.hdf5',\n 'F:\\\\PhD (and Midi)\\\\Data\\\\SED\\\\affan_halide_series\\\\br_17\\\\20211117_200914\\\\20211117_200914_data.hdf5',\n 'F:\\\\PhD (and Midi)\\\\Data\\\\SED\\\\affan_halide_series\\\\br_17\\\\20211117_201152\\\\20211117_201152_data.hdf5',\n 'F:\\\\PhD (and Midi)\\\\Data\\\\SED\\\\affan_halide_series\\\\br_17\\\\20211117_195555\\\\20211117_195555_data.hdf5',\n 'F:\\\\PhD (and Midi)\\\\Data\\\\SED\\\\affan_halide_series\\\\br_17\\\\20211117_195820\\\\20211117_195820_data.hdf5',\n 'F:\\\\PhD (and Midi)\\\\Data\\\\SED\\\\affan_halide_series\\\\br_17\\\\20211117_195330\\\\20211117_195330_data.hdf5',\n 'F:\\\\PhD (and Midi)\\\\Data\\\\SED\\\\affan_halide_series\\\\br_00\\\\20211117_180519\\\\20211117_180519.hdf',\n 'F:\\\\PhD (and Midi)\\\\Data\\\\SED\\\\affan_halide_series\\\\br_00\\\\20211117_174242\\\\20211117_174242.hdf',\n 'F:\\\\PhD (and Midi)\\\\Data\\\\SED\\\\affan_halide_series\\\\br_00\\\\20211117_174534\\\\20211117_174534.hdf',\n 'F:\\\\PhD (and Midi)\\\\Data\\\\SED\\\\affan_halide_series\\\\br_00\\\\20211117_174803\\\\20211117_174803.hdf',\n 'F:\\\\PhD (and Midi)\\\\Data\\\\SED\\\\affan_halide_series\\\\br_00\\\\20211117_175031\\\\20211117_175031.hdf',\n 'F:\\\\PhD (and Midi)\\\\Data\\\\SED\\\\affan_halide_series\\\\br_00\\\\20211117_175319\\\\20211117_175319.hdf',\n 'F:\\\\PhD (and Midi)\\\\Data\\\\SED\\\\affan_halide_series\\\\br_00\\\\20211117_175607\\\\20211117_175607.hdf',\n 'F:\\\\PhD (and Midi)\\\\Data\\\\SED\\\\affan_halide_series\\\\br_00\\\\20211117_175836\\\\20211117_175836.hdf',\n 'F:\\\\PhD (and Midi)\\\\Data\\\\SED\\\\affan_halide_series\\\\br_00\\\\20211117_180102\\\\20211117_180102.hdf',\n 'F:\\\\PhD (and Midi)\\\\Data\\\\SED\\\\affan_halide_series\\\\br_06\\\\20211117_183334\\\\20211117_183334.hdf',\n 'F:\\\\PhD (and Midi)\\\\Data\\\\SED\\\\affan_halide_series\\\\br_06\\\\20211117_183602\\\\20211117_183602.hdf',\n 'F:\\\\PhD (and Midi)\\\\Data\\\\SED\\\\affan_halide_series\\\\br_06\\\\20211117_183826\\\\20211117_183826.hdf',\n 'F:\\\\PhD (and Midi)\\\\Data\\\\SED\\\\affan_halide_series\\\\br_06\\\\20211117_184052\\\\20211117_184052.hdf',\n 'F:\\\\PhD (and Midi)\\\\Data\\\\SED\\\\affan_halide_series\\\\br_06\\\\20211117_182016\\\\20211117_182016.hdf',\n 'F:\\\\PhD (and Midi)\\\\Data\\\\SED\\\\affan_halide_series\\\\br_06\\\\20211117_182249\\\\20211117_182249.hdf',\n 'F:\\\\PhD (and Midi)\\\\Data\\\\SED\\\\affan_halide_series\\\\br_06\\\\20211117_182521\\\\20211117_182521.hdf',\n 'F:\\\\PhD (and Midi)\\\\Data\\\\SED\\\\affan_halide_series\\\\br_06\\\\20211117_182814\\\\20211117_182814.hdf',\n 'F:\\\\PhD (and Midi)\\\\Data\\\\SED\\\\affan_halide_series\\\\br_06\\\\20211117_183104\\\\20211117_183104.hdf',\n 'F:\\\\PhD (and Midi)\\\\Data\\\\SED\\\\affan_halide_series\\\\br_12\\\\20211117_193333\\\\20211117_193333.hdf',\n 'F:\\\\PhD (and Midi)\\\\Data\\\\SED\\\\affan_halide_series\\\\br_12\\\\20211117_193606\\\\20211117_193606.hdf',\n 'F:\\\\PhD (and Midi)\\\\Data\\\\SED\\\\affan_halide_series\\\\br_12\\\\20211117_193835\\\\20211117_193835.hdf',\n 'F:\\\\PhD (and Midi)\\\\Data\\\\SED\\\\affan_halide_series\\\\br_12\\\\20211117_194107\\\\20211117_194107.hdf',\n 'F:\\\\PhD (and Midi)\\\\Data\\\\SED\\\\affan_halide_series\\\\br_12\\\\20211117_191908\\\\20211117_191908.hdf',\n 'F:\\\\PhD (and Midi)\\\\Data\\\\SED\\\\affan_halide_series\\\\br_12\\\\20211117_192134\\\\20211117_192134.hdf',\n 'F:\\\\PhD (and Midi)\\\\Data\\\\SED\\\\affan_halide_series\\\\br_12\\\\20211117_192412\\\\20211117_192412.hdf',\n 'F:\\\\PhD (and Midi)\\\\Data\\\\SED\\\\affan_halide_series\\\\br_12\\\\20211117_192755\\\\20211117_192755.hdf',\n 'F:\\\\PhD (and Midi)\\\\Data\\\\SED\\\\affan_halide_series\\\\br_12\\\\20211117_193100\\\\20211117_193100.hdf',\n 'F:\\\\PhD (and Midi)\\\\Data\\\\SED\\\\affan_halide_series\\\\br_17\\\\20211117_200053\\\\20211117_200053.hdf',\n 'F:\\\\PhD (and Midi)\\\\Data\\\\SED\\\\affan_halide_series\\\\br_17\\\\20211117_200412\\\\20211117_200412.hdf',\n 'F:\\\\PhD (and Midi)\\\\Data\\\\SED\\\\affan_halide_series\\\\br_17\\\\20211117_200646\\\\20211117_200646.hdf',\n 'F:\\\\PhD (and Midi)\\\\Data\\\\SED\\\\affan_halide_series\\\\br_17\\\\20211117_200914\\\\20211117_200914.hdf',\n 'F:\\\\PhD (and Midi)\\\\Data\\\\SED\\\\affan_halide_series\\\\br_17\\\\20211117_201152\\\\20211117_201152.hdf',\n 'F:\\\\PhD (and Midi)\\\\Data\\\\SED\\\\affan_halide_series\\\\br_17\\\\20211117_195555\\\\20211117_195555.hdf',\n 'F:\\\\PhD (and Midi)\\\\Data\\\\SED\\\\affan_halide_series\\\\br_17\\\\20211117_195820\\\\20211117_195820.hdf',\n 'F:\\\\PhD (and Midi)\\\\Data\\\\SED\\\\affan_halide_series\\\\br_17\\\\20211117_195330\\\\20211117_195330.hdf']"
     },
     "execution_count": 29,
     "metadata": {},
     "output_type": "execute_result"
    }
   ],
   "source": [
    "files_dat = glob.glob(os.path.join(DATA_ROOT, data_wildcard), recursive=True)\n",
    "files_md = glob.glob(os.path.join(DATA_ROOT, md_wildcard), recursive=True)\n",
    "\n",
    "print(len(files_dat)), print(len(files_md))\n",
    "\n",
    "files = files_dat + files_md\n",
    "print(len(files))"
   ],
   "metadata": {
    "collapsed": false,
    "pycharm": {
     "name": "#%%\n"
    }
   }
  },
  {
   "cell_type": "code",
   "execution_count": 30,
   "outputs": [
    {
     "name": "stdout",
     "output_type": "stream",
     "text": [
      "F:\\PhD (and Midi)\\Data\\SED\\affan_halide_series\\br_00\\20211117_180519\\20211117_180519_data.hdf5\n",
      "Moved 20211117_180519_data.hdf5 well!\n",
      "F:\\PhD (and Midi)\\Data\\SED\\affan_halide_series\\br_00\\20211117_174242\\20211117_174242_data.hdf5\n",
      "Moved 20211117_174242_data.hdf5 well!\n",
      "F:\\PhD (and Midi)\\Data\\SED\\affan_halide_series\\br_00\\20211117_174534\\20211117_174534_data.hdf5\n",
      "Moved 20211117_174534_data.hdf5 well!\n",
      "F:\\PhD (and Midi)\\Data\\SED\\affan_halide_series\\br_00\\20211117_174803\\20211117_174803_data.hdf5\n",
      "Moved 20211117_174803_data.hdf5 well!\n",
      "F:\\PhD (and Midi)\\Data\\SED\\affan_halide_series\\br_00\\20211117_175031\\20211117_175031_data.hdf5\n",
      "Moved 20211117_175031_data.hdf5 well!\n",
      "F:\\PhD (and Midi)\\Data\\SED\\affan_halide_series\\br_00\\20211117_175319\\20211117_175319_data.hdf5\n",
      "Moved 20211117_175319_data.hdf5 well!\n",
      "F:\\PhD (and Midi)\\Data\\SED\\affan_halide_series\\br_00\\20211117_175607\\20211117_175607_data.hdf5\n",
      "Moved 20211117_175607_data.hdf5 well!\n",
      "F:\\PhD (and Midi)\\Data\\SED\\affan_halide_series\\br_00\\20211117_175836\\20211117_175836_data.hdf5\n",
      "Moved 20211117_175836_data.hdf5 well!\n",
      "F:\\PhD (and Midi)\\Data\\SED\\affan_halide_series\\br_00\\20211117_180102\\20211117_180102_data.hdf5\n",
      "Moved 20211117_180102_data.hdf5 well!\n",
      "F:\\PhD (and Midi)\\Data\\SED\\affan_halide_series\\br_06\\20211117_183334\\20211117_183334_data.hdf5\n",
      "Moved 20211117_183334_data.hdf5 well!\n",
      "F:\\PhD (and Midi)\\Data\\SED\\affan_halide_series\\br_06\\20211117_183602\\20211117_183602_data.hdf5\n",
      "Moved 20211117_183602_data.hdf5 well!\n",
      "F:\\PhD (and Midi)\\Data\\SED\\affan_halide_series\\br_06\\20211117_183826\\20211117_183826_data.hdf5\n",
      "Moved 20211117_183826_data.hdf5 well!\n",
      "F:\\PhD (and Midi)\\Data\\SED\\affan_halide_series\\br_06\\20211117_184052\\20211117_184052_data.hdf5\n",
      "Moved 20211117_184052_data.hdf5 well!\n",
      "F:\\PhD (and Midi)\\Data\\SED\\affan_halide_series\\br_06\\20211117_182016\\20211117_182016_data.hdf5\n",
      "Moved 20211117_182016_data.hdf5 well!\n",
      "F:\\PhD (and Midi)\\Data\\SED\\affan_halide_series\\br_06\\20211117_182249\\20211117_182249_data.hdf5\n",
      "Moved 20211117_182249_data.hdf5 well!\n",
      "F:\\PhD (and Midi)\\Data\\SED\\affan_halide_series\\br_06\\20211117_182521\\20211117_182521_data.hdf5\n",
      "Moved 20211117_182521_data.hdf5 well!\n",
      "F:\\PhD (and Midi)\\Data\\SED\\affan_halide_series\\br_06\\20211117_182814\\20211117_182814_data.hdf5\n",
      "Moved 20211117_182814_data.hdf5 well!\n",
      "F:\\PhD (and Midi)\\Data\\SED\\affan_halide_series\\br_06\\20211117_183104\\20211117_183104_data.hdf5\n",
      "Moved 20211117_183104_data.hdf5 well!\n",
      "F:\\PhD (and Midi)\\Data\\SED\\affan_halide_series\\br_12\\20211117_193333\\20211117_193333_data.hdf5\n",
      "Moved 20211117_193333_data.hdf5 well!\n",
      "F:\\PhD (and Midi)\\Data\\SED\\affan_halide_series\\br_12\\20211117_193606\\20211117_193606_data.hdf5\n",
      "Moved 20211117_193606_data.hdf5 well!\n",
      "F:\\PhD (and Midi)\\Data\\SED\\affan_halide_series\\br_12\\20211117_193835\\20211117_193835_data.hdf5\n",
      "Moved 20211117_193835_data.hdf5 well!\n",
      "F:\\PhD (and Midi)\\Data\\SED\\affan_halide_series\\br_12\\20211117_194107\\20211117_194107_data.hdf5\n",
      "Moved 20211117_194107_data.hdf5 well!\n",
      "F:\\PhD (and Midi)\\Data\\SED\\affan_halide_series\\br_12\\20211117_191908\\20211117_191908_data.hdf5\n",
      "Moved 20211117_191908_data.hdf5 well!\n",
      "F:\\PhD (and Midi)\\Data\\SED\\affan_halide_series\\br_12\\20211117_192134\\20211117_192134_data.hdf5\n",
      "Moved 20211117_192134_data.hdf5 well!\n",
      "F:\\PhD (and Midi)\\Data\\SED\\affan_halide_series\\br_12\\20211117_192412\\20211117_192412_data.hdf5\n",
      "Moved 20211117_192412_data.hdf5 well!\n",
      "F:\\PhD (and Midi)\\Data\\SED\\affan_halide_series\\br_12\\20211117_192755\\20211117_192755_data.hdf5\n",
      "Moved 20211117_192755_data.hdf5 well!\n",
      "F:\\PhD (and Midi)\\Data\\SED\\affan_halide_series\\br_12\\20211117_193100\\20211117_193100_data.hdf5\n",
      "Moved 20211117_193100_data.hdf5 well!\n",
      "F:\\PhD (and Midi)\\Data\\SED\\affan_halide_series\\br_17\\20211117_200053\\20211117_200053_data.hdf5\n",
      "Moved 20211117_200053_data.hdf5 well!\n",
      "F:\\PhD (and Midi)\\Data\\SED\\affan_halide_series\\br_17\\20211117_200412\\20211117_200412_data.hdf5\n",
      "Moved 20211117_200412_data.hdf5 well!\n",
      "F:\\PhD (and Midi)\\Data\\SED\\affan_halide_series\\br_17\\20211117_200646\\20211117_200646_data.hdf5\n",
      "Moved 20211117_200646_data.hdf5 well!\n",
      "F:\\PhD (and Midi)\\Data\\SED\\affan_halide_series\\br_17\\20211117_200914\\20211117_200914_data.hdf5\n",
      "Moved 20211117_200914_data.hdf5 well!\n",
      "F:\\PhD (and Midi)\\Data\\SED\\affan_halide_series\\br_17\\20211117_201152\\20211117_201152_data.hdf5\n",
      "Moved 20211117_201152_data.hdf5 well!\n",
      "F:\\PhD (and Midi)\\Data\\SED\\affan_halide_series\\br_17\\20211117_195555\\20211117_195555_data.hdf5\n",
      "Moved 20211117_195555_data.hdf5 well!\n",
      "F:\\PhD (and Midi)\\Data\\SED\\affan_halide_series\\br_17\\20211117_195820\\20211117_195820_data.hdf5\n",
      "Moved 20211117_195820_data.hdf5 well!\n",
      "F:\\PhD (and Midi)\\Data\\SED\\affan_halide_series\\br_17\\20211117_195330\\20211117_195330_data.hdf5\n",
      "Moved 20211117_195330_data.hdf5 well!\n",
      "F:\\PhD (and Midi)\\Data\\SED\\affan_halide_series\\br_00\\20211117_180519\\20211117_180519.hdf\n",
      "Moved 20211117_180519.hdf well!\n",
      "F:\\PhD (and Midi)\\Data\\SED\\affan_halide_series\\br_00\\20211117_174242\\20211117_174242.hdf\n",
      "Moved 20211117_174242.hdf well!\n",
      "F:\\PhD (and Midi)\\Data\\SED\\affan_halide_series\\br_00\\20211117_174534\\20211117_174534.hdf\n",
      "Moved 20211117_174534.hdf well!\n",
      "F:\\PhD (and Midi)\\Data\\SED\\affan_halide_series\\br_00\\20211117_174803\\20211117_174803.hdf\n",
      "Moved 20211117_174803.hdf well!\n",
      "F:\\PhD (and Midi)\\Data\\SED\\affan_halide_series\\br_00\\20211117_175031\\20211117_175031.hdf\n",
      "Moved 20211117_175031.hdf well!\n",
      "F:\\PhD (and Midi)\\Data\\SED\\affan_halide_series\\br_00\\20211117_175319\\20211117_175319.hdf\n",
      "Moved 20211117_175319.hdf well!\n",
      "F:\\PhD (and Midi)\\Data\\SED\\affan_halide_series\\br_00\\20211117_175607\\20211117_175607.hdf\n",
      "Moved 20211117_175607.hdf well!\n",
      "F:\\PhD (and Midi)\\Data\\SED\\affan_halide_series\\br_00\\20211117_175836\\20211117_175836.hdf\n",
      "Moved 20211117_175836.hdf well!\n",
      "F:\\PhD (and Midi)\\Data\\SED\\affan_halide_series\\br_00\\20211117_180102\\20211117_180102.hdf\n",
      "Moved 20211117_180102.hdf well!\n",
      "F:\\PhD (and Midi)\\Data\\SED\\affan_halide_series\\br_06\\20211117_183334\\20211117_183334.hdf\n",
      "Moved 20211117_183334.hdf well!\n",
      "F:\\PhD (and Midi)\\Data\\SED\\affan_halide_series\\br_06\\20211117_183602\\20211117_183602.hdf\n",
      "Moved 20211117_183602.hdf well!\n",
      "F:\\PhD (and Midi)\\Data\\SED\\affan_halide_series\\br_06\\20211117_183826\\20211117_183826.hdf\n",
      "Moved 20211117_183826.hdf well!\n",
      "F:\\PhD (and Midi)\\Data\\SED\\affan_halide_series\\br_06\\20211117_184052\\20211117_184052.hdf\n",
      "Moved 20211117_184052.hdf well!\n",
      "F:\\PhD (and Midi)\\Data\\SED\\affan_halide_series\\br_06\\20211117_182016\\20211117_182016.hdf\n",
      "Moved 20211117_182016.hdf well!\n",
      "F:\\PhD (and Midi)\\Data\\SED\\affan_halide_series\\br_06\\20211117_182249\\20211117_182249.hdf\n",
      "Moved 20211117_182249.hdf well!\n",
      "F:\\PhD (and Midi)\\Data\\SED\\affan_halide_series\\br_06\\20211117_182521\\20211117_182521.hdf\n",
      "Moved 20211117_182521.hdf well!\n",
      "F:\\PhD (and Midi)\\Data\\SED\\affan_halide_series\\br_06\\20211117_182814\\20211117_182814.hdf\n",
      "Moved 20211117_182814.hdf well!\n",
      "F:\\PhD (and Midi)\\Data\\SED\\affan_halide_series\\br_06\\20211117_183104\\20211117_183104.hdf\n",
      "Moved 20211117_183104.hdf well!\n",
      "F:\\PhD (and Midi)\\Data\\SED\\affan_halide_series\\br_12\\20211117_193333\\20211117_193333.hdf\n",
      "Moved 20211117_193333.hdf well!\n",
      "F:\\PhD (and Midi)\\Data\\SED\\affan_halide_series\\br_12\\20211117_193606\\20211117_193606.hdf\n",
      "Moved 20211117_193606.hdf well!\n",
      "F:\\PhD (and Midi)\\Data\\SED\\affan_halide_series\\br_12\\20211117_193835\\20211117_193835.hdf\n",
      "Moved 20211117_193835.hdf well!\n",
      "F:\\PhD (and Midi)\\Data\\SED\\affan_halide_series\\br_12\\20211117_194107\\20211117_194107.hdf\n",
      "Moved 20211117_194107.hdf well!\n",
      "F:\\PhD (and Midi)\\Data\\SED\\affan_halide_series\\br_12\\20211117_191908\\20211117_191908.hdf\n",
      "Moved 20211117_191908.hdf well!\n",
      "F:\\PhD (and Midi)\\Data\\SED\\affan_halide_series\\br_12\\20211117_192134\\20211117_192134.hdf\n",
      "Moved 20211117_192134.hdf well!\n",
      "F:\\PhD (and Midi)\\Data\\SED\\affan_halide_series\\br_12\\20211117_192412\\20211117_192412.hdf\n",
      "Moved 20211117_192412.hdf well!\n",
      "F:\\PhD (and Midi)\\Data\\SED\\affan_halide_series\\br_12\\20211117_192755\\20211117_192755.hdf\n",
      "Moved 20211117_192755.hdf well!\n",
      "F:\\PhD (and Midi)\\Data\\SED\\affan_halide_series\\br_12\\20211117_193100\\20211117_193100.hdf\n",
      "Moved 20211117_193100.hdf well!\n",
      "F:\\PhD (and Midi)\\Data\\SED\\affan_halide_series\\br_17\\20211117_200053\\20211117_200053.hdf\n",
      "Moved 20211117_200053.hdf well!\n",
      "F:\\PhD (and Midi)\\Data\\SED\\affan_halide_series\\br_17\\20211117_200412\\20211117_200412.hdf\n",
      "Moved 20211117_200412.hdf well!\n",
      "F:\\PhD (and Midi)\\Data\\SED\\affan_halide_series\\br_17\\20211117_200646\\20211117_200646.hdf\n",
      "Moved 20211117_200646.hdf well!\n",
      "F:\\PhD (and Midi)\\Data\\SED\\affan_halide_series\\br_17\\20211117_200914\\20211117_200914.hdf\n",
      "Moved 20211117_200914.hdf well!\n",
      "F:\\PhD (and Midi)\\Data\\SED\\affan_halide_series\\br_17\\20211117_201152\\20211117_201152.hdf\n",
      "Moved 20211117_201152.hdf well!\n",
      "F:\\PhD (and Midi)\\Data\\SED\\affan_halide_series\\br_17\\20211117_195555\\20211117_195555.hdf\n",
      "Moved 20211117_195555.hdf well!\n",
      "F:\\PhD (and Midi)\\Data\\SED\\affan_halide_series\\br_17\\20211117_195820\\20211117_195820.hdf\n",
      "Moved 20211117_195820.hdf well!\n",
      "F:\\PhD (and Midi)\\Data\\SED\\affan_halide_series\\br_17\\20211117_195330\\20211117_195330.hdf\n",
      "Moved 20211117_195330.hdf well!\n"
     ]
    }
   ],
   "source": [
    "for f in  tqdm.tqdm_notebook(files[:]):\n",
    "    print(f)\n",
    "    f_dir = os.path.dirname(f)\n",
    "    f_name = os.path.basename(f)\n",
    "\n",
    "    f_dir_new = f_dir.replace(\"affan_halide_series\", \"affan_halide_series_data_md\")\n",
    "    f_name_new = f_name\n",
    "    f_new = os.path.join(f_dir_new, f_name_new)\n",
    "\n",
    "    if not os.path.exists(f_dir_new):\n",
    "        os.makedirs(f_dir_new)\n",
    "\n",
    "    shutil.copy2(f, f_new)\n",
    "    print(f\"Moved {f_name} well!\")"
   ],
   "metadata": {
    "collapsed": false,
    "pycharm": {
     "name": "#%%\n"
    }
   }
  },
  {
   "cell_type": "markdown",
   "source": [
    "# Check the mask file and edit it"
   ],
   "metadata": {
    "collapsed": false,
    "pycharm": {
     "name": "#%% md\n"
    }
   }
  },
  {
   "cell_type": "code",
   "execution_count": 22,
   "outputs": [
    {
     "data": {
      "text/plain": "<matplotlib.image.AxesImage at 0x17920d25b10>"
     },
     "execution_count": 22,
     "metadata": {},
     "output_type": "execute_result"
    }
   ],
   "source": [
    "%matplotlib qt\n",
    "import numpy as np\n",
    "import matplotlib.pyplot as plt\n",
    "import h5py\n",
    "import dask.array as da\n",
    "import os, glob\n",
    "\n",
    "mask_path = r\"F:\\PhD (and Midi)\\Data\\SED\\affan_halide_series_data_md\\mask_nov2021.npy\"\n",
    "data_file_path = r\"F:\\PhD (and Midi)\\Data\\SED\\affan_halide_series_data_md\\br_00\\20211117_174242\\20211117_174242_data.hdf5\"\n",
    "\n",
    "# Load mask and plot\n",
    "mask = np.load(mask_path)\n",
    "mask = mask.astype(bool)\n",
    "plt.imshow(mask)"
   ],
   "metadata": {
    "collapsed": false,
    "pycharm": {
     "name": "#%%\n"
    }
   }
  },
  {
   "cell_type": "code",
   "execution_count": 3,
   "outputs": [],
   "source": [
    "# Load the mean diffraction pattern and plot\n",
    "with h5py.File(data_file_path, 'r') as f:\n",
    "    f_dat = da.array(f['Experiments/__unnamed__/data'])\n",
    "    dp = f_dat.mean(axis=[0,1])\n",
    "    dp = dp.compute()"
   ],
   "metadata": {
    "collapsed": false,
    "pycharm": {
     "name": "#%%\n"
    }
   }
  },
  {
   "cell_type": "code",
   "execution_count": 4,
   "outputs": [
    {
     "data": {
      "text/plain": "<matplotlib.image.AxesImage at 0x179259f3520>"
     },
     "execution_count": 4,
     "metadata": {},
     "output_type": "execute_result"
    }
   ],
   "source": [
    "plt.imshow(dp, vmax=10)"
   ],
   "metadata": {
    "collapsed": false,
    "pycharm": {
     "name": "#%%\n"
    }
   }
  },
  {
   "cell_type": "code",
   "execution_count": 23,
   "outputs": [
    {
     "data": {
      "text/plain": "<matplotlib.image.AxesImage at 0x17920d54be0>"
     },
     "execution_count": 23,
     "metadata": {},
     "output_type": "execute_result"
    }
   ],
   "source": [
    "plt.imshow(dp * mask, vmax=1)"
   ],
   "metadata": {
    "collapsed": false,
    "pycharm": {
     "name": "#%%\n"
    }
   }
  },
  {
   "cell_type": "code",
   "execution_count": 20,
   "outputs": [
    {
     "data": {
      "text/plain": "<matplotlib.image.AxesImage at 0x1792b2d2380>"
     },
     "execution_count": 20,
     "metadata": {},
     "output_type": "execute_result"
    }
   ],
   "source": [
    "# Edit mask\n",
    "mask[260, 362] = False\n",
    "\n",
    "# Check if mask is OK again\n",
    "plt.figure()\n",
    "plt.imshow(dp * mask, vmax=1)"
   ],
   "metadata": {
    "collapsed": false,
    "pycharm": {
     "name": "#%%\n"
    }
   }
  },
  {
   "cell_type": "code",
   "execution_count": 21,
   "outputs": [],
   "source": [
    "# Save new mask\n",
    "path = r\"F:\\PhD (and Midi)\\Data\\SED\\affan_halide_series_data_md\\mask_nov2021.npy\"\n",
    "\n",
    "np.save(path, mask)"
   ],
   "metadata": {
    "collapsed": false,
    "pycharm": {
     "name": "#%%\n"
    }
   }
  },
  {
   "cell_type": "code",
   "execution_count": null,
   "outputs": [],
   "source": [],
   "metadata": {
    "collapsed": false,
    "pycharm": {
     "name": "#%%\n"
    }
   }
  }
 ],
 "metadata": {
  "kernelspec": {
   "display_name": "Python 3",
   "language": "python",
   "name": "python3"
  },
  "language_info": {
   "codemirror_mode": {
    "name": "ipython",
    "version": 2
   },
   "file_extension": ".py",
   "mimetype": "text/x-python",
   "name": "python",
   "nbconvert_exporter": "python",
   "pygments_lexer": "ipython2",
   "version": "2.7.6"
  }
 },
 "nbformat": 4,
 "nbformat_minor": 0
}