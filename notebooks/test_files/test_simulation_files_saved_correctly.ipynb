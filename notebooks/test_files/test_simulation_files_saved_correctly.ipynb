{
 "cells": [
  {
   "cell_type": "code",
   "execution_count": 28,
   "outputs": [],
   "source": [
    "import os, glob\n",
    "\n",
    "import matplotlib.pyplot as plt\n",
    "import numpy as np\n",
    "import h5py\n",
    "import dask.array as da"
   ],
   "metadata": {
    "collapsed": false,
    "pycharm": {
     "name": "#%%\n"
    }
   }
  },
  {
   "cell_type": "code",
   "execution_count": 132,
   "outputs": [
    {
     "data": {
      "text/plain": "dask.array<array, shape=(75000, 147, 360), dtype=float32, chunksize=(625, 147, 360), chunktype=numpy.ndarray>",
      "text/html": "<table>\n    <tr>\n        <td>\n            <table>\n                <thead>\n                    <tr>\n                        <td> </td>\n                        <th> Array </th>\n                        <th> Chunk </th>\n                    </tr>\n                </thead>\n                <tbody>\n                    \n                    <tr>\n                        <th> Bytes </th>\n                        <td> 14.79 GiB </td>\n                        <td> 126.17 MiB </td>\n                    </tr>\n                    \n                    <tr>\n                        <th> Shape </th>\n                        <td> (75000, 147, 360) </td>\n                        <td> (625, 147, 360) </td>\n                    </tr>\n                    <tr>\n                        <th> Count </th>\n                        <td> 121 Tasks </td>\n                        <td> 120 Chunks </td>\n                    </tr>\n                    <tr>\n                    <th> Type </th>\n                    <td> float32 </td>\n                    <td> numpy.ndarray </td>\n                    </tr>\n                </tbody>\n            </table>\n        </td>\n        <td>\n        <svg width=\"156\" height=\"146\" style=\"stroke:rgb(0,0,0);stroke-width:1\" >\n\n  <!-- Horizontal lines -->\n  <line x1=\"10\" y1=\"0\" x2=\"80\" y2=\"70\" style=\"stroke-width:2\" />\n  <line x1=\"10\" y1=\"25\" x2=\"80\" y2=\"96\" style=\"stroke-width:2\" />\n\n  <!-- Vertical lines -->\n  <line x1=\"10\" y1=\"0\" x2=\"10\" y2=\"25\" style=\"stroke-width:2\" />\n  <line x1=\"13\" y1=\"3\" x2=\"13\" y2=\"28\" />\n  <line x1=\"17\" y1=\"7\" x2=\"17\" y2=\"32\" />\n  <line x1=\"20\" y1=\"10\" x2=\"20\" y2=\"36\" />\n  <line x1=\"24\" y1=\"14\" x2=\"24\" y2=\"40\" />\n  <line x1=\"28\" y1=\"18\" x2=\"28\" y2=\"43\" />\n  <line x1=\"31\" y1=\"21\" x2=\"31\" y2=\"47\" />\n  <line x1=\"35\" y1=\"25\" x2=\"35\" y2=\"51\" />\n  <line x1=\"39\" y1=\"29\" x2=\"39\" y2=\"54\" />\n  <line x1=\"42\" y1=\"32\" x2=\"42\" y2=\"58\" />\n  <line x1=\"47\" y1=\"37\" x2=\"47\" y2=\"62\" />\n  <line x1=\"50\" y1=\"40\" x2=\"50\" y2=\"66\" />\n  <line x1=\"54\" y1=\"44\" x2=\"54\" y2=\"69\" />\n  <line x1=\"58\" y1=\"48\" x2=\"58\" y2=\"73\" />\n  <line x1=\"61\" y1=\"51\" x2=\"61\" y2=\"77\" />\n  <line x1=\"65\" y1=\"55\" x2=\"65\" y2=\"80\" />\n  <line x1=\"69\" y1=\"59\" x2=\"69\" y2=\"84\" />\n  <line x1=\"72\" y1=\"62\" x2=\"72\" y2=\"88\" />\n  <line x1=\"76\" y1=\"66\" x2=\"76\" y2=\"91\" />\n  <line x1=\"80\" y1=\"70\" x2=\"80\" y2=\"96\" style=\"stroke-width:2\" />\n\n  <!-- Colored Rectangle -->\n  <polygon points=\"10.0,0.0 80.58823529411765,70.58823529411765 80.58823529411765,96.00085180870013 10.0,25.412616514582485\" style=\"fill:#8B4903A0;stroke-width:0\"/>\n\n  <!-- Horizontal lines -->\n  <line x1=\"10\" y1=\"0\" x2=\"35\" y2=\"0\" style=\"stroke-width:2\" />\n  <line x1=\"13\" y1=\"3\" x2=\"38\" y2=\"3\" />\n  <line x1=\"17\" y1=\"7\" x2=\"42\" y2=\"7\" />\n  <line x1=\"20\" y1=\"10\" x2=\"46\" y2=\"10\" />\n  <line x1=\"24\" y1=\"14\" x2=\"50\" y2=\"14\" />\n  <line x1=\"28\" y1=\"18\" x2=\"53\" y2=\"18\" />\n  <line x1=\"31\" y1=\"21\" x2=\"57\" y2=\"21\" />\n  <line x1=\"35\" y1=\"25\" x2=\"61\" y2=\"25\" />\n  <line x1=\"39\" y1=\"29\" x2=\"64\" y2=\"29\" />\n  <line x1=\"42\" y1=\"32\" x2=\"68\" y2=\"32\" />\n  <line x1=\"47\" y1=\"37\" x2=\"72\" y2=\"37\" />\n  <line x1=\"50\" y1=\"40\" x2=\"76\" y2=\"40\" />\n  <line x1=\"54\" y1=\"44\" x2=\"79\" y2=\"44\" />\n  <line x1=\"58\" y1=\"48\" x2=\"83\" y2=\"48\" />\n  <line x1=\"61\" y1=\"51\" x2=\"87\" y2=\"51\" />\n  <line x1=\"65\" y1=\"55\" x2=\"90\" y2=\"55\" />\n  <line x1=\"69\" y1=\"59\" x2=\"94\" y2=\"59\" />\n  <line x1=\"72\" y1=\"62\" x2=\"98\" y2=\"62\" />\n  <line x1=\"76\" y1=\"66\" x2=\"101\" y2=\"66\" />\n  <line x1=\"80\" y1=\"70\" x2=\"106\" y2=\"70\" style=\"stroke-width:2\" />\n\n  <!-- Vertical lines -->\n  <line x1=\"10\" y1=\"0\" x2=\"80\" y2=\"70\" style=\"stroke-width:2\" />\n  <line x1=\"35\" y1=\"0\" x2=\"106\" y2=\"70\" style=\"stroke-width:2\" />\n\n  <!-- Colored Rectangle -->\n  <polygon points=\"10.0,0.0 35.41261651458249,0.0 106.00085180870013,70.58823529411765 80.58823529411765,70.58823529411765\" style=\"fill:#8B4903A0;stroke-width:0\"/>\n\n  <!-- Horizontal lines -->\n  <line x1=\"80\" y1=\"70\" x2=\"106\" y2=\"70\" style=\"stroke-width:2\" />\n  <line x1=\"80\" y1=\"96\" x2=\"106\" y2=\"96\" style=\"stroke-width:2\" />\n\n  <!-- Vertical lines -->\n  <line x1=\"80\" y1=\"70\" x2=\"80\" y2=\"96\" style=\"stroke-width:2\" />\n  <line x1=\"106\" y1=\"70\" x2=\"106\" y2=\"96\" style=\"stroke-width:2\" />\n\n  <!-- Colored Rectangle -->\n  <polygon points=\"80.58823529411765,70.58823529411765 106.00085180870013,70.58823529411765 106.00085180870013,96.00085180870013 80.58823529411765,96.00085180870013\" style=\"fill:#ECB172A0;stroke-width:0\"/>\n\n  <!-- Text -->\n  <text x=\"93.294544\" y=\"116.000852\" font-size=\"1.0rem\" font-weight=\"100\" text-anchor=\"middle\" >360</text>\n  <text x=\"126.000852\" y=\"83.294544\" font-size=\"1.0rem\" font-weight=\"100\" text-anchor=\"middle\" transform=\"rotate(-90,126.000852,83.294544)\">147</text>\n  <text x=\"35.294118\" y=\"80.706734\" font-size=\"1.0rem\" font-weight=\"100\" text-anchor=\"middle\" transform=\"rotate(45,35.294118,80.706734)\">75000</text>\n</svg>\n        </td>\n    </tr>\n</table>"
     },
     "execution_count": 132,
     "metadata": {},
     "output_type": "execute_result"
    }
   ],
   "source": [
    "# Load simulation data\n",
    "\n",
    "sim_data_path = r\"C:\\Users\\Sauron\\Documents\\GitHub\\strankslab\\ml_difsims\\data\\simulations\\sim-e5992817-2d99-413c-9191-29cb5aa412ed.hdf5\"\n",
    "\n",
    "## Load data\n",
    "with h5py.File(sim_data_path, 'r') as f:\n",
    "    sim_data = f['2d'][f'x_px']\n",
    "    sim_data = da.array(sim_data)\n",
    "    sim_labels = f['2d'][f'y_px']\n",
    "    sim_labels = da.array(sim_labels).compute()\n",
    "    phase_names = f['metadata'].attrs['phases']\n",
    "    x = sim_data[0:2].compute()\n",
    "    q_axis = f['1d']['x_all_q_axis']\n",
    "    q_axis = np.array(q_axis)\n",
    "\n",
    "phase_names = [s for s in phase_names]\n",
    "\n",
    "# Reshape to just (data, label)\n",
    "#sim_data = sim_data.reshape(-1, sim_data.shape[-1])\n",
    "# import matplotlib.pyplot as plt\n",
    "# plt.imshow(x)\n",
    "\n",
    "sim_data"
   ],
   "metadata": {
    "collapsed": false,
    "pycharm": {
     "name": "#%%\n"
    }
   }
  },
  {
   "cell_type": "code",
   "execution_count": 89,
   "outputs": [
    {
     "data": {
      "text/plain": "(3,)"
     },
     "execution_count": 89,
     "metadata": {},
     "output_type": "execute_result"
    }
   ],
   "source": [
    "sim_labels.shape"
   ],
   "metadata": {
    "collapsed": false,
    "pycharm": {
     "name": "#%%\n"
    }
   }
  },
  {
   "cell_type": "code",
   "execution_count": 25,
   "outputs": [
    {
     "data": {
      "text/plain": "['p4mbm_scaled_mixed_halide', 'gratia_2h', 'pbi2_2h']"
     },
     "execution_count": 25,
     "metadata": {},
     "output_type": "execute_result"
    }
   ],
   "source": [
    "phase_names"
   ],
   "metadata": {
    "collapsed": false,
    "pycharm": {
     "name": "#%%\n"
    }
   }
  },
  {
   "cell_type": "code",
   "execution_count": 144,
   "outputs": [
    {
     "data": {
      "text/plain": "(2, 147, 360)"
     },
     "execution_count": 144,
     "metadata": {},
     "output_type": "execute_result"
    }
   ],
   "source": [
    "x.shape"
   ],
   "metadata": {
    "collapsed": false,
    "pycharm": {
     "name": "#%%\n"
    }
   }
  },
  {
   "cell_type": "code",
   "execution_count": 226,
   "outputs": [
    {
     "name": "stdout",
     "output_type": "stream",
     "text": [
      "(1, 147)\n",
      "(2, 147, 360)\n"
     ]
    },
    {
     "data": {
      "text/plain": "array([[0.76380579, 0.74813786, 0.73279133, 0.7177596 , 0.70303622,\n        0.68861486, 0.67448932, 0.66065354, 0.64710157, 0.63382759,\n        0.6208259 , 0.60809092, 0.59561717, 0.58339929, 0.57143203,\n        0.55971026, 0.54822894, 0.53698314, 0.52596801, 0.51517885,\n        0.504611  , 0.49425993, 0.48412118, 0.47419042, 0.46446336,\n        0.45493584, 0.44560375, 0.4364631 , 0.42750994, 0.41874044,\n        0.41015083, 0.40173742, 0.39349659, 0.3854248 , 0.37751859,\n        0.36977456, 0.36218939, 0.35475981, 0.34748263, 0.34035473,\n        0.33337304, 0.32653457, 0.31983637, 0.31327558, 0.30684936,\n        0.30055497, 0.2943897 , 0.28835089, 0.28243595, 0.27664235,\n        0.2709676 , 0.26540924, 0.25996491, 0.25463226, 0.24940899,\n        0.24429287, 0.2392817 , 0.23437332, 0.22956563, 0.22485655,\n        0.22024408, 0.21572622, 0.21130103, 0.20696662, 0.20272112,\n        0.19856271, 0.19448959, 0.19050003, 0.18659231, 0.18276475,\n        0.1790157 , 0.17534356, 0.17174674, 0.1682237 , 0.16477293,\n        0.16139295, 0.1580823 , 0.15483956, 0.15166334, 0.14855228,\n        0.14550503, 0.14252029, 0.13959677, 0.13673323, 0.13392842,\n        0.13118115, 0.12849024, 0.12585452, 0.12327287, 0.12074418,\n        0.11826736, 0.11584134, 0.11346509, 0.11113758, 0.10885782,\n        0.10662482, 0.10443763, 0.10229531, 0.10019692, 0.09814159,\n        0.09612841, 0.09415653, 0.0922251 , 0.09033329, 0.08848029,\n        0.08666529, 0.08488753, 0.08314623, 0.08144066, 0.07977007,\n        0.07813375, 0.07653099, 0.07496111, 0.07342344, 0.0719173 ,\n        0.07044207, 0.06899709, 0.06758176, 0.06619545, 0.06483759,\n        0.06350758, 0.06220485, 0.06092884, 0.05967901, 0.05845481,\n        0.05725573, 0.05608125, 0.05493085, 0.05380406, 0.05270038,\n        0.05161934, 0.05056047, 0.04952332, 0.04850745, 0.04751242,\n        0.0465378 , 0.04558317, 0.04464813, 0.04373226, 0.04283518,\n        0.0419565 , 0.04109585, 0.04025285, 0.03942715, 0.03861838,\n        0.0378262 , 0.03705027]])"
     },
     "execution_count": 226,
     "metadata": {},
     "output_type": "execute_result"
    }
   ],
   "source": [
    "q = q_axis[13:160]\n",
    "\n",
    "def exp_decay(x, A, tau):\n",
    "    return A * np.exp(- tau * x)\n",
    "\n",
    "a, tau = np.array([1]), np.array([2.5])\n",
    "# Do array broadcasting to calculate function\n",
    "a_val = np.array(a[:, np.newaxis], dtype=float)\n",
    "tau_val = np.array(tau[:, np.newaxis], dtype=float)\n",
    "\n",
    "bkg = exp_decay(q, a_val, tau_val)\n",
    "print(bkg.shape)\n",
    "print(x.shape)\n",
    "bkg"
   ],
   "metadata": {
    "collapsed": false,
    "pycharm": {
     "name": "#%%\n"
    }
   }
  },
  {
   "cell_type": "code",
   "execution_count": 227,
   "outputs": [],
   "source": [
    "dat_shape = x.shape[-2:]\n",
    "n_angles = dat_shape[-1]\n",
    "nav_size = bkg.shape[0]\n",
    "\n",
    "bkg_2d = np.repeat(bkg[:,:,np.newaxis], n_angles, axis=-1)\n",
    "x_bkg = bkg_2d + x[0]"
   ],
   "metadata": {
    "collapsed": false,
    "pycharm": {
     "name": "#%%\n"
    }
   }
  },
  {
   "cell_type": "code",
   "execution_count": 230,
   "outputs": [
    {
     "data": {
      "text/plain": "<matplotlib.image.AxesImage at 0x154817f7c40>"
     },
     "execution_count": 230,
     "metadata": {},
     "output_type": "execute_result"
    },
    {
     "data": {
      "text/plain": "<Figure size 432x288 with 1 Axes>",
      "image/png": "[encoded data removed]"
     },
     "metadata": {
      "needs_background": "light"
     },
     "output_type": "display_data"
    }
   ],
   "source": [
    "plt.imshow(x_bkg[0])"
   ],
   "metadata": {
    "collapsed": false,
    "pycharm": {
     "name": "#%%\n"
    }
   }
  },
  {
   "cell_type": "code",
   "execution_count": 164,
   "outputs": [
    {
     "data": {
      "text/plain": "<matplotlib.image.AxesImage at 0x154810134c0>"
     },
     "execution_count": 164,
     "metadata": {},
     "output_type": "execute_result"
    },
    {
     "data": {
      "text/plain": "<Figure size 432x288 with 1 Axes>",
      "image/png": "[encoded data removed]"
     },
     "metadata": {
      "needs_background": "light"
     },
     "output_type": "display_data"
    }
   ],
   "source": [
    "plt.imshow(x[0])"
   ],
   "metadata": {
    "collapsed": false,
    "pycharm": {
     "name": "#%%\n"
    }
   }
  },
  {
   "cell_type": "code",
   "execution_count": null,
   "outputs": [],
   "source": [
    "np.array(x).max([-2,-1])"
   ],
   "metadata": {
    "collapsed": false,
    "pycharm": {
     "name": "#%%\n"
    }
   }
  },
  {
   "cell_type": "code",
   "execution_count": 131,
   "outputs": [
    {
     "ename": "TypeError",
     "evalue": "'list' object cannot be interpreted as an integer",
     "output_type": "error",
     "traceback": [
      "\u001B[1;31m---------------------------------------------------------------------------\u001B[0m",
      "\u001B[1;31mTypeError\u001B[0m                                 Traceback (most recent call last)",
      "Input \u001B[1;32mIn [131]\u001B[0m, in \u001B[0;36m<module>\u001B[1;34m\u001B[0m\n\u001B[1;32m----> 1\u001B[0m \u001B[43mx\u001B[49m\u001B[38;5;241;43m.\u001B[39;49m\u001B[43mmax\u001B[49m\u001B[43m(\u001B[49m\u001B[43m[\u001B[49m\u001B[38;5;241;43m-\u001B[39;49m\u001B[38;5;241;43m2\u001B[39;49m\u001B[43m,\u001B[49m\u001B[43m \u001B[49m\u001B[38;5;241;43m-\u001B[39;49m\u001B[38;5;241;43m1\u001B[39;49m\u001B[43m]\u001B[49m\u001B[43m)\u001B[49m\n",
      "File \u001B[1;32m~\\anaconda3\\envs\\jf631-pyxem\\lib\\site-packages\\numpy\\core\\_methods.py:40\u001B[0m, in \u001B[0;36m_amax\u001B[1;34m(a, axis, out, keepdims, initial, where)\u001B[0m\n\u001B[0;32m     38\u001B[0m \u001B[38;5;28;01mdef\u001B[39;00m \u001B[38;5;21m_amax\u001B[39m(a, axis\u001B[38;5;241m=\u001B[39m\u001B[38;5;28;01mNone\u001B[39;00m, out\u001B[38;5;241m=\u001B[39m\u001B[38;5;28;01mNone\u001B[39;00m, keepdims\u001B[38;5;241m=\u001B[39m\u001B[38;5;28;01mFalse\u001B[39;00m,\n\u001B[0;32m     39\u001B[0m           initial\u001B[38;5;241m=\u001B[39m_NoValue, where\u001B[38;5;241m=\u001B[39m\u001B[38;5;28;01mTrue\u001B[39;00m):\n\u001B[1;32m---> 40\u001B[0m     \u001B[38;5;28;01mreturn\u001B[39;00m \u001B[43mumr_maximum\u001B[49m\u001B[43m(\u001B[49m\u001B[43ma\u001B[49m\u001B[43m,\u001B[49m\u001B[43m \u001B[49m\u001B[43maxis\u001B[49m\u001B[43m,\u001B[49m\u001B[43m \u001B[49m\u001B[38;5;28;43;01mNone\u001B[39;49;00m\u001B[43m,\u001B[49m\u001B[43m \u001B[49m\u001B[43mout\u001B[49m\u001B[43m,\u001B[49m\u001B[43m \u001B[49m\u001B[43mkeepdims\u001B[49m\u001B[43m,\u001B[49m\u001B[43m \u001B[49m\u001B[43minitial\u001B[49m\u001B[43m,\u001B[49m\u001B[43m \u001B[49m\u001B[43mwhere\u001B[49m\u001B[43m)\u001B[49m\n",
      "\u001B[1;31mTypeError\u001B[0m: 'list' object cannot be interpreted as an integer"
     ]
    }
   ],
   "source": [
    "x.max([-2, -1])"
   ],
   "metadata": {
    "collapsed": false,
    "pycharm": {
     "name": "#%%\n"
    }
   }
  },
  {
   "cell_type": "code",
   "execution_count": null,
   "outputs": [],
   "source": [],
   "metadata": {
    "collapsed": false,
    "pycharm": {
     "name": "#%%\n"
    }
   }
  }
 ],
 "metadata": {
  "kernelspec": {
   "display_name": "Python 3",
   "language": "python",
   "name": "python3"
  },
  "language_info": {
   "codemirror_mode": {
    "name": "ipython",
    "version": 2
   },
   "file_extension": ".py",
   "mimetype": "text/x-python",
   "name": "python",
   "nbconvert_exporter": "python",
   "pygments_lexer": "ipython2",
   "version": "2.7.6"
  }
 },
 "nbformat": 4,
 "nbformat_minor": 0
}