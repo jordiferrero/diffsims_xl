{
 "cells": [
  {
   "cell_type": "code",
   "execution_count": 9,
   "outputs": [],
   "source": [
    "from pyFAI.azimuthalIntegrator import AzimuthalIntegrator\n",
    "%matplotlib qt\n",
    "import pyxem as pxm\n",
    "import hyperspy.api as hs\n",
    "import os, glob, tqdm\n",
    "import gc\n",
    "import numpy as np\n",
    "from diffsims.utils.sim_utils import get_electron_wavelength"
   ],
   "metadata": {
    "collapsed": false,
    "pycharm": {
     "name": "#%%\n"
    }
   }
  },
  {
   "cell_type": "code",
   "execution_count": 26,
   "outputs": [
    {
     "data": {
      "text/plain": "['G:\\\\My Drive\\\\PhD\\\\projects\\\\external_measurements\\\\ml_difsims\\\\data/experimental\\\\20200209_163154_centre_rebin_correct_rb_fullscan.hspy',\n 'G:\\\\My Drive\\\\PhD\\\\projects\\\\external_measurements\\\\ml_difsims\\\\data/experimental\\\\20220126_142402_rebin_nav_2.hspy',\n 'G:\\\\My Drive\\\\PhD\\\\projects\\\\external_measurements\\\\ml_difsims\\\\data/experimental\\\\roi_3_rebin.hspy',\n 'G:\\\\My Drive\\\\PhD\\\\projects\\\\external_measurements\\\\ml_difsims\\\\data/experimental\\\\roi_4_rebin.hspy']"
     },
     "execution_count": 26,
     "metadata": {},
     "output_type": "execute_result"
    }
   ],
   "source": [
    "root = r'G:\\My Drive\\PhD\\projects\\external_measurements\\ml_difsims'\n",
    "folder = 'data/experimental'\n",
    "file_extension = '*.hspy'\n",
    "\n",
    "path = os.path.join(root, folder, file_extension)\n",
    "paths = glob.glob(path)\n",
    "paths = [p for p in paths if 'radial' not in p]\n",
    "paths.sort()\n",
    "paths"
   ],
   "metadata": {
    "collapsed": false,
    "pycharm": {
     "name": "#%%\n"
    }
   }
  },
  {
   "cell_type": "code",
   "execution_count": 49,
   "outputs": [
    {
     "name": "stderr",
     "output_type": "stream",
     "text": [
      "  0%|          | 0/1 [00:00<?, ?it/s]"
     ]
    },
    {
     "name": "stdout",
     "output_type": "stream",
     "text": [
      "G:\\My Drive\\PhD\\projects\\external_measurements\\ml_difsims\\data/experimental\\20220126_142402_rebin_nav_2.hspy\n"
     ]
    },
    {
     "name": "stderr",
     "output_type": "stream",
     "text": [
      "C:\\Users\\jf631\\miniconda3\\envs\\pyxem_new\\lib\\site-packages\\hyperspy\\misc\\utils.py:471: VisibleDeprecationWarning: Use of the `binned` attribute in metadata is going to be deprecated in v2.0. Set the `axis.is_binned` attribute instead. \n",
      "  warnings.warn(\n",
      "C:\\Users\\jf631\\miniconda3\\envs\\pyxem_new\\lib\\site-packages\\hyperspy\\io.py:560: VisibleDeprecationWarning: Loading old file version. The binned attribute has been moved from metadata.Signal to axis.is_binned. Setting this attribute for all signal axes instead.\n",
      "  warnings.warn('Loading old file version. The binned attribute '\n",
      "WARNING:pyFAI.geometry:No fast path for space: k\n"
     ]
    },
    {
     "name": "stdout",
     "output_type": "stream",
     "text": [
      "<ElectronDiffraction1D, title: , dimensions: (127, 127|160)>\n"
     ]
    },
    {
     "name": "stderr",
     "output_type": "stream",
     "text": [
      "ERROR:hyperspy.io_plugins._hierarchical:The writer could not write the following information in the file: ai : Detector Detector\t Spline= None\t PixelSize= 1.379e-04, 1.379e-04 m\r\n",
      "Wavelength= 2.507934e-12m\r\n",
      "SampleDetDist= 1.000000e+00m\tPONI= 2.206982e-02, 2.206982e-02m\trot1=0.000000  rot2= 0.000000  rot3= 0.000000 rad\r\n",
      "DirectBeamDist= 1000.000mm\tCenter: x=160.000, y=160.000 pix\tTilt=0.000 deg  tiltPlanRotation= 0.000 deg\n",
      "Traceback (most recent call last):\n",
      "  File \"C:\\Users\\jf631\\miniconda3\\envs\\pyxem_new\\lib\\site-packages\\hyperspy\\io_plugins\\_hierarchical.py\", line 774, in dict2group\n",
      "    group.attrs[key] = value\n",
      "  File \"h5py\\_objects.pyx\", line 54, in h5py._objects.with_phil.wrapper\n",
      "  File \"h5py\\_objects.pyx\", line 55, in h5py._objects.with_phil.wrapper\n",
      "  File \"C:\\Users\\jf631\\miniconda3\\envs\\pyxem_new\\lib\\site-packages\\h5py\\_hl\\attrs.py\", line 103, in __setitem__\n",
      "    self.create(name, data=value)\n",
      "  File \"C:\\Users\\jf631\\miniconda3\\envs\\pyxem_new\\lib\\site-packages\\h5py\\_hl\\attrs.py\", line 180, in create\n",
      "    htype = h5t.py_create(original_dtype, logical=True)\n",
      "  File \"h5py\\h5t.pyx\", line 1663, in h5py.h5t.py_create\n",
      "  File \"h5py\\h5t.pyx\", line 1687, in h5py.h5t.py_create\n",
      "  File \"h5py\\h5t.pyx\", line 1747, in h5py.h5t.py_create\n",
      "TypeError: Object dtype dtype('O') has no native HDF5 equivalent\n",
      "100%|██████████| 1/1 [02:00<00:00, 120.29s/it]\n"
     ]
    }
   ],
   "source": [
    "from pyxem.detectors import Medipix515x515Detector\n",
    "\n",
    "# Simulation microscope values (for azimuthal integration)\n",
    "beam_energy = 200.0  #keV\n",
    "detector_pix_size = 55e-6  #m\n",
    "\n",
    "for p in tqdm.tqdm(paths[1:2]):\n",
    "    print(p)\n",
    "    dp = hs.load(p, signal_type='electron_diffraction')\n",
    "\n",
    "    calibration = dp.axes_manager.signal_axes[0].scale\n",
    "    detector_size = dp.axes_manager.signal_axes[0].size\n",
    "    radial_steps = int(np.ceil((int(detector_size / 2) - 1) / 2) * 2)\n",
    "\n",
    "    # # Old way (pyxem way):\n",
    "    #dp.set_diffraction_calibration(calibration)\n",
    "    dp.unit = \"k_A^-1\"\n",
    "    dp.set_experimental_parameters(beam_energy=beam_energy)\n",
    "    dp.set_ai(center=([detector_size / 2, detector_size / 2]))\n",
    "\n",
    "    # New way (pyFAI)\n",
    "    # detector = Medipix515x515Detector()\n",
    "    # wavelength = get_electron_wavelength(beam_energy) * 1e-10\n",
    "    # camera_length = detector_pix_size / (wavelength * calibration * 1e10)\n",
    "    # center = ([detector_size / 2, detector_size / 2])\n",
    "    # unit = \"k_A^-1\"\n",
    "    # dp.unit = unit\n",
    "    # ai = AzimuthalIntegrator(dist=camera_length, detector=detector, wavelength=wavelength)\n",
    "    # ai.setFit2D(directDist=camera_length * 1000, centerX=center[1], centerY=center[0])\n",
    "    # dp.metadata.set_item(\"Signal.ai\", ai)\n",
    "\n",
    "    radial = dp.get_azimuthal_integral1d(npt=radial_steps)\n",
    "    print(radial)\n",
    "    name = \"{}_radial.hspy\".format(os.path.basename(p).split('.')[0])\n",
    "    radial.save(os.path.join(os.path.dirname(p), name), overwrite=True)\n",
    "    gc.collect()\n"
   ],
   "metadata": {
    "collapsed": false,
    "pycharm": {
     "name": "#%%\n"
    }
   }
  },
  {
   "cell_type": "code",
   "execution_count": 42,
   "outputs": [],
   "source": [
    "radial.isig[0.11:1.30].plot()\n",
    "dp.plot()"
   ],
   "metadata": {
    "collapsed": false,
    "pycharm": {
     "name": "#%%\n"
    }
   }
  },
  {
   "cell_type": "code",
   "execution_count": 50,
   "outputs": [],
   "source": [
    "radial.isig[0.11:1.30].sum().plot()"
   ],
   "metadata": {
    "collapsed": false,
    "pycharm": {
     "name": "#%%\n"
    }
   }
  },
  {
   "cell_type": "code",
   "execution_count": 51,
   "outputs": [
    {
     "data": {
      "text/plain": "<ElectronDiffraction1D, title: , dimensions: (127, 127|160)>"
     },
     "execution_count": 51,
     "metadata": {},
     "output_type": "execute_result"
    }
   ],
   "source": [
    "radial"
   ],
   "metadata": {
    "collapsed": false,
    "pycharm": {
     "name": "#%%\n"
    }
   }
  },
  {
   "cell_type": "code",
   "execution_count": null,
   "outputs": [],
   "source": [],
   "metadata": {
    "collapsed": false,
    "pycharm": {
     "name": "#%%\n"
    }
   }
  }
 ],
 "metadata": {
  "kernelspec": {
   "display_name": "Python 3",
   "language": "python",
   "name": "python3"
  },
  "language_info": {
   "codemirror_mode": {
    "name": "ipython",
    "version": 2
   },
   "file_extension": ".py",
   "mimetype": "text/x-python",
   "name": "python",
   "nbconvert_exporter": "python",
   "pygments_lexer": "ipython2",
   "version": "2.7.6"
  }
 },
 "nbformat": 4,
 "nbformat_minor": 0
}